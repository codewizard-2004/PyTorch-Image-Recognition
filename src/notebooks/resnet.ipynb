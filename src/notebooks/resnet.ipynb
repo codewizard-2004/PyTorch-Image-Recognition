{
 "cells": [
  {
   "cell_type": "markdown",
   "id": "d9ea7676",
   "metadata": {},
   "source": [
    "# creating pizza_steak_sushi model using resNet"
   ]
  },
  {
   "cell_type": "code",
   "execution_count": 1,
   "id": "cd3ebb1a",
   "metadata": {},
   "outputs": [
    {
     "data": {
      "text/plain": [
       "'cuda'"
      ]
     },
     "execution_count": 1,
     "metadata": {},
     "output_type": "execute_result"
    }
   ],
   "source": [
    "import torch\n",
    "from torch import nn\n",
    "from torchvision import models, transforms\n",
    "from torch.utils.data import DataLoader\n",
    "from torchvision.datasets import ImageFolder\n",
    "import os\n",
    "import sys\n",
    "from pathlib import Path\n",
    "\n",
    "sys.path.append(os.path.abspath(\"..\"))\n",
    "\n",
    "device = \"cuda\" if torch.cuda.is_available() else \"cpu\"\n",
    "device"
   ]
  },
  {
   "cell_type": "markdown",
   "id": "2e7952bf",
   "metadata": {},
   "source": [
    "## creating the transforms"
   ]
  },
  {
   "cell_type": "code",
   "execution_count": 2,
   "id": "9ef60304",
   "metadata": {},
   "outputs": [
    {
     "name": "stdout",
     "output_type": "stream",
     "text": [
      "Train transform: Compose(\n",
      "    Resize(size=(224, 224), interpolation=bilinear, max_size=None, antialias=True)\n",
      "    RandomHorizontalFlip(p=0.5)\n",
      "    RandomRotation(degrees=[-10.0, 10.0], interpolation=nearest, expand=False, fill=0)\n",
      "    ColorJitter(brightness=(0.8, 1.2), contrast=(0.8, 1.2), saturation=None, hue=None)\n",
      "    ToTensor()\n",
      "    Normalize(mean=[0.485, 0.456, 0.406], std=[0.229, 0.224, 0.225])\n",
      ")\n",
      "Test transform: Compose(\n",
      "    Resize(size=(224, 224), interpolation=bilinear, max_size=None, antialias=True)\n",
      "    ToTensor()\n",
      "    Normalize(mean=[0.485, 0.456, 0.406], std=[0.229, 0.224, 0.225])\n",
      ")\n"
     ]
    }
   ],
   "source": [
    "mean, std = [0.485, 0.456, 0.406], [0.229, 0.224, 0.225]\n",
    "\n",
    "train_transform = transforms.Compose([\n",
    "    transforms.Resize((224, 224)),\n",
    "    transforms.RandomHorizontalFlip(),\n",
    "    transforms.RandomRotation(10),\n",
    "    transforms.ColorJitter(brightness=0.2, contrast=0.2),\n",
    "    #transforms.TrivialAugmentWide(),  # Still lightweight\n",
    "    transforms.ToTensor(),\n",
    "    transforms.Normalize(mean, std)\n",
    "])\n",
    "\n",
    "\n",
    "test_transform = transforms.Compose([\n",
    "    transforms.Resize(size = (224 , 224)),\n",
    "    transforms.ToTensor(),\n",
    "    transforms.Normalize(                     # Normalize to ImageNet mean/std\n",
    "        mean, std\n",
    "    )\n",
    "])\n",
    "\n",
    "print(f\"Train transform: {train_transform}\")\n",
    "print(f\"Test transform: {test_transform}\")"
   ]
  },
  {
   "cell_type": "markdown",
   "id": "11b43a05",
   "metadata": {},
   "source": [
    "## create dataset"
   ]
  },
  {
   "cell_type": "code",
   "execution_count": 3,
   "id": "dbe5eb71",
   "metadata": {},
   "outputs": [],
   "source": [
    "data_dir = Path(\"./pizza_steak_sushi\")\n",
    "train_dir = data_dir / \"train\"\n",
    "test_dir = data_dir / \"test\""
   ]
  },
  {
   "cell_type": "code",
   "execution_count": 4,
   "id": "a5ca5210",
   "metadata": {},
   "outputs": [],
   "source": [
    "train_dataset = ImageFolder(\n",
    "    root=train_dir,\n",
    "    transform=train_transform,\n",
    ")\n",
    "\n",
    "test_dataset = ImageFolder(\n",
    "    root=test_dir,\n",
    "    transform=test_transform\n",
    ")"
   ]
  },
  {
   "cell_type": "markdown",
   "id": "c50d239a",
   "metadata": {},
   "source": [
    "## Create DataLoader"
   ]
  },
  {
   "cell_type": "code",
   "execution_count": 5,
   "id": "8bdf0ca6",
   "metadata": {},
   "outputs": [
    {
     "name": "stdout",
     "output_type": "stream",
     "text": [
      "<torch.utils.data.dataloader.DataLoader object at 0x0000017FE93B8B10>\n",
      "<torch.utils.data.dataloader.DataLoader object at 0x0000017FE93E3F10>\n"
     ]
    }
   ],
   "source": [
    "train_loader = DataLoader(\n",
    "    dataset=train_dataset,\n",
    "    batch_size=32,\n",
    "    shuffle=True,\n",
    "    num_workers=0,\n",
    "    pin_memory=True\n",
    ")\n",
    "\n",
    "test_loader = DataLoader(\n",
    "    dataset=test_dataset,\n",
    "    batch_size=32,\n",
    "    shuffle=False,\n",
    "    pin_memory=True\n",
    ")\n",
    "\n",
    "print(train_loader)\n",
    "print(test_loader)"
   ]
  },
  {
   "cell_type": "markdown",
   "id": "d5067eea",
   "metadata": {},
   "source": [
    "## Load Pretrained ResNet18"
   ]
  },
  {
   "cell_type": "code",
   "execution_count": 6,
   "id": "ba212209",
   "metadata": {},
   "outputs": [
    {
     "name": "stderr",
     "output_type": "stream",
     "text": [
      "d:\\FoodNet\\mlvenv\\Lib\\site-packages\\torchvision\\models\\_utils.py:208: UserWarning: The parameter 'pretrained' is deprecated since 0.13 and may be removed in the future, please use 'weights' instead.\n",
      "  warnings.warn(\n",
      "d:\\FoodNet\\mlvenv\\Lib\\site-packages\\torchvision\\models\\_utils.py:223: UserWarning: Arguments other than a weight enum or `None` for 'weights' are deprecated since 0.13 and may be removed in the future. The current behavior is equivalent to passing `weights=ResNet18_Weights.IMAGENET1K_V1`. You can also use `weights=ResNet18_Weights.DEFAULT` to get the most up-to-date weights.\n",
      "  warnings.warn(msg)\n"
     ]
    }
   ],
   "source": [
    "resnet18 = models.resnet18(pretrained = True)"
   ]
  },
  {
   "cell_type": "code",
   "execution_count": 7,
   "id": "fb0e9f77",
   "metadata": {},
   "outputs": [
    {
     "data": {
      "text/plain": [
       "==========================================================================================\n",
       "Layer (type:depth-idx)                   Output Shape              Param #\n",
       "==========================================================================================\n",
       "ResNet                                   [32, 1000]                --\n",
       "├─Conv2d: 1-1                            [32, 64, 112, 112]        9,408\n",
       "├─BatchNorm2d: 1-2                       [32, 64, 112, 112]        128\n",
       "├─ReLU: 1-3                              [32, 64, 112, 112]        --\n",
       "├─MaxPool2d: 1-4                         [32, 64, 56, 56]          --\n",
       "├─Sequential: 1-5                        [32, 64, 56, 56]          --\n",
       "│    └─BasicBlock: 2-1                   [32, 64, 56, 56]          --\n",
       "│    │    └─Conv2d: 3-1                  [32, 64, 56, 56]          36,864\n",
       "│    │    └─BatchNorm2d: 3-2             [32, 64, 56, 56]          128\n",
       "│    │    └─ReLU: 3-3                    [32, 64, 56, 56]          --\n",
       "│    │    └─Conv2d: 3-4                  [32, 64, 56, 56]          36,864\n",
       "│    │    └─BatchNorm2d: 3-5             [32, 64, 56, 56]          128\n",
       "│    │    └─ReLU: 3-6                    [32, 64, 56, 56]          --\n",
       "│    └─BasicBlock: 2-2                   [32, 64, 56, 56]          --\n",
       "│    │    └─Conv2d: 3-7                  [32, 64, 56, 56]          36,864\n",
       "│    │    └─BatchNorm2d: 3-8             [32, 64, 56, 56]          128\n",
       "│    │    └─ReLU: 3-9                    [32, 64, 56, 56]          --\n",
       "│    │    └─Conv2d: 3-10                 [32, 64, 56, 56]          36,864\n",
       "│    │    └─BatchNorm2d: 3-11            [32, 64, 56, 56]          128\n",
       "│    │    └─ReLU: 3-12                   [32, 64, 56, 56]          --\n",
       "├─Sequential: 1-6                        [32, 128, 28, 28]         --\n",
       "│    └─BasicBlock: 2-3                   [32, 128, 28, 28]         --\n",
       "│    │    └─Conv2d: 3-13                 [32, 128, 28, 28]         73,728\n",
       "│    │    └─BatchNorm2d: 3-14            [32, 128, 28, 28]         256\n",
       "│    │    └─ReLU: 3-15                   [32, 128, 28, 28]         --\n",
       "│    │    └─Conv2d: 3-16                 [32, 128, 28, 28]         147,456\n",
       "│    │    └─BatchNorm2d: 3-17            [32, 128, 28, 28]         256\n",
       "│    │    └─Sequential: 3-18             [32, 128, 28, 28]         8,448\n",
       "│    │    └─ReLU: 3-19                   [32, 128, 28, 28]         --\n",
       "│    └─BasicBlock: 2-4                   [32, 128, 28, 28]         --\n",
       "│    │    └─Conv2d: 3-20                 [32, 128, 28, 28]         147,456\n",
       "│    │    └─BatchNorm2d: 3-21            [32, 128, 28, 28]         256\n",
       "│    │    └─ReLU: 3-22                   [32, 128, 28, 28]         --\n",
       "│    │    └─Conv2d: 3-23                 [32, 128, 28, 28]         147,456\n",
       "│    │    └─BatchNorm2d: 3-24            [32, 128, 28, 28]         256\n",
       "│    │    └─ReLU: 3-25                   [32, 128, 28, 28]         --\n",
       "├─Sequential: 1-7                        [32, 256, 14, 14]         --\n",
       "│    └─BasicBlock: 2-5                   [32, 256, 14, 14]         --\n",
       "│    │    └─Conv2d: 3-26                 [32, 256, 14, 14]         294,912\n",
       "│    │    └─BatchNorm2d: 3-27            [32, 256, 14, 14]         512\n",
       "│    │    └─ReLU: 3-28                   [32, 256, 14, 14]         --\n",
       "│    │    └─Conv2d: 3-29                 [32, 256, 14, 14]         589,824\n",
       "│    │    └─BatchNorm2d: 3-30            [32, 256, 14, 14]         512\n",
       "│    │    └─Sequential: 3-31             [32, 256, 14, 14]         33,280\n",
       "│    │    └─ReLU: 3-32                   [32, 256, 14, 14]         --\n",
       "│    └─BasicBlock: 2-6                   [32, 256, 14, 14]         --\n",
       "│    │    └─Conv2d: 3-33                 [32, 256, 14, 14]         589,824\n",
       "│    │    └─BatchNorm2d: 3-34            [32, 256, 14, 14]         512\n",
       "│    │    └─ReLU: 3-35                   [32, 256, 14, 14]         --\n",
       "│    │    └─Conv2d: 3-36                 [32, 256, 14, 14]         589,824\n",
       "│    │    └─BatchNorm2d: 3-37            [32, 256, 14, 14]         512\n",
       "│    │    └─ReLU: 3-38                   [32, 256, 14, 14]         --\n",
       "├─Sequential: 1-8                        [32, 512, 7, 7]           --\n",
       "│    └─BasicBlock: 2-7                   [32, 512, 7, 7]           --\n",
       "│    │    └─Conv2d: 3-39                 [32, 512, 7, 7]           1,179,648\n",
       "│    │    └─BatchNorm2d: 3-40            [32, 512, 7, 7]           1,024\n",
       "│    │    └─ReLU: 3-41                   [32, 512, 7, 7]           --\n",
       "│    │    └─Conv2d: 3-42                 [32, 512, 7, 7]           2,359,296\n",
       "│    │    └─BatchNorm2d: 3-43            [32, 512, 7, 7]           1,024\n",
       "│    │    └─Sequential: 3-44             [32, 512, 7, 7]           132,096\n",
       "│    │    └─ReLU: 3-45                   [32, 512, 7, 7]           --\n",
       "│    └─BasicBlock: 2-8                   [32, 512, 7, 7]           --\n",
       "│    │    └─Conv2d: 3-46                 [32, 512, 7, 7]           2,359,296\n",
       "│    │    └─BatchNorm2d: 3-47            [32, 512, 7, 7]           1,024\n",
       "│    │    └─ReLU: 3-48                   [32, 512, 7, 7]           --\n",
       "│    │    └─Conv2d: 3-49                 [32, 512, 7, 7]           2,359,296\n",
       "│    │    └─BatchNorm2d: 3-50            [32, 512, 7, 7]           1,024\n",
       "│    │    └─ReLU: 3-51                   [32, 512, 7, 7]           --\n",
       "├─AdaptiveAvgPool2d: 1-9                 [32, 512, 1, 1]           --\n",
       "├─Linear: 1-10                           [32, 1000]                513,000\n",
       "==========================================================================================\n",
       "Total params: 11,689,512\n",
       "Trainable params: 11,689,512\n",
       "Non-trainable params: 0\n",
       "Total mult-adds (Units.GIGABYTES): 58.05\n",
       "==========================================================================================\n",
       "Input size (MB): 19.27\n",
       "Forward/backward pass size (MB): 1271.92\n",
       "Params size (MB): 46.76\n",
       "Estimated Total Size (MB): 1337.94\n",
       "=========================================================================================="
      ]
     },
     "execution_count": 7,
     "metadata": {},
     "output_type": "execute_result"
    }
   ],
   "source": [
    "from torchinfo import summary\n",
    "summary(\n",
    "    model=resnet18,\n",
    "    input_size=(32,3,224,224)\n",
    ")"
   ]
  },
  {
   "cell_type": "code",
   "execution_count": 8,
   "id": "f039b8f6",
   "metadata": {},
   "outputs": [],
   "source": [
    "num_classes = 3\n",
    "resnet18.fc = nn.Linear(resnet18.fc.in_features, num_classes)"
   ]
  },
  {
   "cell_type": "markdown",
   "id": "19b69461",
   "metadata": {},
   "source": [
    "## setup loss_fn, optimizer, scheduler"
   ]
  },
  {
   "cell_type": "code",
   "execution_count": 9,
   "id": "e2b49447",
   "metadata": {},
   "outputs": [],
   "source": [
    "\n",
    "optimizer = torch.optim.Adam(resnet18.parameters(), lr=0.001)\n",
    "loss_fn = nn.CrossEntropyLoss()\n",
    "scheduler = torch.optim.lr_scheduler.StepLR(optimizer, step_size=5, gamma=0.5)\n",
    "# scheduler = torch.optim.lr_scheduler.ReduceLROnPlateau(optimizer, mode='min', patience=2, factor=0.5) # type: ignore"
   ]
  },
  {
   "cell_type": "code",
   "execution_count": 14,
   "id": "121dac3e",
   "metadata": {},
   "outputs": [
    {
     "name": "stdout",
     "output_type": "stream",
     "text": [
      "starting....\n"
     ]
    },
    {
     "data": {
      "application/vnd.jupyter.widget-view+json": {
       "model_id": "51c6e3af62cc4d5b85d0e54caec063ec",
       "version_major": 2,
       "version_minor": 0
      },
      "text/plain": [
       "  0%|          | 0/30 [00:00<?, ?it/s]"
      ]
     },
     "metadata": {},
     "output_type": "display_data"
    },
    {
     "name": "stdout",
     "output_type": "stream",
     "text": [
      "[] Allocated: 191.25 MB | Reserved: 1350.00 MB\n",
      "Epoch:0\tTrain Loss:0.1865\tTrain Acc:0.9279\tTest Loss:0.7373\tTest Acc:0.7625\n",
      "[] Allocated: 191.25 MB | Reserved: 1350.00 MB\n",
      "Epoch:1\tTrain Loss:0.1632\tTrain Acc:0.9316\tTest Loss:0.1842\tTest Acc:0.9240\n",
      "[] Allocated: 191.25 MB | Reserved: 1350.00 MB\n",
      "Epoch:2\tTrain Loss:0.1437\tTrain Acc:0.9479\tTest Loss:0.2983\tTest Acc:0.8719\n",
      "[] Allocated: 191.25 MB | Reserved: 1350.00 MB\n",
      "Epoch:3\tTrain Loss:0.1180\tTrain Acc:0.9586\tTest Loss:0.2012\tTest Acc:0.9292\n",
      "[] Allocated: 191.25 MB | Reserved: 1350.00 MB\n",
      "Epoch:4\tTrain Loss:0.0896\tTrain Acc:0.9704\tTest Loss:0.1793\tTest Acc:0.9505\n",
      "[] Allocated: 191.25 MB | Reserved: 1350.00 MB\n",
      "Epoch:5\tTrain Loss:0.1242\tTrain Acc:0.9557\tTest Loss:0.6914\tTest Acc:0.8057\n",
      "[] Allocated: 191.25 MB | Reserved: 1350.00 MB\n",
      "Epoch:6\tTrain Loss:0.0972\tTrain Acc:0.9661\tTest Loss:0.2110\tTest Acc:0.9219\n",
      "[] Allocated: 191.25 MB | Reserved: 1350.00 MB\n",
      "Epoch:7\tTrain Loss:0.0582\tTrain Acc:0.9805\tTest Loss:0.2480\tTest Acc:0.9208\n",
      "[] Allocated: 191.25 MB | Reserved: 1350.00 MB\n",
      "Epoch:8\tTrain Loss:0.0907\tTrain Acc:0.9733\tTest Loss:0.1784\tTest Acc:0.9401\n",
      "[] Allocated: 191.25 MB | Reserved: 1350.00 MB\n",
      "Epoch:9\tTrain Loss:0.1005\tTrain Acc:0.9661\tTest Loss:0.3271\tTest Acc:0.8823\n",
      "[] Allocated: 191.25 MB | Reserved: 1350.00 MB\n",
      "Epoch:10\tTrain Loss:0.0755\tTrain Acc:0.9800\tTest Loss:0.2607\tTest Acc:0.9349\n",
      "[] Allocated: 191.25 MB | Reserved: 1350.00 MB\n",
      "Epoch:11\tTrain Loss:0.0574\tTrain Acc:0.9757\tTest Loss:0.2635\tTest Acc:0.9057\n",
      "[] Allocated: 191.25 MB | Reserved: 1350.00 MB\n",
      "Epoch:12\tTrain Loss:0.0961\tTrain Acc:0.9685\tTest Loss:0.7608\tTest Acc:0.8359\n",
      "[] Allocated: 191.25 MB | Reserved: 1350.00 MB\n",
      "Epoch:13\tTrain Loss:0.0916\tTrain Acc:0.9639\tTest Loss:0.3870\tTest Acc:0.8594\n",
      "[] Allocated: 191.25 MB | Reserved: 1350.00 MB\n",
      "Epoch:14\tTrain Loss:0.0499\tTrain Acc:0.9824\tTest Loss:0.1640\tTest Acc:0.9557\n",
      "[] Allocated: 191.25 MB | Reserved: 1350.00 MB\n",
      "Epoch:15\tTrain Loss:0.0844\tTrain Acc:0.9712\tTest Loss:0.9120\tTest Acc:0.8120\n",
      "[] Allocated: 191.25 MB | Reserved: 1350.00 MB\n",
      "Epoch:16\tTrain Loss:0.1112\tTrain Acc:0.9549\tTest Loss:0.1993\tTest Acc:0.9375\n",
      "[] Allocated: 191.25 MB | Reserved: 1350.00 MB\n",
      "Epoch:17\tTrain Loss:0.0857\tTrain Acc:0.9720\tTest Loss:0.1988\tTest Acc:0.9401\n",
      "[] Allocated: 191.25 MB | Reserved: 1350.00 MB\n",
      "Epoch:18\tTrain Loss:0.0822\tTrain Acc:0.9725\tTest Loss:0.1627\tTest Acc:0.9453\n",
      "[] Allocated: 191.25 MB | Reserved: 1350.00 MB\n",
      "Epoch:19\tTrain Loss:0.0539\tTrain Acc:0.9784\tTest Loss:0.1679\tTest Acc:0.9401\n",
      "[] Allocated: 191.25 MB | Reserved: 1350.00 MB\n",
      "Epoch:20\tTrain Loss:0.0491\tTrain Acc:0.9821\tTest Loss:0.4486\tTest Acc:0.8771\n",
      "[] Allocated: 191.25 MB | Reserved: 1350.00 MB\n",
      "Epoch:21\tTrain Loss:0.0778\tTrain Acc:0.9776\tTest Loss:0.2097\tTest Acc:0.9370\n",
      "[] Allocated: 191.25 MB | Reserved: 1350.00 MB\n",
      "Epoch:22\tTrain Loss:0.0921\tTrain Acc:0.9704\tTest Loss:0.2607\tTest Acc:0.9182\n",
      "[] Allocated: 191.25 MB | Reserved: 1350.00 MB\n",
      "Epoch:23\tTrain Loss:0.1119\tTrain Acc:0.9631\tTest Loss:0.2903\tTest Acc:0.9089\n",
      "[] Allocated: 191.25 MB | Reserved: 1350.00 MB\n",
      "Epoch:24\tTrain Loss:0.0522\tTrain Acc:0.9792\tTest Loss:0.2484\tTest Acc:0.9396\n",
      "[] Allocated: 191.25 MB | Reserved: 1350.00 MB\n",
      "Epoch:25\tTrain Loss:0.0245\tTrain Acc:0.9912\tTest Loss:0.1501\tTest Acc:0.9609\n",
      "[] Allocated: 191.25 MB | Reserved: 1350.00 MB\n",
      "Epoch:26\tTrain Loss:0.0272\tTrain Acc:0.9904\tTest Loss:0.1433\tTest Acc:0.9557\n",
      "[] Allocated: 191.25 MB | Reserved: 1350.00 MB\n",
      "Epoch:27\tTrain Loss:0.0397\tTrain Acc:0.9888\tTest Loss:0.2471\tTest Acc:0.9297\n",
      "[] Allocated: 191.25 MB | Reserved: 1350.00 MB\n",
      "Epoch:28\tTrain Loss:0.0375\tTrain Acc:0.9923\tTest Loss:0.1955\tTest Acc:0.9531\n",
      "[] Allocated: 191.25 MB | Reserved: 1350.00 MB\n",
      "Epoch:29\tTrain Loss:0.0567\tTrain Acc:0.9781\tTest Loss:0.9364\tTest Acc:0.8516\n"
     ]
    }
   ],
   "source": [
    "from helper.Process import run_train_test\n",
    "\n",
    "resnet18.to(device)\n",
    "\n",
    "results = run_train_test(\n",
    "    resnet18,\n",
    "    train_loader,\n",
    "    test_loader,\n",
    "    optimizer,\n",
    "    loss_fn,\n",
    "    device=torch.device(device),\n",
    "    epochs=30\n",
    ")"
   ]
  },
  {
   "cell_type": "markdown",
   "id": "3fe35cf5",
   "metadata": {},
   "source": [
    "## Visualizing the train_test result"
   ]
  },
  {
   "cell_type": "code",
   "execution_count": 15,
   "id": "aee37ed6",
   "metadata": {},
   "outputs": [
    {
     "data": {
      "image/png": "[encoded data removed]",
      "text/plain": [
       "<Figure size 800x500 with 1 Axes>"
      ]
     },
     "metadata": {},
     "output_type": "display_data"
    }
   ],
   "source": [
    "from helper.Visualize import plot_train_vs_test_loss\n",
    "\n",
    "plot_train_vs_test_loss(results)"
   ]
  },
  {
   "cell_type": "code",
   "execution_count": 16,
   "id": "208bdb5d",
   "metadata": {},
   "outputs": [
    {
     "name": "stdout",
     "output_type": "stream",
     "text": [
      "total: 1240\n",
      "correct: 1117\n",
      "Incorrect: 123\n",
      "average inference time: 6.883791129032259\n"
     ]
    }
   ],
   "source": [
    "from helper.model_utils import make_prediction, save_model\n",
    "\n",
    "correct = 0\n",
    "wrong = 0\n",
    "inf_time = 0\n",
    "\n",
    "classes = train_dataset.classes\n",
    "for data in train_dataset:\n",
    "    prediction, conf, inf = make_prediction(resnet18, data, classes, torch.device(device))\n",
    "\n",
    "    if prediction == classes[data[1]]:\n",
    "        correct += 1\n",
    "    else:\n",
    "        wrong += 1\n",
    "    \n",
    "    inf_time +=inf\n",
    "\n",
    "print(f\"total: {correct+wrong}\")\n",
    "print(f\"correct: {correct}\")\n",
    "print(f\"Incorrect: {wrong}\")\n",
    "print(f\"average inference time: {inf_time/(correct+wrong)}\")"
   ]
  },
  {
   "cell_type": "code",
   "execution_count": 17,
   "id": "4da9d322",
   "metadata": {},
   "outputs": [
    {
     "name": "stdout",
     "output_type": "stream",
     "text": [
      "model saved at ..\\models\\resnet18lite.pt\n"
     ]
    }
   ],
   "source": [
    "from helper.model_utils import save_model\n",
    "\n",
    "data = {\n",
    "    \"title\": \"ResNet18 Lite\",\n",
    "    \"arch\": \"A modified ResNet18 architecture with a custom final fully connected layer for 3-class classification.\",\n",
    "    \"desc\": \"This model is based on the standard ResNet18, pretrained on ImageNet, and fine-tuned for efficient classification of pizza, steak, and sushi images. It leverages transfer learning for fast convergence and high accuracy on small datasets, making it suitable for lightweight food image recognition tasks.\",\n",
    "    \"train accuracy\": round(results[\"train_acc\"][-1]*100, 2),\n",
    "    \"training images\": len(train_dataset),\n",
    "    \"parameters\": sum(p.numel() for p in resnet18.parameters())\n",
    "}\n",
    "loc = Path(\"../models\")\n",
    "\n",
    "save_model(model=resnet18, metadata=data, name=\"resnet18lite\", loc=loc, device= torch.device(device))"
   ]
  }
 ],
 "metadata": {
  "kernelspec": {
   "display_name": "mlvenv",
   "language": "python",
   "name": "python3"
  },
  "language_info": {
   "codemirror_mode": {
    "name": "ipython",
    "version": 3
   },
   "file_extension": ".py",
   "mimetype": "text/x-python",
   "name": "python",
   "nbconvert_exporter": "python",
   "pygments_lexer": "ipython3",
   "version": "3.11.5"
  }
 },
 "nbformat": 4,
 "nbformat_minor": 5
}
