{
 "cells": [
  {
   "cell_type": "markdown",
   "id": "08e6ea5a",
   "metadata": {},
   "source": [
    "# Creating custom Dataset\n",
    "* 40% of each class (400 for each class)\n",
    "* train dataset: 75% of class (300)\n",
    "* test dataset: 25% of class (100)"
   ]
  },
  {
   "cell_type": "code",
   "execution_count": 1,
   "id": "0b445a21",
   "metadata": {},
   "outputs": [],
   "source": [
    "import sys\n",
    "import os\n",
    "sys.path.append(os.path.abspath(\"..\"))  # Go up from notebooks/ to project root"
   ]
  },
  {
   "cell_type": "code",
   "execution_count": 2,
   "id": "7b8daa69",
   "metadata": {},
   "outputs": [],
   "source": [
    "import pathlib\n",
    "\n",
    "data_dir = pathlib.Path(\"./data/food-101/images\")"
   ]
  },
  {
   "cell_type": "markdown",
   "id": "9bb0bce6",
   "metadata": {},
   "source": [
    "# To use ImageFolder class using PyTorch\n",
    "\n",
    "* customdata/\n",
    "    * train/\n",
    "        * pizza/\n",
    "            * image1.png\n",
    "            * image300.png\n",
    "        * steak/\n",
    "            * image1.png\n",
    "            * image300.png\n",
    "    * test/\n",
    "        * pizza/\n",
    "            * image1.png\n",
    "            * image300.png\n",
    "        * steak/\n",
    "            * image1.png\n",
    "            * image2.png"
   ]
  },
  {
   "cell_type": "code",
   "execution_count": 3,
   "id": "058c4a2a",
   "metadata": {},
   "outputs": [],
   "source": [
    "def create_custom_dirs(base_dir):\n",
    "    \"\"\"\n",
    "    Creates custom train and test directories under the given base_dir.\n",
    "    Returns the paths to train and test directories.\n",
    "    \"\"\"\n",
    "    custom_train_loc = base_dir / \"train\"\n",
    "    custom_test_loc = base_dir / \"test\"\n",
    "    base_dir.mkdir(exist_ok=True)\n",
    "    \n",
    "    custom_train_loc.mkdir(parents=True, exist_ok=True)\n",
    "    custom_test_loc.mkdir(parents=True, exist_ok=True)\n",
    "    print(f\"created new directory: {custom_test_loc}\\n\")\n",
    "    print(f\"created new directory: {custom_train_loc}\")\n",
    "    return custom_train_loc, custom_test_loc\n",
    "\n",
    "# custom_data = pathlib.Path(\"./customdata\")\n",
    "# custom_train_loc, custom_test_loc = create_custom_dirs(custom_data)\n",
    "    "
   ]
  },
  {
   "cell_type": "code",
   "execution_count": 3,
   "id": "8925bc6e",
   "metadata": {},
   "outputs": [
    {
     "data": {
      "text/plain": [
       "['apple_pie',\n",
       " 'baby_back_ribs',\n",
       " 'baklava',\n",
       " 'beef_carpaccio',\n",
       " 'beef_tartare',\n",
       " 'beet_salad',\n",
       " 'beignets',\n",
       " 'bibimbap',\n",
       " 'bread_pudding',\n",
       " 'breakfast_burrito']"
      ]
     },
     "execution_count": 3,
     "metadata": {},
     "output_type": "execute_result"
    }
   ],
   "source": [
    "from helper.data_setup import get_classnames\n",
    "\n",
    "classes = get_classnames()\n",
    "classes[:10]"
   ]
  },
  {
   "cell_type": "code",
   "execution_count": 5,
   "id": "08ecb2d0",
   "metadata": {},
   "outputs": [],
   "source": [
    "import random\n",
    "from pathlib import Path\n",
    "import shutil\n",
    "from tqdm import tqdm\n",
    "\n",
    "def create_custom_data(data_loc: Path, train_loc: Path, test_loc: Path, classes: list, size: int = 40, train_test_split: int = 75) -> None:\n",
    "    \"\"\"\n",
    "    This function is used to create a custom data for using in PyTorch's ImageFolder.\n",
    "    Function will randomly select the size% of data given byt the user.\n",
    "    It will then split that data into train and test folders based on the train_test_split value given by the user\n",
    "    \"\"\"\n",
    "    for classname in classes:\n",
    "        #setup the individual class path\n",
    "        class_path = Path(data_loc/classname)\n",
    "        #get all the files from a class_path\n",
    "        files = list(class_path.rglob(\"*\"))\n",
    "        #randomly select size% of the files\n",
    "        random_files = random.sample(files, int((size/100)*len(files)))\n",
    "\n",
    "        #split the random file to train and test\n",
    "        train_images = random_files[:int(train_test_split/100 * len(random_files))]\n",
    "        print(f\"train images for {classname}: {len(train_images)}\")\n",
    "        test_images = random_files[int(train_test_split/100 * len(random_files)):]\n",
    "        print(f\"test images for {classname}: {len(test_images)}\\n\")\n",
    "\n",
    "        #copy the images to respective folders\n",
    "        for image in tqdm(train_images, desc=f\"    Train [{classname}]\", unit=\"img\"):\n",
    "            parent_folder = image.parent.name\n",
    "            \n",
    "            #copy it into train_loc/parent_folder\n",
    "            dest_path = train_loc/parent_folder\n",
    "            dest_path.mkdir(parents=True, exist_ok=True)\n",
    "        \n",
    "            shutil.copy2(image, dest_path)\n",
    "        print(f\"Completed creating {dest_path}\\n\")\n",
    "        \n",
    "        #copy the test images to respective filder\n",
    "        for image in tqdm(test_images, desc=f\"    Test [{classname}]\", unit=\"img\"):\n",
    "            parent_folder = image.parent.name\n",
    "\n",
    "            dest_path = test_loc/parent_folder\n",
    "            dest_path.mkdir(parents=True, exist_ok=True)\n",
    "            shutil.copy2(image, dest_path)\n",
    "        print(f\"Completed creating custom {dest_path}\")\n",
    "        \n",
    "\n",
    "# create_custom_data(\n",
    "#                 data_loc=data_dir,\n",
    "#                 train_loc=custom_train_loc,\n",
    "#                 test_loc=custom_test_loc,\n",
    "#                 classes=classes)"
   ]
  },
  {
   "cell_type": "code",
   "execution_count": 6,
   "id": "6f2f1472",
   "metadata": {},
   "outputs": [
    {
     "ename": "NameError",
     "evalue": "name 'custom_train_loc' is not defined",
     "output_type": "error",
     "traceback": [
      "\u001b[31m---------------------------------------------------------------------------\u001b[39m",
      "\u001b[31mNameError\u001b[39m                                 Traceback (most recent call last)",
      "\u001b[36mCell\u001b[39m\u001b[36m \u001b[39m\u001b[32mIn[6]\u001b[39m\u001b[32m, line 1\u001b[39m\n\u001b[32m----> \u001b[39m\u001b[32m1\u001b[39m files_in_custom_train = \u001b[38;5;28mlist\u001b[39m(\u001b[43mcustom_train_loc\u001b[49m.rglob(\u001b[33m\"\u001b[39m\u001b[33m*/*\u001b[39m\u001b[33m\"\u001b[39m))\n\u001b[32m      2\u001b[39m files_in_custom_test = \u001b[38;5;28mlist\u001b[39m(custom_test_loc.rglob(\u001b[33m\"\u001b[39m\u001b[33m*/*\u001b[39m\u001b[33m\"\u001b[39m))\n\u001b[32m      4\u001b[39m \u001b[38;5;28mprint\u001b[39m(\u001b[33mf\u001b[39m\u001b[33m\"\u001b[39m\u001b[33mtotal no of train images:\u001b[39m\u001b[38;5;132;01m{\u001b[39;00m\u001b[38;5;28mlen\u001b[39m(files_in_custom_train)\u001b[38;5;132;01m}\u001b[39;00m\u001b[33m\"\u001b[39m)\n",
      "\u001b[31mNameError\u001b[39m: name 'custom_train_loc' is not defined"
     ]
    }
   ],
   "source": [
    "files_in_custom_train = list(custom_train_loc.rglob(\"*/*\"))\n",
    "files_in_custom_test = list(custom_test_loc.rglob(\"*/*\"))\n",
    "\n",
    "print(f\"total no of train images:{len(files_in_custom_train)}\")\n",
    "print(f\"total no of test images:{len(files_in_custom_test)}\")\n",
    "print(f\"No of train images per class:{len(list((custom_train_loc / classes[0]).rglob('*')))}\")\n",
    "print(f\"No of test images per class:{len(list((custom_test_loc / classes[0]).rglob('*')))}\")"
   ]
  },
  {
   "cell_type": "code",
   "execution_count": 4,
   "id": "6d24d53a",
   "metadata": {},
   "outputs": [
    {
     "name": "stdout",
     "output_type": "stream",
     "text": [
      "created new directory: pizza_steak_sushi\\test\n",
      "\n",
      "created new directory: pizza_steak_sushi\\train\n"
     ]
    },
    {
     "data": {
      "text/plain": [
       "(WindowsPath('pizza_steak_sushi/train'), WindowsPath('pizza_steak_sushi/test'))"
      ]
     },
     "execution_count": 4,
     "metadata": {},
     "output_type": "execute_result"
    }
   ],
   "source": [
    "from helper.data_setup import create_custom_dirs, create_custom_data\n",
    "from pathlib import Path\n",
    "\n",
    "pss = Path(\"./pizza_steak_sushi\")\n",
    "\n",
    "create_custom_dirs(pss)"
   ]
  },
  {
   "cell_type": "code",
   "execution_count": 5,
   "id": "2cbe3457",
   "metadata": {},
   "outputs": [
    {
     "name": "stdout",
     "output_type": "stream",
     "text": [
      "train images for pizza: 240\n",
      "test images for pizza: 60\n",
      "\n"
     ]
    },
    {
     "name": "stderr",
     "output_type": "stream",
     "text": [
      "    Train [pizza]:   4%|▍         | 9/240 [00:00<00:02, 89.84img/s]"
     ]
    },
    {
     "name": "stdout",
     "output_type": "stream",
     "text": [
      "Completed creating pizza_steak_sushi\\train\\pizza\n",
      "\n",
      "Completed creating pizza_steak_sushi\\train\\pizza\n",
      "\n",
      "Completed creating pizza_steak_sushi\\train\\pizza\n",
      "\n",
      "Completed creating pizza_steak_sushi\\train\\pizza\n",
      "\n",
      "Completed creating pizza_steak_sushi\\train\\pizza\n",
      "\n",
      "Completed creating pizza_steak_sushi\\train\\pizza\n",
      "\n",
      "Completed creating pizza_steak_sushi\\train\\pizza\n",
      "\n",
      "Completed creating pizza_steak_sushi\\train\\pizza\n",
      "\n",
      "Completed creating pizza_steak_sushi\\train\\pizza\n",
      "\n",
      "Completed creating pizza_steak_sushi\\train\\pizza\n",
      "\n",
      "Completed creating pizza_steak_sushi\\train\\pizza\n",
      "\n",
      "Completed creating pizza_steak_sushi\\train\\pizza\n",
      "\n",
      "Completed creating pizza_steak_sushi\\train\\pizza\n",
      "\n",
      "Completed creating pizza_steak_sushi\\train\\pizza\n",
      "\n",
      "Completed creating pizza_steak_sushi\\train\\pizza\n",
      "\n",
      "Completed creating pizza_steak_sushi\\train\\pizza\n",
      "\n",
      "Completed creating pizza_steak_sushi\\train\\pizza\n",
      "\n",
      "Completed creating pizza_steak_sushi\\train\\pizza\n",
      "\n",
      "Completed creating pizza_steak_sushi\\train\\pizza\n",
      "\n",
      "Completed creating pizza_steak_sushi\\train\\pizza\n",
      "\n",
      "Completed creating pizza_steak_sushi\\train\\pizza\n",
      "\n"
     ]
    },
    {
     "name": "stderr",
     "output_type": "stream",
     "text": [
      "    Train [pizza]:  13%|█▎        | 32/240 [00:00<00:01, 105.44img/s]"
     ]
    },
    {
     "name": "stdout",
     "output_type": "stream",
     "text": [
      "Completed creating pizza_steak_sushi\\train\\pizza\n",
      "\n",
      "Completed creating pizza_steak_sushi\\train\\pizza\n",
      "\n",
      "Completed creating pizza_steak_sushi\\train\\pizza\n",
      "\n",
      "Completed creating pizza_steak_sushi\\train\\pizza\n",
      "\n",
      "Completed creating pizza_steak_sushi\\train\\pizza\n",
      "\n",
      "Completed creating pizza_steak_sushi\\train\\pizza\n",
      "\n",
      "Completed creating pizza_steak_sushi\\train\\pizza\n",
      "\n",
      "Completed creating pizza_steak_sushi\\train\\pizza\n",
      "\n",
      "Completed creating pizza_steak_sushi\\train\\pizza\n",
      "\n",
      "Completed creating pizza_steak_sushi\\train\\pizza\n",
      "\n",
      "Completed creating pizza_steak_sushi\\train\\pizza\n",
      "\n",
      "Completed creating pizza_steak_sushi\\train\\pizza\n",
      "\n",
      "Completed creating pizza_steak_sushi\\train\\pizza\n",
      "\n",
      "Completed creating pizza_steak_sushi\\train\\pizza\n",
      "\n",
      "Completed creating pizza_steak_sushi\\train\\pizza\n",
      "\n",
      "Completed creating pizza_steak_sushi\\train\\pizza\n",
      "\n",
      "Completed creating pizza_steak_sushi\\train\\pizza\n",
      "\n",
      "Completed creating pizza_steak_sushi\\train\\pizza\n",
      "\n",
      "Completed creating pizza_steak_sushi\\train\\pizza\n",
      "\n",
      "Completed creating pizza_steak_sushi\\train\\pizza\n",
      "\n",
      "Completed creating pizza_steak_sushi\\train\\pizza\n",
      "\n",
      "Completed creating pizza_steak_sushi\\train\\pizza\n",
      "\n"
     ]
    },
    {
     "name": "stderr",
     "output_type": "stream",
     "text": [
      "    Train [pizza]:  23%|██▎       | 56/240 [00:00<00:01, 110.72img/s]"
     ]
    },
    {
     "name": "stdout",
     "output_type": "stream",
     "text": [
      "Completed creating pizza_steak_sushi\\train\\pizza\n",
      "\n",
      "Completed creating pizza_steak_sushi\\train\\pizza\n",
      "\n",
      "Completed creating pizza_steak_sushi\\train\\pizza\n",
      "\n",
      "Completed creating pizza_steak_sushi\\train\\pizza\n",
      "\n",
      "Completed creating pizza_steak_sushi\\train\\pizza\n",
      "\n",
      "Completed creating pizza_steak_sushi\\train\\pizza\n",
      "\n",
      "Completed creating pizza_steak_sushi\\train\\pizza\n",
      "\n",
      "Completed creating pizza_steak_sushi\\train\\pizza\n",
      "\n",
      "Completed creating pizza_steak_sushi\\train\\pizza\n",
      "\n",
      "Completed creating pizza_steak_sushi\\train\\pizza\n",
      "\n",
      "Completed creating pizza_steak_sushi\\train\\pizza\n",
      "\n",
      "Completed creating pizza_steak_sushi\\train\\pizza\n",
      "\n",
      "Completed creating pizza_steak_sushi\\train\\pizza\n",
      "\n",
      "Completed creating pizza_steak_sushi\\train\\pizza\n",
      "\n",
      "Completed creating pizza_steak_sushi\\train\\pizza\n",
      "\n",
      "Completed creating pizza_steak_sushi\\train\\pizza\n",
      "\n",
      "Completed creating pizza_steak_sushi\\train\\pizza\n",
      "\n",
      "Completed creating pizza_steak_sushi\\train\\pizza\n",
      "\n",
      "Completed creating pizza_steak_sushi\\train\\pizza\n",
      "\n",
      "Completed creating pizza_steak_sushi\\train\\pizza\n",
      "\n",
      "Completed creating pizza_steak_sushi\\train\\pizza\n",
      "\n",
      "Completed creating pizza_steak_sushi\\train\\pizza\n",
      "\n",
      "Completed creating pizza_steak_sushi\\train\\pizza\n",
      "\n",
      "Completed creating pizza_steak_sushi\\train\\pizza\n",
      "\n"
     ]
    },
    {
     "name": "stderr",
     "output_type": "stream",
     "text": [
      "    Train [pizza]:  33%|███▎      | 80/240 [00:00<00:01, 111.39img/s]"
     ]
    },
    {
     "name": "stdout",
     "output_type": "stream",
     "text": [
      "Completed creating pizza_steak_sushi\\train\\pizza\n",
      "\n",
      "Completed creating pizza_steak_sushi\\train\\pizza\n",
      "\n",
      "Completed creating pizza_steak_sushi\\train\\pizza\n",
      "\n",
      "Completed creating pizza_steak_sushi\\train\\pizza\n",
      "\n",
      "Completed creating pizza_steak_sushi\\train\\pizza\n",
      "\n",
      "Completed creating pizza_steak_sushi\\train\\pizza\n",
      "\n",
      "Completed creating pizza_steak_sushi\\train\\pizza\n",
      "\n",
      "Completed creating pizza_steak_sushi\\train\\pizza\n",
      "\n",
      "Completed creating pizza_steak_sushi\\train\\pizza\n",
      "\n",
      "Completed creating pizza_steak_sushi\\train\\pizza\n",
      "\n",
      "Completed creating pizza_steak_sushi\\train\\pizza\n",
      "\n",
      "Completed creating pizza_steak_sushi\\train\\pizza\n",
      "\n",
      "Completed creating pizza_steak_sushi\\train\\pizza\n",
      "\n",
      "Completed creating pizza_steak_sushi\\train\\pizza\n",
      "\n",
      "Completed creating pizza_steak_sushi\\train\\pizza\n",
      "\n",
      "Completed creating pizza_steak_sushi\\train\\pizza\n",
      "\n",
      "Completed creating pizza_steak_sushi\\train\\pizza\n",
      "\n",
      "Completed creating pizza_steak_sushi\\train\\pizza\n",
      "\n",
      "Completed creating pizza_steak_sushi\\train\\pizza\n",
      "\n",
      "Completed creating pizza_steak_sushi\\train\\pizza\n",
      "\n",
      "Completed creating pizza_steak_sushi\\train\\pizza\n",
      "\n",
      "Completed creating pizza_steak_sushi\\train\\pizza\n",
      "\n",
      "Completed creating pizza_steak_sushi\\train\\pizza\n",
      "\n",
      "Completed creating pizza_steak_sushi\\train\\pizza\n",
      "\n",
      "Completed creating pizza_steak_sushi\\train\\pizza\n",
      "\n"
     ]
    },
    {
     "name": "stderr",
     "output_type": "stream",
     "text": [
      "    Train [pizza]:  44%|████▍     | 105/240 [00:00<00:01, 112.93img/s]"
     ]
    },
    {
     "name": "stdout",
     "output_type": "stream",
     "text": [
      "Completed creating pizza_steak_sushi\\train\\pizza\n",
      "\n",
      "Completed creating pizza_steak_sushi\\train\\pizza\n",
      "\n",
      "Completed creating pizza_steak_sushi\\train\\pizza\n",
      "\n",
      "Completed creating pizza_steak_sushi\\train\\pizza\n",
      "\n",
      "Completed creating pizza_steak_sushi\\train\\pizza\n",
      "\n",
      "Completed creating pizza_steak_sushi\\train\\pizza\n",
      "\n",
      "Completed creating pizza_steak_sushi\\train\\pizza\n",
      "\n",
      "Completed creating pizza_steak_sushi\\train\\pizza\n",
      "\n",
      "Completed creating pizza_steak_sushi\\train\\pizza\n",
      "\n",
      "Completed creating pizza_steak_sushi\\train\\pizza\n",
      "\n",
      "Completed creating pizza_steak_sushi\\train\\pizza\n",
      "\n",
      "Completed creating pizza_steak_sushi\\train\\pizza\n",
      "\n",
      "Completed creating pizza_steak_sushi\\train\\pizza\n",
      "\n",
      "Completed creating pizza_steak_sushi\\train\\pizza\n",
      "\n",
      "Completed creating pizza_steak_sushi\\train\\pizza\n",
      "\n",
      "Completed creating pizza_steak_sushi\\train\\pizza\n",
      "\n",
      "Completed creating pizza_steak_sushi\\train\\pizza\n",
      "\n",
      "Completed creating pizza_steak_sushi\\train\\pizza\n",
      "\n",
      "Completed creating pizza_steak_sushi\\train\\pizza\n",
      "\n",
      "Completed creating pizza_steak_sushi\\train\\pizza\n",
      "\n",
      "Completed creating pizza_steak_sushi\\train\\pizza\n",
      "\n",
      "Completed creating pizza_steak_sushi\\train\\pizza\n",
      "\n",
      "Completed creating pizza_steak_sushi\\train\\pizza\n",
      "\n",
      "Completed creating pizza_steak_sushi\\train\\pizza\n",
      "\n",
      "Completed creating pizza_steak_sushi\\train\\pizza\n",
      "\n",
      "Completed creating pizza_steak_sushi\\train\\pizza\n",
      "\n"
     ]
    },
    {
     "name": "stderr",
     "output_type": "stream",
     "text": [
      "    Train [pizza]:  54%|█████▍    | 130/240 [00:01<00:00, 115.81img/s]"
     ]
    },
    {
     "name": "stdout",
     "output_type": "stream",
     "text": [
      "Completed creating pizza_steak_sushi\\train\\pizza\n",
      "\n",
      "Completed creating pizza_steak_sushi\\train\\pizza\n",
      "\n",
      "Completed creating pizza_steak_sushi\\train\\pizza\n",
      "\n",
      "Completed creating pizza_steak_sushi\\train\\pizza\n",
      "\n",
      "Completed creating pizza_steak_sushi\\train\\pizza\n",
      "\n",
      "Completed creating pizza_steak_sushi\\train\\pizza\n",
      "\n",
      "Completed creating pizza_steak_sushi\\train\\pizza\n",
      "\n",
      "Completed creating pizza_steak_sushi\\train\\pizza\n",
      "\n",
      "Completed creating pizza_steak_sushi\\train\\pizza\n",
      "\n",
      "Completed creating pizza_steak_sushi\\train\\pizza\n",
      "\n",
      "Completed creating pizza_steak_sushi\\train\\pizza\n",
      "\n",
      "Completed creating pizza_steak_sushi\\train\\pizza\n",
      "\n",
      "Completed creating pizza_steak_sushi\\train\\pizza\n",
      "\n",
      "Completed creating pizza_steak_sushi\\train\\pizza\n",
      "\n",
      "Completed creating pizza_steak_sushi\\train\\pizza\n",
      "\n",
      "Completed creating pizza_steak_sushi\\train\\pizza\n",
      "\n",
      "Completed creating pizza_steak_sushi\\train\\pizza\n",
      "\n",
      "Completed creating pizza_steak_sushi\\train\\pizza\n",
      "\n",
      "Completed creating pizza_steak_sushi\\train\\pizza\n",
      "\n",
      "Completed creating pizza_steak_sushi\\train\\pizza\n",
      "\n",
      "Completed creating pizza_steak_sushi\\train\\pizza\n",
      "\n",
      "Completed creating pizza_steak_sushi\\train\\pizza\n",
      "\n",
      "Completed creating pizza_steak_sushi\\train\\pizza\n",
      "\n",
      "Completed creating pizza_steak_sushi\\train\\pizza\n",
      "\n"
     ]
    },
    {
     "name": "stderr",
     "output_type": "stream",
     "text": [
      "    Train [pizza]:  65%|██████▌   | 157/240 [00:01<00:00, 107.59img/s]"
     ]
    },
    {
     "name": "stdout",
     "output_type": "stream",
     "text": [
      "Completed creating pizza_steak_sushi\\train\\pizza\n",
      "\n",
      "Completed creating pizza_steak_sushi\\train\\pizza\n",
      "\n",
      "Completed creating pizza_steak_sushi\\train\\pizza\n",
      "\n",
      "Completed creating pizza_steak_sushi\\train\\pizza\n",
      "\n",
      "Completed creating pizza_steak_sushi\\train\\pizza\n",
      "\n",
      "Completed creating pizza_steak_sushi\\train\\pizza\n",
      "\n",
      "Completed creating pizza_steak_sushi\\train\\pizza\n",
      "\n",
      "Completed creating pizza_steak_sushi\\train\\pizza\n",
      "\n",
      "Completed creating pizza_steak_sushi\\train\\pizza\n",
      "\n",
      "Completed creating pizza_steak_sushi\\train\\pizza\n",
      "\n",
      "Completed creating pizza_steak_sushi\\train\\pizza\n",
      "\n",
      "Completed creating pizza_steak_sushi\\train\\pizza\n",
      "\n",
      "Completed creating pizza_steak_sushi\\train\\pizza\n",
      "\n",
      "Completed creating pizza_steak_sushi\\train\\pizza\n",
      "\n",
      "Completed creating pizza_steak_sushi\\train\\pizza\n",
      "\n",
      "Completed creating pizza_steak_sushi\\train\\pizza\n",
      "\n",
      "Completed creating pizza_steak_sushi\\train\\pizza\n",
      "\n",
      "Completed creating pizza_steak_sushi\\train\\pizza\n",
      "\n",
      "Completed creating pizza_steak_sushi\\train\\pizza\n",
      "\n",
      "Completed creating pizza_steak_sushi\\train\\pizza\n",
      "\n",
      "Completed creating pizza_steak_sushi\\train\\pizza\n",
      "\n"
     ]
    },
    {
     "name": "stderr",
     "output_type": "stream",
     "text": [
      "    Train [pizza]:  76%|███████▌  | 182/240 [00:01<00:00, 113.36img/s]"
     ]
    },
    {
     "name": "stdout",
     "output_type": "stream",
     "text": [
      "Completed creating pizza_steak_sushi\\train\\pizza\n",
      "\n",
      "Completed creating pizza_steak_sushi\\train\\pizza\n",
      "\n",
      "Completed creating pizza_steak_sushi\\train\\pizza\n",
      "\n",
      "Completed creating pizza_steak_sushi\\train\\pizza\n",
      "\n",
      "Completed creating pizza_steak_sushi\\train\\pizza\n",
      "\n",
      "Completed creating pizza_steak_sushi\\train\\pizza\n",
      "\n",
      "Completed creating pizza_steak_sushi\\train\\pizza\n",
      "\n",
      "Completed creating pizza_steak_sushi\\train\\pizza\n",
      "\n",
      "Completed creating pizza_steak_sushi\\train\\pizza\n",
      "\n",
      "Completed creating pizza_steak_sushi\\train\\pizza\n",
      "\n",
      "Completed creating pizza_steak_sushi\\train\\pizza\n",
      "\n",
      "Completed creating pizza_steak_sushi\\train\\pizza\n",
      "\n",
      "Completed creating pizza_steak_sushi\\train\\pizza\n",
      "\n",
      "Completed creating pizza_steak_sushi\\train\\pizza\n",
      "\n",
      "Completed creating pizza_steak_sushi\\train\\pizza\n",
      "\n",
      "Completed creating pizza_steak_sushi\\train\\pizza\n",
      "\n",
      "Completed creating pizza_steak_sushi\\train\\pizza\n",
      "\n",
      "Completed creating pizza_steak_sushi\\train\\pizza\n",
      "\n",
      "Completed creating pizza_steak_sushi\\train\\pizza\n",
      "\n",
      "Completed creating pizza_steak_sushi\\train\\pizza\n",
      "\n",
      "Completed creating pizza_steak_sushi\\train\\pizza\n",
      "\n",
      "Completed creating pizza_steak_sushi\\train\\pizza\n",
      "\n"
     ]
    },
    {
     "name": "stderr",
     "output_type": "stream",
     "text": [
      "    Train [pizza]:  81%|████████  | 194/240 [00:01<00:00, 109.52img/s]"
     ]
    },
    {
     "name": "stdout",
     "output_type": "stream",
     "text": [
      "Completed creating pizza_steak_sushi\\train\\pizza\n",
      "\n",
      "Completed creating pizza_steak_sushi\\train\\pizza\n",
      "\n",
      "Completed creating pizza_steak_sushi\\train\\pizza\n",
      "\n",
      "Completed creating pizza_steak_sushi\\train\\pizza\n",
      "\n",
      "Completed creating pizza_steak_sushi\\train\\pizza\n",
      "\n",
      "Completed creating pizza_steak_sushi\\train\\pizza\n",
      "\n",
      "Completed creating pizza_steak_sushi\\train\\pizza\n",
      "\n",
      "Completed creating pizza_steak_sushi\\train\\pizza\n",
      "\n",
      "Completed creating pizza_steak_sushi\\train\\pizza\n",
      "\n",
      "Completed creating pizza_steak_sushi\\train\\pizza\n",
      "\n",
      "Completed creating pizza_steak_sushi\\train\\pizza\n",
      "\n",
      "Completed creating pizza_steak_sushi\\train\\pizza\n",
      "\n",
      "Completed creating pizza_steak_sushi\\train\\pizza\n",
      "\n",
      "Completed creating pizza_steak_sushi\\train\\pizza\n",
      "\n",
      "Completed creating pizza_steak_sushi\\train\\pizza\n",
      "\n",
      "Completed creating pizza_steak_sushi\\train\\pizza\n",
      "\n",
      "Completed creating pizza_steak_sushi\\train\\pizza\n",
      "\n",
      "Completed creating pizza_steak_sushi\\train\\pizza\n",
      "\n",
      "Completed creating pizza_steak_sushi\\train\\pizza\n",
      "\n",
      "Completed creating pizza_steak_sushi\\train\\pizza\n",
      "\n",
      "Completed creating pizza_steak_sushi\\train\\pizza\n",
      "\n",
      "Completed creating pizza_steak_sushi\\train\\pizza\n",
      "\n"
     ]
    },
    {
     "name": "stderr",
     "output_type": "stream",
     "text": [
      "    Train [pizza]:  91%|█████████▏| 219/240 [00:01<00:00, 113.63img/s]"
     ]
    },
    {
     "name": "stdout",
     "output_type": "stream",
     "text": [
      "Completed creating pizza_steak_sushi\\train\\pizza\n",
      "\n",
      "Completed creating pizza_steak_sushi\\train\\pizza\n",
      "\n",
      "Completed creating pizza_steak_sushi\\train\\pizza\n",
      "\n",
      "Completed creating pizza_steak_sushi\\train\\pizza\n",
      "\n",
      "Completed creating pizza_steak_sushi\\train\\pizza\n",
      "\n",
      "Completed creating pizza_steak_sushi\\train\\pizza\n",
      "\n",
      "Completed creating pizza_steak_sushi\\train\\pizza\n",
      "\n",
      "Completed creating pizza_steak_sushi\\train\\pizza\n",
      "\n",
      "Completed creating pizza_steak_sushi\\train\\pizza\n",
      "\n",
      "Completed creating pizza_steak_sushi\\train\\pizza\n",
      "\n",
      "Completed creating pizza_steak_sushi\\train\\pizza\n",
      "\n",
      "Completed creating pizza_steak_sushi\\train\\pizza\n",
      "\n",
      "Completed creating pizza_steak_sushi\\train\\pizza\n",
      "\n",
      "Completed creating pizza_steak_sushi\\train\\pizza\n",
      "\n",
      "Completed creating pizza_steak_sushi\\train\\pizza\n",
      "\n",
      "Completed creating pizza_steak_sushi\\train\\pizza\n",
      "\n",
      "Completed creating pizza_steak_sushi\\train\\pizza\n",
      "\n",
      "Completed creating pizza_steak_sushi\\train\\pizza\n",
      "\n",
      "Completed creating pizza_steak_sushi\\train\\pizza\n",
      "\n",
      "Completed creating pizza_steak_sushi\\train\\pizza\n",
      "\n",
      "Completed creating pizza_steak_sushi\\train\\pizza\n",
      "\n",
      "Completed creating pizza_steak_sushi\\train\\pizza\n",
      "\n",
      "Completed creating pizza_steak_sushi\\train\\pizza\n",
      "\n",
      "Completed creating pizza_steak_sushi\\train\\pizza\n",
      "\n",
      "Completed creating pizza_steak_sushi\\train\\pizza\n",
      "\n"
     ]
    },
    {
     "name": "stderr",
     "output_type": "stream",
     "text": [
      "    Train [pizza]: 100%|██████████| 240/240 [00:02<00:00, 112.81img/s]\n"
     ]
    },
    {
     "name": "stdout",
     "output_type": "stream",
     "text": [
      "Completed creating pizza_steak_sushi\\train\\pizza\n",
      "\n",
      "Completed creating pizza_steak_sushi\\train\\pizza\n",
      "\n",
      "Completed creating pizza_steak_sushi\\train\\pizza\n",
      "\n",
      "Completed creating pizza_steak_sushi\\train\\pizza\n",
      "\n",
      "Completed creating pizza_steak_sushi\\train\\pizza\n",
      "\n",
      "Completed creating pizza_steak_sushi\\train\\pizza\n",
      "\n",
      "Completed creating pizza_steak_sushi\\train\\pizza\n",
      "\n",
      "Completed creating pizza_steak_sushi\\train\\pizza\n",
      "\n"
     ]
    },
    {
     "name": "stderr",
     "output_type": "stream",
     "text": [
      "    Test [pizza]:  23%|██▎       | 14/60 [00:00<00:00, 128.85img/s]"
     ]
    },
    {
     "name": "stdout",
     "output_type": "stream",
     "text": [
      "Completed creating custom pizza_steak_sushi\\test\\pizza\n",
      "Completed creating custom pizza_steak_sushi\\test\\pizza\n",
      "Completed creating custom pizza_steak_sushi\\test\\pizza\n",
      "Completed creating custom pizza_steak_sushi\\test\\pizza\n",
      "Completed creating custom pizza_steak_sushi\\test\\pizza\n",
      "Completed creating custom pizza_steak_sushi\\test\\pizza\n",
      "Completed creating custom pizza_steak_sushi\\test\\pizza\n",
      "Completed creating custom pizza_steak_sushi\\test\\pizza\n",
      "Completed creating custom pizza_steak_sushi\\test\\pizza\n",
      "Completed creating custom pizza_steak_sushi\\test\\pizza\n",
      "Completed creating custom pizza_steak_sushi\\test\\pizza\n",
      "Completed creating custom pizza_steak_sushi\\test\\pizza\n",
      "Completed creating custom pizza_steak_sushi\\test\\pizza\n",
      "Completed creating custom pizza_steak_sushi\\test\\pizza\n",
      "Completed creating custom pizza_steak_sushi\\test\\pizza\n",
      "Completed creating custom pizza_steak_sushi\\test\\pizza\n",
      "Completed creating custom pizza_steak_sushi\\test\\pizza\n",
      "Completed creating custom pizza_steak_sushi\\test\\pizza\n",
      "Completed creating custom pizza_steak_sushi\\test\\pizza\n",
      "Completed creating custom pizza_steak_sushi\\test\\pizza\n",
      "Completed creating custom pizza_steak_sushi\\test\\pizza\n",
      "Completed creating custom pizza_steak_sushi\\test\\pizza\n",
      "Completed creating custom pizza_steak_sushi\\test\\pizza\n",
      "Completed creating custom pizza_steak_sushi\\test\\pizza\n",
      "Completed creating custom pizza_steak_sushi\\test\\pizza\n"
     ]
    },
    {
     "name": "stderr",
     "output_type": "stream",
     "text": [
      "    Test [pizza]:  45%|████▌     | 27/60 [00:00<00:00, 126.90img/s]"
     ]
    },
    {
     "name": "stdout",
     "output_type": "stream",
     "text": [
      "Completed creating custom pizza_steak_sushi\\test\\pizza\n",
      "Completed creating custom pizza_steak_sushi\\test\\pizza\n",
      "Completed creating custom pizza_steak_sushi\\test\\pizza\n",
      "Completed creating custom pizza_steak_sushi\\test\\pizza\n",
      "Completed creating custom pizza_steak_sushi\\test\\pizza\n",
      "Completed creating custom pizza_steak_sushi\\test\\pizza\n",
      "Completed creating custom pizza_steak_sushi\\test\\pizza\n",
      "Completed creating custom pizza_steak_sushi\\test\\pizza\n",
      "Completed creating custom pizza_steak_sushi\\test\\pizza\n",
      "Completed creating custom pizza_steak_sushi\\test\\pizza\n",
      "Completed creating custom pizza_steak_sushi\\test\\pizza\n",
      "Completed creating custom pizza_steak_sushi\\test\\pizza\n",
      "Completed creating custom pizza_steak_sushi\\test\\pizza\n",
      "Completed creating custom pizza_steak_sushi\\test\\pizza\n"
     ]
    },
    {
     "name": "stderr",
     "output_type": "stream",
     "text": [
      "    Test [pizza]:  67%|██████▋   | 40/60 [00:00<00:00, 118.58img/s]"
     ]
    },
    {
     "name": "stdout",
     "output_type": "stream",
     "text": [
      "Completed creating custom pizza_steak_sushi\\test\\pizza\n",
      "Completed creating custom pizza_steak_sushi\\test\\pizza\n",
      "Completed creating custom pizza_steak_sushi\\test\\pizza\n",
      "Completed creating custom pizza_steak_sushi\\test\\pizza\n",
      "Completed creating custom pizza_steak_sushi\\test\\pizza\n",
      "Completed creating custom pizza_steak_sushi\\test\\pizza\n",
      "Completed creating custom pizza_steak_sushi\\test\\pizza\n",
      "Completed creating custom pizza_steak_sushi\\test\\pizza\n",
      "Completed creating custom pizza_steak_sushi\\test\\pizza\n",
      "Completed creating custom pizza_steak_sushi\\test\\pizza\n",
      "Completed creating custom pizza_steak_sushi\\test\\pizza\n",
      "Completed creating custom pizza_steak_sushi\\test\\pizza\n"
     ]
    },
    {
     "name": "stderr",
     "output_type": "stream",
     "text": [
      "    Test [pizza]:  87%|████████▋ | 52/60 [00:00<00:00, 118.83img/s]"
     ]
    },
    {
     "name": "stdout",
     "output_type": "stream",
     "text": [
      "Completed creating custom pizza_steak_sushi\\test\\pizza\n",
      "Completed creating custom pizza_steak_sushi\\test\\pizza\n",
      "Completed creating custom pizza_steak_sushi\\test\\pizza\n",
      "Completed creating custom pizza_steak_sushi\\test\\pizza\n",
      "Completed creating custom pizza_steak_sushi\\test\\pizza\n",
      "Completed creating custom pizza_steak_sushi\\test\\pizza\n"
     ]
    },
    {
     "name": "stderr",
     "output_type": "stream",
     "text": [
      "    Test [pizza]: 100%|██████████| 60/60 [00:00<00:00, 107.03img/s]\n"
     ]
    },
    {
     "name": "stdout",
     "output_type": "stream",
     "text": [
      "Completed creating custom pizza_steak_sushi\\test\\pizza\n",
      "Completed creating custom pizza_steak_sushi\\test\\pizza\n",
      "Completed creating custom pizza_steak_sushi\\test\\pizza\n",
      "train images for steak: 240\n",
      "test images for steak: 60\n",
      "\n"
     ]
    },
    {
     "name": "stderr",
     "output_type": "stream",
     "text": [
      "    Train [steak]:   0%|          | 0/240 [00:00<?, ?img/s]"
     ]
    },
    {
     "name": "stdout",
     "output_type": "stream",
     "text": [
      "Completed creating pizza_steak_sushi\\train\\steak\n",
      "\n",
      "Completed creating pizza_steak_sushi\\train\\steak\n",
      "\n",
      "Completed creating pizza_steak_sushi\\train\\steak\n",
      "\n",
      "Completed creating pizza_steak_sushi\\train\\steak\n",
      "\n",
      "Completed creating pizza_steak_sushi\\train\\steak\n",
      "\n",
      "Completed creating pizza_steak_sushi\\train\\steak\n",
      "\n"
     ]
    },
    {
     "name": "stderr",
     "output_type": "stream",
     "text": [
      "    Train [steak]:   5%|▍         | 11/240 [00:00<00:02, 104.75img/s]"
     ]
    },
    {
     "name": "stdout",
     "output_type": "stream",
     "text": [
      "Completed creating pizza_steak_sushi\\train\\steak\n",
      "\n",
      "Completed creating pizza_steak_sushi\\train\\steak\n",
      "\n",
      "Completed creating pizza_steak_sushi\\train\\steak\n",
      "\n",
      "Completed creating pizza_steak_sushi\\train\\steak\n",
      "\n",
      "Completed creating pizza_steak_sushi\\train\\steak\n",
      "\n",
      "Completed creating pizza_steak_sushi\\train\\steak\n",
      "\n",
      "Completed creating pizza_steak_sushi\\train\\steak\n",
      "\n",
      "Completed creating pizza_steak_sushi\\train\\steak\n",
      "\n",
      "Completed creating pizza_steak_sushi\\train\\steak\n",
      "\n",
      "Completed creating pizza_steak_sushi\\train\\steak\n",
      "\n"
     ]
    },
    {
     "name": "stderr",
     "output_type": "stream",
     "text": [
      "    Train [steak]:   9%|▉         | 22/240 [00:00<00:02, 101.72img/s]"
     ]
    },
    {
     "name": "stdout",
     "output_type": "stream",
     "text": [
      "Completed creating pizza_steak_sushi\\train\\steak\n",
      "\n",
      "Completed creating pizza_steak_sushi\\train\\steak\n",
      "\n",
      "Completed creating pizza_steak_sushi\\train\\steak\n",
      "\n",
      "Completed creating pizza_steak_sushi\\train\\steak\n",
      "\n",
      "Completed creating pizza_steak_sushi\\train\\steak\n",
      "\n",
      "Completed creating pizza_steak_sushi\\train\\steak\n",
      "\n",
      "Completed creating pizza_steak_sushi\\train\\steak\n",
      "\n",
      "Completed creating pizza_steak_sushi\\train\\steak\n",
      "\n",
      "Completed creating pizza_steak_sushi\\train\\steak\n",
      "\n",
      "Completed creating pizza_steak_sushi\\train\\steak\n",
      "\n",
      "Completed creating pizza_steak_sushi\\train\\steak\n",
      "\n",
      "Completed creating pizza_steak_sushi\\train\\steak\n",
      "\n"
     ]
    },
    {
     "name": "stderr",
     "output_type": "stream",
     "text": [
      "    Train [steak]:  14%|█▍        | 33/240 [00:00<00:02, 100.99img/s]"
     ]
    },
    {
     "name": "stdout",
     "output_type": "stream",
     "text": [
      "Completed creating pizza_steak_sushi\\train\\steak\n",
      "\n",
      "Completed creating pizza_steak_sushi\\train\\steak\n",
      "\n",
      "Completed creating pizza_steak_sushi\\train\\steak\n",
      "\n",
      "Completed creating pizza_steak_sushi\\train\\steak\n",
      "\n",
      "Completed creating pizza_steak_sushi\\train\\steak\n",
      "\n",
      "Completed creating pizza_steak_sushi\\train\\steak\n",
      "\n",
      "Completed creating pizza_steak_sushi\\train\\steak\n",
      "\n",
      "Completed creating pizza_steak_sushi\\train\\steak\n",
      "\n",
      "Completed creating pizza_steak_sushi\\train\\steak\n",
      "\n",
      "Completed creating pizza_steak_sushi\\train\\steak\n",
      "\n",
      "Completed creating pizza_steak_sushi\\train\\steak\n",
      "\n",
      "Completed creating pizza_steak_sushi\\train\\steak\n",
      "\n",
      "Completed creating pizza_steak_sushi\\train\\steak\n",
      "\n",
      "Completed creating pizza_steak_sushi\\train\\steak\n",
      "\n"
     ]
    },
    {
     "name": "stderr",
     "output_type": "stream",
     "text": [
      "    Train [steak]:  18%|█▊        | 44/240 [00:00<00:01, 102.44img/s]"
     ]
    },
    {
     "name": "stdout",
     "output_type": "stream",
     "text": [
      "Completed creating pizza_steak_sushi\\train\\steak\n",
      "\n",
      "Completed creating pizza_steak_sushi\\train\\steak\n",
      "\n",
      "Completed creating pizza_steak_sushi\\train\\steak\n",
      "\n",
      "Completed creating pizza_steak_sushi\\train\\steak\n",
      "\n",
      "Completed creating pizza_steak_sushi\\train\\steak\n",
      "\n",
      "Completed creating pizza_steak_sushi\\train\\steak\n",
      "\n",
      "Completed creating pizza_steak_sushi\\train\\steak\n",
      "\n",
      "Completed creating pizza_steak_sushi\\train\\steak\n",
      "\n"
     ]
    },
    {
     "name": "stderr",
     "output_type": "stream",
     "text": [
      "    Train [steak]:  23%|██▎       | 55/240 [00:00<00:01, 102.72img/s]"
     ]
    },
    {
     "name": "stdout",
     "output_type": "stream",
     "text": [
      "Completed creating pizza_steak_sushi\\train\\steak\n",
      "\n",
      "Completed creating pizza_steak_sushi\\train\\steak\n",
      "\n",
      "Completed creating pizza_steak_sushi\\train\\steak\n",
      "\n",
      "Completed creating pizza_steak_sushi\\train\\steak\n",
      "\n",
      "Completed creating pizza_steak_sushi\\train\\steak\n",
      "\n",
      "Completed creating pizza_steak_sushi\\train\\steak\n",
      "\n",
      "Completed creating pizza_steak_sushi\\train\\steak\n",
      "\n",
      "Completed creating pizza_steak_sushi\\train\\steak\n",
      "\n",
      "Completed creating pizza_steak_sushi\\train\\steak\n",
      "\n",
      "Completed creating pizza_steak_sushi\\train\\steak\n",
      "\n",
      "Completed creating pizza_steak_sushi\\train\\steak\n",
      "\n"
     ]
    },
    {
     "name": "stderr",
     "output_type": "stream",
     "text": [
      "    Train [steak]:  28%|██▊       | 66/240 [00:00<00:01, 101.83img/s]"
     ]
    },
    {
     "name": "stdout",
     "output_type": "stream",
     "text": [
      "Completed creating pizza_steak_sushi\\train\\steak\n",
      "\n",
      "Completed creating pizza_steak_sushi\\train\\steak\n",
      "\n",
      "Completed creating pizza_steak_sushi\\train\\steak\n",
      "\n",
      "Completed creating pizza_steak_sushi\\train\\steak\n",
      "\n",
      "Completed creating pizza_steak_sushi\\train\\steak\n",
      "\n",
      "Completed creating pizza_steak_sushi\\train\\steak\n",
      "\n",
      "Completed creating pizza_steak_sushi\\train\\steak\n",
      "\n",
      "Completed creating pizza_steak_sushi\\train\\steak\n",
      "\n",
      "Completed creating pizza_steak_sushi\\train\\steak\n",
      "\n"
     ]
    },
    {
     "name": "stderr",
     "output_type": "stream",
     "text": [
      "    Train [steak]:  32%|███▏      | 77/240 [00:00<00:01, 101.71img/s]"
     ]
    },
    {
     "name": "stdout",
     "output_type": "stream",
     "text": [
      "Completed creating pizza_steak_sushi\\train\\steak\n",
      "\n",
      "Completed creating pizza_steak_sushi\\train\\steak\n",
      "\n",
      "Completed creating pizza_steak_sushi\\train\\steak\n",
      "\n",
      "Completed creating pizza_steak_sushi\\train\\steak\n",
      "\n",
      "Completed creating pizza_steak_sushi\\train\\steak\n",
      "\n",
      "Completed creating pizza_steak_sushi\\train\\steak\n",
      "\n",
      "Completed creating pizza_steak_sushi\\train\\steak\n",
      "\n",
      "Completed creating pizza_steak_sushi\\train\\steak\n",
      "\n",
      "Completed creating pizza_steak_sushi\\train\\steak\n",
      "\n",
      "Completed creating pizza_steak_sushi\\train\\steak\n",
      "\n",
      "Completed creating pizza_steak_sushi\\train\\steak\n",
      "\n",
      "Completed creating pizza_steak_sushi\\train\\steak\n",
      "\n",
      "Completed creating pizza_steak_sushi\\train\\steak\n",
      "\n"
     ]
    },
    {
     "name": "stderr",
     "output_type": "stream",
     "text": [
      "    Train [steak]:  37%|███▋      | 88/240 [00:00<00:01, 104.10img/s]"
     ]
    },
    {
     "name": "stdout",
     "output_type": "stream",
     "text": [
      "Completed creating pizza_steak_sushi\\train\\steak\n",
      "\n",
      "Completed creating pizza_steak_sushi\\train\\steak\n",
      "\n",
      "Completed creating pizza_steak_sushi\\train\\steak\n",
      "\n",
      "Completed creating pizza_steak_sushi\\train\\steak\n",
      "\n",
      "Completed creating pizza_steak_sushi\\train\\steak\n",
      "\n",
      "Completed creating pizza_steak_sushi\\train\\steak\n",
      "\n",
      "Completed creating pizza_steak_sushi\\train\\steak\n",
      "\n",
      "Completed creating pizza_steak_sushi\\train\\steak\n",
      "\n",
      "Completed creating pizza_steak_sushi\\train\\steak\n",
      "\n"
     ]
    },
    {
     "name": "stderr",
     "output_type": "stream",
     "text": [
      "    Train [steak]:  41%|████▏     | 99/240 [00:00<00:01, 101.70img/s]"
     ]
    },
    {
     "name": "stdout",
     "output_type": "stream",
     "text": [
      "Completed creating pizza_steak_sushi\\train\\steak\n",
      "\n",
      "Completed creating pizza_steak_sushi\\train\\steak\n",
      "\n",
      "Completed creating pizza_steak_sushi\\train\\steak\n",
      "\n",
      "Completed creating pizza_steak_sushi\\train\\steak\n",
      "\n",
      "Completed creating pizza_steak_sushi\\train\\steak\n",
      "\n",
      "Completed creating pizza_steak_sushi\\train\\steak\n",
      "\n",
      "Completed creating pizza_steak_sushi\\train\\steak\n",
      "\n",
      "Completed creating pizza_steak_sushi\\train\\steak\n",
      "\n",
      "Completed creating pizza_steak_sushi\\train\\steak\n",
      "\n",
      "Completed creating pizza_steak_sushi\\train\\steak\n",
      "\n",
      "Completed creating pizza_steak_sushi\\train\\steak\n",
      "\n",
      "Completed creating pizza_steak_sushi\\train\\steak\n",
      "\n"
     ]
    },
    {
     "name": "stderr",
     "output_type": "stream",
     "text": [
      "    Train [steak]:  46%|████▋     | 111/240 [00:01<00:01, 104.56img/s]"
     ]
    },
    {
     "name": "stdout",
     "output_type": "stream",
     "text": [
      "Completed creating pizza_steak_sushi\\train\\steak\n",
      "\n",
      "Completed creating pizza_steak_sushi\\train\\steak\n",
      "\n",
      "Completed creating pizza_steak_sushi\\train\\steak\n",
      "\n",
      "Completed creating pizza_steak_sushi\\train\\steak\n",
      "\n",
      "Completed creating pizza_steak_sushi\\train\\steak\n",
      "\n",
      "Completed creating pizza_steak_sushi\\train\\steak\n",
      "\n",
      "Completed creating pizza_steak_sushi\\train\\steak\n",
      "\n",
      "Completed creating pizza_steak_sushi\\train\\steak\n",
      "\n",
      "Completed creating pizza_steak_sushi\\train\\steak\n",
      "\n",
      "Completed creating pizza_steak_sushi\\train\\steak\n",
      "\n",
      "Completed creating pizza_steak_sushi\\train\\steak\n",
      "\n",
      "Completed creating pizza_steak_sushi\\train\\steak\n",
      "\n",
      "Completed creating pizza_steak_sushi\\train\\steak\n",
      "\n",
      "Completed creating pizza_steak_sushi\\train\\steak\n",
      "\n",
      "Completed creating pizza_steak_sushi\\train\\steak\n",
      "\n",
      "Completed creating pizza_steak_sushi\\train\\steak\n",
      "\n",
      "Completed creating pizza_steak_sushi\\train\\steak\n",
      "\n"
     ]
    },
    {
     "name": "stderr",
     "output_type": "stream",
     "text": [
      "    Train [steak]:  51%|█████     | 122/240 [00:01<00:01, 90.85img/s] "
     ]
    },
    {
     "name": "stdout",
     "output_type": "stream",
     "text": [
      "Completed creating pizza_steak_sushi\\train\\steak\n",
      "\n",
      "Completed creating pizza_steak_sushi\\train\\steak\n",
      "\n",
      "Completed creating pizza_steak_sushi\\train\\steak\n",
      "\n",
      "Completed creating pizza_steak_sushi\\train\\steak\n",
      "\n",
      "Completed creating pizza_steak_sushi\\train\\steak\n",
      "\n",
      "Completed creating pizza_steak_sushi\\train\\steak\n",
      "\n",
      "Completed creating pizza_steak_sushi\\train\\steak\n",
      "\n",
      "Completed creating pizza_steak_sushi\\train\\steak\n",
      "\n",
      "Completed creating pizza_steak_sushi\\train\\steak\n",
      "\n",
      "Completed creating pizza_steak_sushi\\train\\steak\n",
      "\n"
     ]
    },
    {
     "name": "stderr",
     "output_type": "stream",
     "text": [
      "    Train [steak]:  55%|█████▌    | 132/240 [00:01<00:01, 92.78img/s]"
     ]
    },
    {
     "name": "stdout",
     "output_type": "stream",
     "text": [
      "Completed creating pizza_steak_sushi\\train\\steak\n",
      "\n",
      "Completed creating pizza_steak_sushi\\train\\steak\n",
      "\n",
      "Completed creating pizza_steak_sushi\\train\\steak\n",
      "\n",
      "Completed creating pizza_steak_sushi\\train\\steak\n",
      "\n",
      "Completed creating pizza_steak_sushi\\train\\steak\n",
      "\n",
      "Completed creating pizza_steak_sushi\\train\\steak\n",
      "\n",
      "Completed creating pizza_steak_sushi\\train\\steak\n",
      "\n",
      "Completed creating pizza_steak_sushi\\train\\steak\n",
      "\n",
      "Completed creating pizza_steak_sushi\\train\\steak\n",
      "\n",
      "Completed creating pizza_steak_sushi\\train\\steak\n",
      "\n",
      "Completed creating pizza_steak_sushi\\train\\steak\n",
      "\n"
     ]
    },
    {
     "name": "stderr",
     "output_type": "stream",
     "text": [
      "    Train [steak]:  60%|█████▉    | 143/240 [00:01<00:01, 94.94img/s]"
     ]
    },
    {
     "name": "stdout",
     "output_type": "stream",
     "text": [
      "Completed creating pizza_steak_sushi\\train\\steak\n",
      "\n",
      "Completed creating pizza_steak_sushi\\train\\steak\n",
      "\n",
      "Completed creating pizza_steak_sushi\\train\\steak\n",
      "\n",
      "Completed creating pizza_steak_sushi\\train\\steak\n",
      "\n",
      "Completed creating pizza_steak_sushi\\train\\steak\n",
      "\n",
      "Completed creating pizza_steak_sushi\\train\\steak\n",
      "\n",
      "Completed creating pizza_steak_sushi\\train\\steak\n",
      "\n",
      "Completed creating pizza_steak_sushi\\train\\steak\n",
      "\n",
      "Completed creating pizza_steak_sushi\\train\\steak\n",
      "\n",
      "Completed creating pizza_steak_sushi\\train\\steak\n",
      "\n",
      "Completed creating pizza_steak_sushi\\train\\steak\n",
      "\n"
     ]
    },
    {
     "name": "stderr",
     "output_type": "stream",
     "text": [
      "    Train [steak]:  65%|██████▍   | 155/240 [00:01<00:00, 99.89img/s]"
     ]
    },
    {
     "name": "stdout",
     "output_type": "stream",
     "text": [
      "Completed creating pizza_steak_sushi\\train\\steak\n",
      "\n",
      "Completed creating pizza_steak_sushi\\train\\steak\n",
      "\n",
      "Completed creating pizza_steak_sushi\\train\\steak\n",
      "\n",
      "Completed creating pizza_steak_sushi\\train\\steak\n",
      "\n",
      "Completed creating pizza_steak_sushi\\train\\steak\n",
      "\n",
      "Completed creating pizza_steak_sushi\\train\\steak\n",
      "\n",
      "Completed creating pizza_steak_sushi\\train\\steak\n",
      "\n",
      "Completed creating pizza_steak_sushi\\train\\steak\n",
      "\n",
      "Completed creating pizza_steak_sushi\\train\\steak\n",
      "\n",
      "Completed creating pizza_steak_sushi\\train\\steak\n",
      "\n",
      "Completed creating pizza_steak_sushi\\train\\steak\n",
      "\n",
      "Completed creating pizza_steak_sushi\\train\\steak\n",
      "\n",
      "Completed creating pizza_steak_sushi\\train\\steak\n",
      "\n"
     ]
    },
    {
     "name": "stderr",
     "output_type": "stream",
     "text": [
      "    Train [steak]:  70%|██████▉   | 167/240 [00:01<00:00, 104.29img/s]"
     ]
    },
    {
     "name": "stdout",
     "output_type": "stream",
     "text": [
      "Completed creating pizza_steak_sushi\\train\\steak\n",
      "\n",
      "Completed creating pizza_steak_sushi\\train\\steak\n",
      "\n",
      "Completed creating pizza_steak_sushi\\train\\steak\n",
      "\n",
      "Completed creating pizza_steak_sushi\\train\\steak\n",
      "\n",
      "Completed creating pizza_steak_sushi\\train\\steak\n",
      "\n",
      "Completed creating pizza_steak_sushi\\train\\steak\n",
      "\n",
      "Completed creating pizza_steak_sushi\\train\\steak\n",
      "\n",
      "Completed creating pizza_steak_sushi\\train\\steak\n",
      "\n",
      "Completed creating pizza_steak_sushi\\train\\steak\n",
      "\n",
      "Completed creating pizza_steak_sushi\\train\\steak\n",
      "\n",
      "Completed creating pizza_steak_sushi\\train\\steak\n",
      "\n",
      "Completed creating pizza_steak_sushi\\train\\steak\n",
      "\n"
     ]
    },
    {
     "name": "stderr",
     "output_type": "stream",
     "text": [
      "    Train [steak]:  75%|███████▍  | 179/240 [00:01<00:00, 106.51img/s]"
     ]
    },
    {
     "name": "stdout",
     "output_type": "stream",
     "text": [
      "Completed creating pizza_steak_sushi\\train\\steak\n",
      "\n",
      "Completed creating pizza_steak_sushi\\train\\steak\n",
      "\n",
      "Completed creating pizza_steak_sushi\\train\\steak\n",
      "\n",
      "Completed creating pizza_steak_sushi\\train\\steak\n",
      "\n",
      "Completed creating pizza_steak_sushi\\train\\steak\n",
      "\n",
      "Completed creating pizza_steak_sushi\\train\\steak\n",
      "\n",
      "Completed creating pizza_steak_sushi\\train\\steak\n",
      "\n",
      "Completed creating pizza_steak_sushi\\train\\steak\n",
      "\n",
      "Completed creating pizza_steak_sushi\\train\\steak\n",
      "\n",
      "Completed creating pizza_steak_sushi\\train\\steak\n",
      "\n",
      "Completed creating pizza_steak_sushi\\train\\steak\n",
      "\n",
      "Completed creating pizza_steak_sushi\\train\\steak\n",
      "\n"
     ]
    },
    {
     "name": "stderr",
     "output_type": "stream",
     "text": [
      "    Train [steak]:  80%|███████▉  | 191/240 [00:01<00:00, 109.07img/s]"
     ]
    },
    {
     "name": "stdout",
     "output_type": "stream",
     "text": [
      "Completed creating pizza_steak_sushi\\train\\steak\n",
      "\n",
      "Completed creating pizza_steak_sushi\\train\\steak\n",
      "\n",
      "Completed creating pizza_steak_sushi\\train\\steak\n",
      "\n",
      "Completed creating pizza_steak_sushi\\train\\steak\n",
      "\n",
      "Completed creating pizza_steak_sushi\\train\\steak\n",
      "\n",
      "Completed creating pizza_steak_sushi\\train\\steak\n",
      "\n",
      "Completed creating pizza_steak_sushi\\train\\steak\n",
      "\n",
      "Completed creating pizza_steak_sushi\\train\\steak\n",
      "\n",
      "Completed creating pizza_steak_sushi\\train\\steak\n",
      "\n",
      "Completed creating pizza_steak_sushi\\train\\steak\n",
      "\n",
      "Completed creating pizza_steak_sushi\\train\\steak\n",
      "\n",
      "Completed creating pizza_steak_sushi\\train\\steak\n",
      "\n"
     ]
    },
    {
     "name": "stderr",
     "output_type": "stream",
     "text": [
      "    Train [steak]:  84%|████████▍ | 202/240 [00:01<00:00, 108.93img/s]"
     ]
    },
    {
     "name": "stdout",
     "output_type": "stream",
     "text": [
      "Completed creating pizza_steak_sushi\\train\\steak\n",
      "\n",
      "Completed creating pizza_steak_sushi\\train\\steak\n",
      "\n",
      "Completed creating pizza_steak_sushi\\train\\steak\n",
      "\n",
      "Completed creating pizza_steak_sushi\\train\\steak\n",
      "\n",
      "Completed creating pizza_steak_sushi\\train\\steak\n",
      "\n",
      "Completed creating pizza_steak_sushi\\train\\steak\n",
      "\n",
      "Completed creating pizza_steak_sushi\\train\\steak\n",
      "\n",
      "Completed creating pizza_steak_sushi\\train\\steak\n",
      "\n",
      "Completed creating pizza_steak_sushi\\train\\steak\n",
      "\n",
      "Completed creating pizza_steak_sushi\\train\\steak\n",
      "\n"
     ]
    },
    {
     "name": "stderr",
     "output_type": "stream",
     "text": [
      "    Train [steak]:  89%|████████▉ | 213/240 [00:02<00:00, 105.47img/s]"
     ]
    },
    {
     "name": "stdout",
     "output_type": "stream",
     "text": [
      "Completed creating pizza_steak_sushi\\train\\steak\n",
      "\n",
      "Completed creating pizza_steak_sushi\\train\\steak\n",
      "\n",
      "Completed creating pizza_steak_sushi\\train\\steak\n",
      "\n",
      "Completed creating pizza_steak_sushi\\train\\steak\n",
      "\n",
      "Completed creating pizza_steak_sushi\\train\\steak\n",
      "\n",
      "Completed creating pizza_steak_sushi\\train\\steak\n",
      "\n",
      "Completed creating pizza_steak_sushi\\train\\steak\n",
      "\n",
      "Completed creating pizza_steak_sushi\\train\\steak\n",
      "\n",
      "Completed creating pizza_steak_sushi\\train\\steak\n",
      "\n",
      "Completed creating pizza_steak_sushi\\train\\steak\n",
      "\n"
     ]
    },
    {
     "name": "stderr",
     "output_type": "stream",
     "text": [
      "    Train [steak]:  93%|█████████▎| 224/240 [00:02<00:00, 104.73img/s]"
     ]
    },
    {
     "name": "stdout",
     "output_type": "stream",
     "text": [
      "Completed creating pizza_steak_sushi\\train\\steak\n",
      "\n",
      "Completed creating pizza_steak_sushi\\train\\steak\n",
      "\n",
      "Completed creating pizza_steak_sushi\\train\\steak\n",
      "\n",
      "Completed creating pizza_steak_sushi\\train\\steak\n",
      "\n",
      "Completed creating pizza_steak_sushi\\train\\steak\n",
      "\n",
      "Completed creating pizza_steak_sushi\\train\\steak\n",
      "\n",
      "Completed creating pizza_steak_sushi\\train\\steak\n",
      "\n",
      "Completed creating pizza_steak_sushi\\train\\steak\n",
      "\n",
      "Completed creating pizza_steak_sushi\\train\\steak\n",
      "\n",
      "Completed creating pizza_steak_sushi\\train\\steak\n",
      "\n",
      "Completed creating pizza_steak_sushi\\train\\steak\n",
      "\n",
      "Completed creating pizza_steak_sushi\\train\\steak\n",
      "\n",
      "Completed creating pizza_steak_sushi\\train\\steak\n",
      "\n"
     ]
    },
    {
     "name": "stderr",
     "output_type": "stream",
     "text": [
      "    Train [steak]: 100%|██████████| 240/240 [00:02<00:00, 102.67img/s]\n"
     ]
    },
    {
     "name": "stdout",
     "output_type": "stream",
     "text": [
      "Completed creating pizza_steak_sushi\\train\\steak\n",
      "\n",
      "Completed creating pizza_steak_sushi\\train\\steak\n",
      "\n",
      "Completed creating pizza_steak_sushi\\train\\steak\n",
      "\n",
      "Completed creating pizza_steak_sushi\\train\\steak\n",
      "\n",
      "Completed creating pizza_steak_sushi\\train\\steak\n",
      "\n"
     ]
    },
    {
     "name": "stderr",
     "output_type": "stream",
     "text": [
      "    Test [steak]:   0%|          | 0/60 [00:00<?, ?img/s]"
     ]
    },
    {
     "name": "stdout",
     "output_type": "stream",
     "text": [
      "Completed creating custom pizza_steak_sushi\\test\\steak\n",
      "Completed creating custom pizza_steak_sushi\\test\\steak\n",
      "Completed creating custom pizza_steak_sushi\\test\\steak\n",
      "Completed creating custom pizza_steak_sushi\\test\\steak\n"
     ]
    },
    {
     "name": "stderr",
     "output_type": "stream",
     "text": [
      "    Test [steak]:  18%|█▊        | 11/60 [00:00<00:00, 107.88img/s]"
     ]
    },
    {
     "name": "stdout",
     "output_type": "stream",
     "text": [
      "Completed creating custom pizza_steak_sushi\\test\\steak\n",
      "Completed creating custom pizza_steak_sushi\\test\\steak\n",
      "Completed creating custom pizza_steak_sushi\\test\\steak\n",
      "Completed creating custom pizza_steak_sushi\\test\\steak\n",
      "Completed creating custom pizza_steak_sushi\\test\\steak\n",
      "Completed creating custom pizza_steak_sushi\\test\\steak\n",
      "Completed creating custom pizza_steak_sushi\\test\\steak\n",
      "Completed creating custom pizza_steak_sushi\\test\\steak\n",
      "Completed creating custom pizza_steak_sushi\\test\\steak\n",
      "Completed creating custom pizza_steak_sushi\\test\\steak\n",
      "Completed creating custom pizza_steak_sushi\\test\\steak\n",
      "Completed creating custom pizza_steak_sushi\\test\\steak\n",
      "Completed creating custom pizza_steak_sushi\\test\\steak\n",
      "Completed creating custom pizza_steak_sushi\\test\\steak\n",
      "Completed creating custom pizza_steak_sushi\\test\\steak\n",
      "Completed creating custom pizza_steak_sushi\\test\\steak\n"
     ]
    },
    {
     "name": "stderr",
     "output_type": "stream",
     "text": [
      "    Test [steak]:  37%|███▋      | 22/60 [00:00<00:00, 107.18img/s]"
     ]
    },
    {
     "name": "stdout",
     "output_type": "stream",
     "text": [
      "Completed creating custom pizza_steak_sushi\\test\\steak\n",
      "Completed creating custom pizza_steak_sushi\\test\\steak\n",
      "Completed creating custom pizza_steak_sushi\\test\\steak\n",
      "Completed creating custom pizza_steak_sushi\\test\\steak\n",
      "Completed creating custom pizza_steak_sushi\\test\\steak\n"
     ]
    },
    {
     "name": "stderr",
     "output_type": "stream",
     "text": [
      "    Test [steak]:  55%|█████▌    | 33/60 [00:00<00:00, 91.59img/s] "
     ]
    },
    {
     "name": "stdout",
     "output_type": "stream",
     "text": [
      "Completed creating custom pizza_steak_sushi\\test\\steak\n",
      "Completed creating custom pizza_steak_sushi\\test\\steak\n",
      "Completed creating custom pizza_steak_sushi\\test\\steak\n",
      "Completed creating custom pizza_steak_sushi\\test\\steak\n",
      "Completed creating custom pizza_steak_sushi\\test\\steak\n",
      "Completed creating custom pizza_steak_sushi\\test\\steak\n",
      "Completed creating custom pizza_steak_sushi\\test\\steak\n",
      "Completed creating custom pizza_steak_sushi\\test\\steak\n",
      "Completed creating custom pizza_steak_sushi\\test\\steak\n",
      "Completed creating custom pizza_steak_sushi\\test\\steak\n",
      "Completed creating custom pizza_steak_sushi\\test\\steak\n",
      "Completed creating custom pizza_steak_sushi\\test\\steak\n",
      "Completed creating custom pizza_steak_sushi\\test\\steak\n",
      "Completed creating custom pizza_steak_sushi\\test\\steak\n",
      "Completed creating custom pizza_steak_sushi\\test\\steak\n",
      "Completed creating custom pizza_steak_sushi\\test\\steak\n",
      "Completed creating custom pizza_steak_sushi\\test\\steak\n",
      "Completed creating custom pizza_steak_sushi\\test\\steak\n",
      "Completed creating custom pizza_steak_sushi\\test\\steak\n"
     ]
    },
    {
     "name": "stderr",
     "output_type": "stream",
     "text": [
      "    Test [steak]:  73%|███████▎  | 44/60 [00:00<00:00, 96.64img/s]"
     ]
    },
    {
     "name": "stdout",
     "output_type": "stream",
     "text": [
      "Completed creating custom pizza_steak_sushi\\test\\steak\n",
      "Completed creating custom pizza_steak_sushi\\test\\steak\n",
      "Completed creating custom pizza_steak_sushi\\test\\steak\n",
      "Completed creating custom pizza_steak_sushi\\test\\steak\n",
      "Completed creating custom pizza_steak_sushi\\test\\steak\n",
      "Completed creating custom pizza_steak_sushi\\test\\steak\n",
      "Completed creating custom pizza_steak_sushi\\test\\steak\n",
      "Completed creating custom pizza_steak_sushi\\test\\steak\n"
     ]
    },
    {
     "name": "stderr",
     "output_type": "stream",
     "text": [
      "    Test [steak]:  90%|█████████ | 54/60 [00:00<00:00, 93.13img/s]"
     ]
    },
    {
     "name": "stdout",
     "output_type": "stream",
     "text": [
      "Completed creating custom pizza_steak_sushi\\test\\steak\n",
      "Completed creating custom pizza_steak_sushi\\test\\steak\n",
      "Completed creating custom pizza_steak_sushi\\test\\steak\n",
      "Completed creating custom pizza_steak_sushi\\test\\steak\n",
      "Completed creating custom pizza_steak_sushi\\test\\steak\n",
      "Completed creating custom pizza_steak_sushi\\test\\steak\n",
      "Completed creating custom pizza_steak_sushi\\test\\steak\n"
     ]
    },
    {
     "name": "stderr",
     "output_type": "stream",
     "text": [
      "    Test [steak]: 100%|██████████| 60/60 [00:00<00:00, 94.80img/s]\n"
     ]
    },
    {
     "name": "stdout",
     "output_type": "stream",
     "text": [
      "Completed creating custom pizza_steak_sushi\\test\\steak\n",
      "train images for sushi: 240\n",
      "test images for sushi: 60\n",
      "\n"
     ]
    },
    {
     "name": "stderr",
     "output_type": "stream",
     "text": [
      "    Train [sushi]:   0%|          | 0/240 [00:00<?, ?img/s]"
     ]
    },
    {
     "name": "stdout",
     "output_type": "stream",
     "text": [
      "Completed creating pizza_steak_sushi\\train\\sushi\n",
      "\n",
      "Completed creating pizza_steak_sushi\\train\\sushi\n",
      "\n",
      "Completed creating pizza_steak_sushi\\train\\sushi\n",
      "\n",
      "Completed creating pizza_steak_sushi\\train\\sushi\n",
      "\n",
      "Completed creating pizza_steak_sushi\\train\\sushi\n",
      "\n",
      "Completed creating pizza_steak_sushi\\train\\sushi\n",
      "\n",
      "Completed creating pizza_steak_sushi\\train\\sushi\n",
      "\n",
      "Completed creating pizza_steak_sushi\\train\\sushi\n",
      "\n",
      "Completed creating pizza_steak_sushi\\train\\sushi\n",
      "\n",
      "Completed creating pizza_steak_sushi\\train\\sushi\n",
      "\n"
     ]
    },
    {
     "name": "stderr",
     "output_type": "stream",
     "text": [
      "    Train [sushi]:   5%|▍         | 11/240 [00:00<00:02, 98.36img/s]"
     ]
    },
    {
     "name": "stdout",
     "output_type": "stream",
     "text": [
      "Completed creating pizza_steak_sushi\\train\\sushi\n",
      "\n",
      "Completed creating pizza_steak_sushi\\train\\sushi\n",
      "\n",
      "Completed creating pizza_steak_sushi\\train\\sushi\n",
      "\n",
      "Completed creating pizza_steak_sushi\\train\\sushi\n",
      "\n",
      "Completed creating pizza_steak_sushi\\train\\sushi\n",
      "\n",
      "Completed creating pizza_steak_sushi\\train\\sushi\n",
      "\n",
      "Completed creating pizza_steak_sushi\\train\\sushi\n",
      "\n",
      "Completed creating pizza_steak_sushi\\train\\sushi\n",
      "\n",
      "Completed creating pizza_steak_sushi\\train\\sushi\n"
     ]
    },
    {
     "name": "stderr",
     "output_type": "stream",
     "text": [
      "    Train [sushi]:   9%|▉         | 21/240 [00:00<00:02, 91.52img/s]"
     ]
    },
    {
     "name": "stdout",
     "output_type": "stream",
     "text": [
      "\n",
      "Completed creating pizza_steak_sushi\\train\\sushi\n",
      "\n",
      "Completed creating pizza_steak_sushi\\train\\sushi\n",
      "\n",
      "Completed creating pizza_steak_sushi\\train\\sushi\n",
      "\n",
      "Completed creating pizza_steak_sushi\\train\\sushi\n",
      "\n",
      "Completed creating pizza_steak_sushi\\train\\sushi\n",
      "\n",
      "Completed creating pizza_steak_sushi\\train\\sushi\n",
      "\n",
      "Completed creating pizza_steak_sushi\\train\\sushi\n",
      "\n",
      "Completed creating pizza_steak_sushi\\train\\sushi\n",
      "\n",
      "Completed creating pizza_steak_sushi\\train\\sushi\n",
      "\n",
      "Completed creating pizza_steak_sushi\\train\\sushi\n",
      "\n",
      "Completed creating pizza_steak_sushi\\train\\sushi\n",
      "\n"
     ]
    },
    {
     "name": "stderr",
     "output_type": "stream",
     "text": [
      "    Train [sushi]:  13%|█▎        | 31/240 [00:00<00:02, 91.75img/s]"
     ]
    },
    {
     "name": "stdout",
     "output_type": "stream",
     "text": [
      "Completed creating pizza_steak_sushi\\train\\sushi\n",
      "\n",
      "Completed creating pizza_steak_sushi\\train\\sushi\n",
      "\n",
      "Completed creating pizza_steak_sushi\\train\\sushi\n",
      "\n",
      "Completed creating pizza_steak_sushi\\train\\sushi\n",
      "\n",
      "Completed creating pizza_steak_sushi\\train\\sushi\n",
      "\n",
      "Completed creating pizza_steak_sushi\\train\\sushi\n",
      "\n",
      "Completed creating pizza_steak_sushi\\train\\sushi\n",
      "\n",
      "Completed creating pizza_steak_sushi\\train\\sushi\n",
      "\n",
      "Completed creating pizza_steak_sushi\\train\\sushi\n",
      "\n",
      "Completed creating pizza_steak_sushi\\train\\sushi\n",
      "\n",
      "Completed creating pizza_steak_sushi\\train\\sushi\n",
      "\n"
     ]
    },
    {
     "name": "stderr",
     "output_type": "stream",
     "text": [
      "    Train [sushi]:  18%|█▊        | 44/240 [00:00<00:01, 102.09img/s]"
     ]
    },
    {
     "name": "stdout",
     "output_type": "stream",
     "text": [
      "Completed creating pizza_steak_sushi\\train\\sushi\n",
      "\n",
      "Completed creating pizza_steak_sushi\\train\\sushi\n",
      "\n",
      "Completed creating pizza_steak_sushi\\train\\sushi\n",
      "\n",
      "Completed creating pizza_steak_sushi\\train\\sushi\n",
      "\n",
      "Completed creating pizza_steak_sushi\\train\\sushi\n",
      "\n",
      "Completed creating pizza_steak_sushi\\train\\sushi\n",
      "\n",
      "Completed creating pizza_steak_sushi\\train\\sushi\n",
      "\n",
      "Completed creating pizza_steak_sushi\\train\\sushi\n",
      "\n",
      "Completed creating pizza_steak_sushi\\train\\sushi\n",
      "\n",
      "Completed creating pizza_steak_sushi\\train\\sushi\n",
      "\n",
      "Completed creating pizza_steak_sushi\\train\\sushi\n",
      "\n",
      "Completed creating pizza_steak_sushi\\train\\sushi\n",
      "\n",
      "Completed creating pizza_steak_sushi\\train\\sushi\n",
      "\n",
      "Completed creating pizza_steak_sushi\\train\\sushi\n",
      "\n"
     ]
    },
    {
     "name": "stderr",
     "output_type": "stream",
     "text": [
      "    Train [sushi]:  23%|██▎       | 56/240 [00:00<00:01, 105.42img/s]"
     ]
    },
    {
     "name": "stdout",
     "output_type": "stream",
     "text": [
      "Completed creating pizza_steak_sushi\\train\\sushi\n",
      "\n",
      "Completed creating pizza_steak_sushi\\train\\sushi\n",
      "\n",
      "Completed creating pizza_steak_sushi\\train\\sushi\n",
      "\n",
      "Completed creating pizza_steak_sushi\\train\\sushi\n",
      "\n",
      "Completed creating pizza_steak_sushi\\train\\sushi\n",
      "\n",
      "Completed creating pizza_steak_sushi\\train\\sushi\n",
      "\n",
      "Completed creating pizza_steak_sushi\\train\\sushi\n",
      "\n",
      "Completed creating pizza_steak_sushi\\train\\sushi\n",
      "\n",
      "Completed creating pizza_steak_sushi\\train\\sushi\n",
      "\n",
      "Completed creating pizza_steak_sushi\\train\\sushi\n",
      "\n",
      "Completed creating pizza_steak_sushi\\train\\sushi\n",
      "\n"
     ]
    },
    {
     "name": "stderr",
     "output_type": "stream",
     "text": [
      "    Train [sushi]:  29%|██▉       | 69/240 [00:00<00:01, 108.14img/s]"
     ]
    },
    {
     "name": "stdout",
     "output_type": "stream",
     "text": [
      "Completed creating pizza_steak_sushi\\train\\sushi\n",
      "\n",
      "Completed creating pizza_steak_sushi\\train\\sushi\n",
      "\n",
      "Completed creating pizza_steak_sushi\\train\\sushi\n",
      "\n",
      "Completed creating pizza_steak_sushi\\train\\sushi\n",
      "\n",
      "Completed creating pizza_steak_sushi\\train\\sushi\n",
      "\n",
      "Completed creating pizza_steak_sushi\\train\\sushi\n",
      "\n",
      "Completed creating pizza_steak_sushi\\train\\sushi\n",
      "\n",
      "Completed creating pizza_steak_sushi\\train\\sushi\n",
      "\n",
      "Completed creating pizza_steak_sushi\\train\\sushi\n",
      "\n",
      "Completed creating pizza_steak_sushi\\train\\sushi\n",
      "\n",
      "Completed creating pizza_steak_sushi\\train\\sushi\n",
      "\n"
     ]
    },
    {
     "name": "stderr",
     "output_type": "stream",
     "text": [
      "    Train [sushi]:  33%|███▎      | 80/240 [00:00<00:01, 108.66img/s]"
     ]
    },
    {
     "name": "stdout",
     "output_type": "stream",
     "text": [
      "Completed creating pizza_steak_sushi\\train\\sushi\n",
      "\n",
      "Completed creating pizza_steak_sushi\\train\\sushi\n",
      "\n",
      "Completed creating pizza_steak_sushi\\train\\sushi\n",
      "\n",
      "Completed creating pizza_steak_sushi\\train\\sushi\n",
      "\n",
      "Completed creating pizza_steak_sushi\\train\\sushi\n",
      "\n",
      "Completed creating pizza_steak_sushi\\train\\sushi\n",
      "\n",
      "Completed creating pizza_steak_sushi\\train\\sushi\n",
      "\n",
      "Completed creating pizza_steak_sushi\\train\\sushi\n",
      "\n",
      "Completed creating pizza_steak_sushi\\train\\sushi\n",
      "\n",
      "Completed creating pizza_steak_sushi\\train\\sushi\n",
      "\n",
      "Completed creating pizza_steak_sushi\\train\\sushi\n",
      "\n"
     ]
    },
    {
     "name": "stderr",
     "output_type": "stream",
     "text": [
      "    Train [sushi]:  38%|███▊      | 91/240 [00:00<00:01, 109.02img/s]"
     ]
    },
    {
     "name": "stdout",
     "output_type": "stream",
     "text": [
      "Completed creating pizza_steak_sushi\\train\\sushi\n",
      "\n",
      "Completed creating pizza_steak_sushi\\train\\sushi\n",
      "\n",
      "Completed creating pizza_steak_sushi\\train\\sushi\n",
      "\n",
      "Completed creating pizza_steak_sushi\\train\\sushi\n",
      "\n",
      "Completed creating pizza_steak_sushi\\train\\sushi\n",
      "\n",
      "Completed creating pizza_steak_sushi\\train\\sushi\n",
      "\n",
      "Completed creating pizza_steak_sushi\\train\\sushi\n",
      "\n",
      "Completed creating pizza_steak_sushi\\train\\sushi\n",
      "\n",
      "Completed creating pizza_steak_sushi\\train\\sushi\n",
      "\n",
      "Completed creating pizza_steak_sushi\\train\\sushi\n",
      "\n",
      "Completed creating pizza_steak_sushi\\train\\sushi\n",
      "\n"
     ]
    },
    {
     "name": "stderr",
     "output_type": "stream",
     "text": [
      "    Train [sushi]:  42%|████▎     | 102/240 [00:00<00:01, 101.57img/s]"
     ]
    },
    {
     "name": "stdout",
     "output_type": "stream",
     "text": [
      "Completed creating pizza_steak_sushi\\train\\sushi\n",
      "\n",
      "Completed creating pizza_steak_sushi\\train\\sushi\n",
      "\n",
      "Completed creating pizza_steak_sushi\\train\\sushi\n",
      "\n",
      "Completed creating pizza_steak_sushi\\train\\sushi\n",
      "\n",
      "Completed creating pizza_steak_sushi\\train\\sushi\n",
      "\n",
      "Completed creating pizza_steak_sushi\\train\\sushi\n",
      "\n",
      "Completed creating pizza_steak_sushi\\train\\sushi\n",
      "\n",
      "Completed creating pizza_steak_sushi\\train\\sushi\n",
      "\n",
      "Completed creating pizza_steak_sushi\\train\\sushi\n",
      "\n"
     ]
    },
    {
     "name": "stderr",
     "output_type": "stream",
     "text": [
      "    Train [sushi]:  47%|████▋     | 113/240 [00:01<00:01, 95.65img/s] "
     ]
    },
    {
     "name": "stdout",
     "output_type": "stream",
     "text": [
      "Completed creating pizza_steak_sushi\\train\\sushi\n",
      "\n",
      "Completed creating pizza_steak_sushi\\train\\sushi\n",
      "\n",
      "Completed creating pizza_steak_sushi\\train\\sushi\n",
      "\n",
      "Completed creating pizza_steak_sushi\\train\\sushi\n",
      "\n",
      "Completed creating pizza_steak_sushi\\train\\sushi\n",
      "\n",
      "Completed creating pizza_steak_sushi\\train\\sushi\n",
      "\n",
      "Completed creating pizza_steak_sushi\\train\\sushi\n",
      "\n",
      "Completed creating pizza_steak_sushi\\train\\sushi\n",
      "\n",
      "Completed creating pizza_steak_sushi\\train\\sushi\n",
      "\n"
     ]
    },
    {
     "name": "stderr",
     "output_type": "stream",
     "text": [
      "    Train [sushi]:  52%|█████▏    | 124/240 [00:01<00:01, 97.56img/s]"
     ]
    },
    {
     "name": "stdout",
     "output_type": "stream",
     "text": [
      "Completed creating pizza_steak_sushi\\train\\sushi\n",
      "\n",
      "Completed creating pizza_steak_sushi\\train\\sushi\n",
      "\n",
      "Completed creating pizza_steak_sushi\\train\\sushi\n",
      "\n",
      "Completed creating pizza_steak_sushi\\train\\sushi\n",
      "\n",
      "Completed creating pizza_steak_sushi\\train\\sushi\n",
      "\n",
      "Completed creating pizza_steak_sushi\\train\\sushi\n",
      "\n",
      "Completed creating pizza_steak_sushi\\train\\sushi\n",
      "\n",
      "Completed creating pizza_steak_sushi\\train\\sushi\n",
      "\n",
      "Completed creating pizza_steak_sushi\\train\\sushi\n",
      "\n",
      "Completed creating pizza_steak_sushi\\train\\sushi\n",
      "\n",
      "Completed creating pizza_steak_sushi\\train\\sushi\n",
      "\n"
     ]
    },
    {
     "name": "stderr",
     "output_type": "stream",
     "text": [
      "    Train [sushi]:  56%|█████▌    | 134/240 [00:01<00:01, 97.96img/s]"
     ]
    },
    {
     "name": "stdout",
     "output_type": "stream",
     "text": [
      "Completed creating pizza_steak_sushi\\train\\sushi\n",
      "\n",
      "Completed creating pizza_steak_sushi\\train\\sushi\n",
      "\n",
      "Completed creating pizza_steak_sushi\\train\\sushi\n",
      "\n",
      "Completed creating pizza_steak_sushi\\train\\sushi\n",
      "\n",
      "Completed creating pizza_steak_sushi\\train\\sushi\n",
      "\n",
      "Completed creating pizza_steak_sushi\\train\\sushi\n",
      "\n",
      "Completed creating pizza_steak_sushi\\train\\sushi\n",
      "\n",
      "Completed creating pizza_steak_sushi\\train\\sushi\n",
      "\n"
     ]
    },
    {
     "name": "stderr",
     "output_type": "stream",
     "text": [
      "    Train [sushi]:  60%|██████    | 144/240 [00:01<00:00, 97.78img/s]"
     ]
    },
    {
     "name": "stdout",
     "output_type": "stream",
     "text": [
      "Completed creating pizza_steak_sushi\\train\\sushi\n",
      "\n",
      "Completed creating pizza_steak_sushi\\train\\sushi\n",
      "\n",
      "Completed creating pizza_steak_sushi\\train\\sushi\n",
      "\n",
      "Completed creating pizza_steak_sushi\\train\\sushi\n",
      "\n",
      "Completed creating pizza_steak_sushi\\train\\sushi\n",
      "\n",
      "Completed creating pizza_steak_sushi\\train\\sushi\n",
      "\n",
      "Completed creating pizza_steak_sushi\\train\\sushi\n",
      "\n",
      "Completed creating pizza_steak_sushi\\train\\sushi\n",
      "\n",
      "Completed creating pizza_steak_sushi\\train\\sushi\n",
      "\n",
      "Completed creating pizza_steak_sushi\\train\\sushi\n",
      "\n",
      "Completed creating pizza_steak_sushi\\train\\sushi\n",
      "\n",
      "Completed creating pizza_steak_sushi\\train\\sushi\n",
      "\n"
     ]
    },
    {
     "name": "stderr",
     "output_type": "stream",
     "text": [
      "    Train [sushi]:  64%|██████▍   | 154/240 [00:01<00:00, 97.61img/s]"
     ]
    },
    {
     "name": "stdout",
     "output_type": "stream",
     "text": [
      "Completed creating pizza_steak_sushi\\train\\sushi\n",
      "\n",
      "Completed creating pizza_steak_sushi\\train\\sushi\n",
      "\n",
      "Completed creating pizza_steak_sushi\\train\\sushi\n",
      "\n",
      "Completed creating pizza_steak_sushi\\train\\sushi\n",
      "\n",
      "Completed creating pizza_steak_sushi\\train\\sushi\n",
      "\n",
      "Completed creating pizza_steak_sushi\\train\\sushi\n",
      "\n",
      "Completed creating pizza_steak_sushi\\train\\sushi\n",
      "\n",
      "Completed creating pizza_steak_sushi\\train\\sushi\n",
      "\n",
      "Completed creating pizza_steak_sushi\\train\\sushi\n",
      "\n"
     ]
    },
    {
     "name": "stderr",
     "output_type": "stream",
     "text": [
      "    Train [sushi]:  68%|██████▊   | 164/240 [00:01<00:00, 96.94img/s]"
     ]
    },
    {
     "name": "stdout",
     "output_type": "stream",
     "text": [
      "Completed creating pizza_steak_sushi\\train\\sushi\n",
      "\n",
      "Completed creating pizza_steak_sushi\\train\\sushi\n",
      "\n",
      "Completed creating pizza_steak_sushi\\train\\sushi\n",
      "\n",
      "Completed creating pizza_steak_sushi\\train\\sushi\n",
      "\n",
      "Completed creating pizza_steak_sushi\\train\\sushi\n",
      "\n",
      "Completed creating pizza_steak_sushi\\train\\sushi\n",
      "\n",
      "Completed creating pizza_steak_sushi\\train\\sushi\n",
      "\n",
      "Completed creating pizza_steak_sushi\\train\\sushi\n",
      "\n",
      "Completed creating pizza_steak_sushi\\train\\sushi\n",
      "\n",
      "Completed creating pizza_steak_sushi\\train\\sushi\n",
      "\n",
      "Completed creating pizza_steak_sushi\\train\\sushi\n",
      "\n",
      "Completed creating pizza_steak_sushi\\train\\sushi\n",
      "\n"
     ]
    },
    {
     "name": "stderr",
     "output_type": "stream",
     "text": [
      "    Train [sushi]:  73%|███████▎  | 175/240 [00:01<00:00, 99.73img/s]"
     ]
    },
    {
     "name": "stdout",
     "output_type": "stream",
     "text": [
      "Completed creating pizza_steak_sushi\\train\\sushi\n",
      "\n",
      "Completed creating pizza_steak_sushi\\train\\sushi\n",
      "\n",
      "Completed creating pizza_steak_sushi\\train\\sushi\n",
      "\n",
      "Completed creating pizza_steak_sushi\\train\\sushi\n",
      "\n",
      "Completed creating pizza_steak_sushi\\train\\sushi\n",
      "\n",
      "Completed creating pizza_steak_sushi\\train\\sushi\n",
      "\n",
      "Completed creating pizza_steak_sushi\\train\\sushi\n",
      "\n",
      "Completed creating pizza_steak_sushi\\train\\sushi\n",
      "\n",
      "Completed creating pizza_steak_sushi\\train\\sushi\n",
      "\n"
     ]
    },
    {
     "name": "stderr",
     "output_type": "stream",
     "text": [
      "    Train [sushi]:  78%|███████▊  | 186/240 [00:01<00:00, 101.40img/s]"
     ]
    },
    {
     "name": "stdout",
     "output_type": "stream",
     "text": [
      "Completed creating pizza_steak_sushi\\train\\sushi\n",
      "\n",
      "Completed creating pizza_steak_sushi\\train\\sushi\n",
      "\n",
      "Completed creating pizza_steak_sushi\\train\\sushi\n",
      "\n",
      "Completed creating pizza_steak_sushi\\train\\sushi\n",
      "\n",
      "Completed creating pizza_steak_sushi\\train\\sushi\n",
      "\n",
      "Completed creating pizza_steak_sushi\\train\\sushi\n",
      "\n",
      "Completed creating pizza_steak_sushi\\train\\sushi\n",
      "\n",
      "Completed creating pizza_steak_sushi\\train\\sushi\n",
      "\n",
      "Completed creating pizza_steak_sushi\\train\\sushi\n",
      "\n",
      "Completed creating pizza_steak_sushi\\train\\sushi\n",
      "\n",
      "Completed creating pizza_steak_sushi\\train\\sushi\n",
      "\n",
      "Completed creating pizza_steak_sushi\\train\\sushi\n",
      "\n",
      "Completed creating pizza_steak_sushi\\train\\sushi\n",
      "\n"
     ]
    },
    {
     "name": "stderr",
     "output_type": "stream",
     "text": [
      "    Train [sushi]:  82%|████████▏ | 197/240 [00:01<00:00, 102.85img/s]"
     ]
    },
    {
     "name": "stdout",
     "output_type": "stream",
     "text": [
      "Completed creating pizza_steak_sushi\\train\\sushi\n",
      "\n",
      "Completed creating pizza_steak_sushi\\train\\sushi\n",
      "\n",
      "Completed creating pizza_steak_sushi\\train\\sushi\n",
      "\n",
      "Completed creating pizza_steak_sushi\\train\\sushi\n",
      "\n",
      "Completed creating pizza_steak_sushi\\train\\sushi\n",
      "\n",
      "Completed creating pizza_steak_sushi\\train\\sushi\n",
      "\n",
      "Completed creating pizza_steak_sushi\\train\\sushi\n",
      "\n",
      "Completed creating pizza_steak_sushi\\train\\sushi\n",
      "\n",
      "Completed creating pizza_steak_sushi\\train\\sushi\n",
      "\n",
      "Completed creating pizza_steak_sushi\\train\\sushi\n",
      "\n"
     ]
    },
    {
     "name": "stderr",
     "output_type": "stream",
     "text": [
      "    Train [sushi]:  87%|████████▋ | 208/240 [00:02<00:00, 102.49img/s]"
     ]
    },
    {
     "name": "stdout",
     "output_type": "stream",
     "text": [
      "Completed creating pizza_steak_sushi\\train\\sushi\n",
      "\n",
      "Completed creating pizza_steak_sushi\\train\\sushi\n",
      "\n",
      "Completed creating pizza_steak_sushi\\train\\sushi\n",
      "\n",
      "Completed creating pizza_steak_sushi\\train\\sushi\n",
      "\n",
      "Completed creating pizza_steak_sushi\\train\\sushi\n",
      "\n",
      "Completed creating pizza_steak_sushi\\train\\sushi\n",
      "\n",
      "Completed creating pizza_steak_sushi\\train\\sushi\n",
      "\n",
      "Completed creating pizza_steak_sushi\\train\\sushi\n",
      "\n",
      "Completed creating pizza_steak_sushi\\train\\sushi\n",
      "\n",
      "Completed creating pizza_steak_sushi\\train\\sushi\n",
      "\n"
     ]
    },
    {
     "name": "stderr",
     "output_type": "stream",
     "text": [
      "    Train [sushi]:  91%|█████████▏| 219/240 [00:02<00:00, 100.56img/s]"
     ]
    },
    {
     "name": "stdout",
     "output_type": "stream",
     "text": [
      "Completed creating pizza_steak_sushi\\train\\sushi\n",
      "\n",
      "Completed creating pizza_steak_sushi\\train\\sushi\n",
      "\n",
      "Completed creating pizza_steak_sushi\\train\\sushi\n",
      "\n",
      "Completed creating pizza_steak_sushi\\train\\sushi\n",
      "\n",
      "Completed creating pizza_steak_sushi\\train\\sushi\n",
      "\n",
      "Completed creating pizza_steak_sushi\\train\\sushi\n",
      "\n",
      "Completed creating pizza_steak_sushi\\train\\sushi\n",
      "\n",
      "Completed creating pizza_steak_sushi\\train\\sushi\n",
      "\n",
      "Completed creating pizza_steak_sushi\\train\\sushi\n",
      "\n",
      "Completed creating pizza_steak_sushi\\train\\sushi\n",
      "\n",
      "Completed creating pizza_steak_sushi\\train\\sushi\n",
      "\n",
      "Completed creating pizza_steak_sushi\\train\\sushi\n",
      "\n"
     ]
    },
    {
     "name": "stderr",
     "output_type": "stream",
     "text": [
      "    Train [sushi]:  96%|█████████▌| 230/240 [00:02<00:00, 102.16img/s]"
     ]
    },
    {
     "name": "stdout",
     "output_type": "stream",
     "text": [
      "Completed creating pizza_steak_sushi\\train\\sushi\n",
      "\n",
      "Completed creating pizza_steak_sushi\\train\\sushi\n",
      "\n",
      "Completed creating pizza_steak_sushi\\train\\sushi\n",
      "\n",
      "Completed creating pizza_steak_sushi\\train\\sushi\n",
      "\n",
      "Completed creating pizza_steak_sushi\\train\\sushi\n",
      "\n",
      "Completed creating pizza_steak_sushi\\train\\sushi\n",
      "\n",
      "Completed creating pizza_steak_sushi\\train\\sushi\n",
      "\n",
      "Completed creating pizza_steak_sushi\\train\\sushi\n",
      "\n",
      "Completed creating pizza_steak_sushi\\train\\sushi\n",
      "\n",
      "Completed creating pizza_steak_sushi\\train\\sushi\n",
      "\n",
      "Completed creating pizza_steak_sushi\\train\\sushi\n",
      "\n"
     ]
    },
    {
     "name": "stderr",
     "output_type": "stream",
     "text": [
      "    Train [sushi]: 100%|██████████| 240/240 [00:02<00:00, 101.08img/s]\n"
     ]
    },
    {
     "name": "stdout",
     "output_type": "stream",
     "text": [
      "Completed creating pizza_steak_sushi\\train\\sushi\n",
      "\n",
      "Completed creating pizza_steak_sushi\\train\\sushi\n",
      "\n",
      "Completed creating pizza_steak_sushi\\train\\sushi\n",
      "\n",
      "Completed creating pizza_steak_sushi\\train\\sushi\n",
      "\n",
      "Completed creating pizza_steak_sushi\\train\\sushi\n",
      "\n",
      "Completed creating pizza_steak_sushi\\train\\sushi\n",
      "\n"
     ]
    },
    {
     "name": "stderr",
     "output_type": "stream",
     "text": [
      "    Test [sushi]:   0%|          | 0/60 [00:00<?, ?img/s]"
     ]
    },
    {
     "name": "stdout",
     "output_type": "stream",
     "text": [
      "Completed creating custom pizza_steak_sushi\\test\\sushi\n",
      "Completed creating custom pizza_steak_sushi\\test\\sushi\n",
      "Completed creating custom pizza_steak_sushi\\test\\sushi\n",
      "Completed creating custom pizza_steak_sushi\\test\\sushi\n",
      "Completed creating custom pizza_steak_sushi\\test\\sushi\n"
     ]
    },
    {
     "name": "stderr",
     "output_type": "stream",
     "text": [
      "    Test [sushi]:  17%|█▋        | 10/60 [00:00<00:00, 99.17img/s]"
     ]
    },
    {
     "name": "stdout",
     "output_type": "stream",
     "text": [
      "Completed creating custom pizza_steak_sushi\\test\\sushi\n",
      "Completed creating custom pizza_steak_sushi\\test\\sushi\n",
      "Completed creating custom pizza_steak_sushi\\test\\sushi\n",
      "Completed creating custom pizza_steak_sushi\\test\\sushi\n",
      "Completed creating custom pizza_steak_sushi\\test\\sushi\n",
      "Completed creating custom pizza_steak_sushi\\test\\sushi\n",
      "Completed creating custom pizza_steak_sushi\\test\\sushi\n",
      "Completed creating custom pizza_steak_sushi\\test\\sushi\n",
      "Completed creating custom pizza_steak_sushi\\test\\sushi\n",
      "Completed creating custom pizza_steak_sushi\\test\\sushi\n",
      "Completed creating custom pizza_steak_sushi\\test\\sushi\n",
      "Completed creating custom pizza_steak_sushi\\test\\sushi\n",
      "Completed creating custom pizza_steak_sushi\\test\\sushi\n",
      "Completed creating custom pizza_steak_sushi\\test\\sushi\n"
     ]
    },
    {
     "name": "stderr",
     "output_type": "stream",
     "text": [
      "    Test [sushi]:  33%|███▎      | 20/60 [00:00<00:00, 98.42img/s]"
     ]
    },
    {
     "name": "stdout",
     "output_type": "stream",
     "text": [
      "Completed creating custom pizza_steak_sushi\\test\\sushi\n",
      "Completed creating custom pizza_steak_sushi\\test\\sushi\n",
      "Completed creating custom pizza_steak_sushi\\test\\sushi\n",
      "Completed creating custom pizza_steak_sushi\\test\\sushi\n",
      "Completed creating custom pizza_steak_sushi\\test\\sushi\n",
      "Completed creating custom pizza_steak_sushi\\test\\sushi\n",
      "Completed creating custom pizza_steak_sushi\\test\\sushi\n"
     ]
    },
    {
     "name": "stderr",
     "output_type": "stream",
     "text": [
      "    Test [sushi]:  52%|█████▏    | 31/60 [00:00<00:00, 101.77img/s]"
     ]
    },
    {
     "name": "stdout",
     "output_type": "stream",
     "text": [
      "Completed creating custom pizza_steak_sushi\\test\\sushi\n",
      "Completed creating custom pizza_steak_sushi\\test\\sushi\n",
      "Completed creating custom pizza_steak_sushi\\test\\sushi\n",
      "Completed creating custom pizza_steak_sushi\\test\\sushi\n",
      "Completed creating custom pizza_steak_sushi\\test\\sushi\n",
      "Completed creating custom pizza_steak_sushi\\test\\sushi\n",
      "Completed creating custom pizza_steak_sushi\\test\\sushi\n",
      "Completed creating custom pizza_steak_sushi\\test\\sushi\n",
      "Completed creating custom pizza_steak_sushi\\test\\sushi\n",
      "Completed creating custom pizza_steak_sushi\\test\\sushi\n",
      "Completed creating custom pizza_steak_sushi\\test\\sushi\n",
      "Completed creating custom pizza_steak_sushi\\test\\sushi\n",
      "Completed creating custom pizza_steak_sushi\\test\\sushi\n"
     ]
    },
    {
     "name": "stderr",
     "output_type": "stream",
     "text": [
      "    Test [sushi]:  70%|███████   | 42/60 [00:00<00:00, 98.96img/s] "
     ]
    },
    {
     "name": "stdout",
     "output_type": "stream",
     "text": [
      "Completed creating custom pizza_steak_sushi\\test\\sushi\n",
      "Completed creating custom pizza_steak_sushi\\test\\sushi\n",
      "Completed creating custom pizza_steak_sushi\\test\\sushi\n",
      "Completed creating custom pizza_steak_sushi\\test\\sushi\n",
      "Completed creating custom pizza_steak_sushi\\test\\sushi\n",
      "Completed creating custom pizza_steak_sushi\\test\\sushi\n",
      "Completed creating custom pizza_steak_sushi\\test\\sushi\n",
      "Completed creating custom pizza_steak_sushi\\test\\sushi\n"
     ]
    },
    {
     "name": "stderr",
     "output_type": "stream",
     "text": [
      "    Test [sushi]:  88%|████████▊ | 53/60 [00:00<00:00, 101.19img/s]"
     ]
    },
    {
     "name": "stdout",
     "output_type": "stream",
     "text": [
      "Completed creating custom pizza_steak_sushi\\test\\sushi\n",
      "Completed creating custom pizza_steak_sushi\\test\\sushi\n",
      "Completed creating custom pizza_steak_sushi\\test\\sushi\n",
      "Completed creating custom pizza_steak_sushi\\test\\sushi\n",
      "Completed creating custom pizza_steak_sushi\\test\\sushi\n",
      "Completed creating custom pizza_steak_sushi\\test\\sushi\n",
      "Completed creating custom pizza_steak_sushi\\test\\sushi\n",
      "Completed creating custom pizza_steak_sushi\\test\\sushi\n",
      "Completed creating custom pizza_steak_sushi\\test\\sushi\n",
      "Completed creating custom pizza_steak_sushi\\test\\sushi\n",
      "Completed creating custom pizza_steak_sushi\\test\\sushi\n",
      "Completed creating custom pizza_steak_sushi\\test\\sushi\n",
      "Completed creating custom pizza_steak_sushi\\test\\sushi\n"
     ]
    },
    {
     "name": "stderr",
     "output_type": "stream",
     "text": [
      "    Test [sushi]: 100%|██████████| 60/60 [00:00<00:00, 99.91img/s] \n"
     ]
    }
   ],
   "source": [
    "create_custom_data(\n",
    "    data_loc=data_dir,\n",
    "    train_loc=Path(pss/\"train\"),\n",
    "    test_loc=Path(pss/\"test\"),\n",
    "    classes=[\"pizza\",\"steak\",\"sushi\"],\n",
    "    size=30,\n",
    "    train_test_split=80)"
   ]
  },
  {
   "cell_type": "code",
   "execution_count": 6,
   "id": "66f61d7a",
   "metadata": {},
   "outputs": [
    {
     "name": "stdout",
     "output_type": "stream",
     "text": [
      "train length:413\n",
      "test length: 119\n"
     ]
    }
   ],
   "source": [
    "files = list((pss/\"train\"/\"pizza\").rglob(\"*\"))\n",
    "print(f\"train length:{len(files)}\")\n",
    "print(f\"test length: {len(list((pss/'test'/'pizza').rglob('*')))}\")\n"
   ]
  }
 ],
 "metadata": {
  "kernelspec": {
   "display_name": "mlvenv",
   "language": "python",
   "name": "python3"
  },
  "language_info": {
   "codemirror_mode": {
    "name": "ipython",
    "version": 3
   },
   "file_extension": ".py",
   "mimetype": "text/x-python",
   "name": "python",
   "nbconvert_exporter": "python",
   "pygments_lexer": "ipython3",
   "version": "3.11.5"
  }
 },
 "nbformat": 4,
 "nbformat_minor": 5
}
