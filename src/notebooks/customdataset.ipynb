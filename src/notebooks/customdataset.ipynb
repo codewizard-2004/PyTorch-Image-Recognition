{
 "cells": [
  {
   "cell_type": "markdown",
   "id": "08e6ea5a",
   "metadata": {},
   "source": [
    "# Creating custom Dataset\n",
    "* 40% of each class (400 for each class)\n",
    "* train dataset: 75% of class (300)\n",
    "* test dataset: 25% of class (100)"
   ]
  },
  {
   "cell_type": "code",
   "execution_count": 14,
   "id": "0b445a21",
   "metadata": {},
   "outputs": [],
   "source": [
    "import sys\n",
    "import os\n",
    "sys.path.append(os.path.abspath(\"..\"))  # Go up from notebooks/ to project root"
   ]
  },
  {
   "cell_type": "code",
   "execution_count": 15,
   "id": "7b8daa69",
   "metadata": {},
   "outputs": [],
   "source": [
    "import pathlib\n",
    "\n",
    "data_dir = pathlib.Path(\"./data/food-101/images\")"
   ]
  },
  {
   "cell_type": "markdown",
   "id": "9bb0bce6",
   "metadata": {},
   "source": [
    "# To use ImageFolder class using PyTorch\n",
    "\n",
    "* customdata/\n",
    "    * train/\n",
    "        * pizza/\n",
    "            * image1.png\n",
    "            * image300.png\n",
    "        * steak/\n",
    "            * image1.png\n",
    "            * image300.png\n",
    "    * test/\n",
    "        * pizza/\n",
    "            * image1.png\n",
    "            * image300.png\n",
    "        * steak/\n",
    "            * image1.png\n",
    "            * image2.png"
   ]
  },
  {
   "cell_type": "code",
   "execution_count": 29,
   "id": "058c4a2a",
   "metadata": {},
   "outputs": [
    {
     "name": "stdout",
     "output_type": "stream",
     "text": [
      "created new directory: customdata\\test\n",
      "\n",
      "created new directory: customdata\\train\n"
     ]
    }
   ],
   "source": [
    "def create_custom_dirs(base_dir):\n",
    "    \"\"\"\n",
    "    Creates custom train and test directories under the given base_dir.\n",
    "    Returns the paths to train and test directories.\n",
    "    \"\"\"\n",
    "    custom_train_loc = base_dir / \"train\"\n",
    "    custom_test_loc = base_dir / \"test\"\n",
    "    base_dir.mkdir(exist_ok=True)\n",
    "    \n",
    "    custom_train_loc.mkdir(parents=True, exist_ok=True)\n",
    "    custom_test_loc.mkdir(parents=True, exist_ok=True)\n",
    "    print(f\"created new directory: {custom_test_loc}\\n\")\n",
    "    print(f\"created new directory: {custom_train_loc}\")\n",
    "    return custom_train_loc, custom_test_loc\n",
    "\n",
    "custom_data = pathlib.Path(\"./customdata\")\n",
    "custom_train_loc, custom_test_loc = create_custom_dirs(custom_data)\n",
    "    "
   ]
  },
  {
   "cell_type": "code",
   "execution_count": 19,
   "id": "8925bc6e",
   "metadata": {},
   "outputs": [
    {
     "data": {
      "text/plain": [
       "['apple_pie',\n",
       " 'baby_back_ribs',\n",
       " 'baklava',\n",
       " 'beef_carpaccio',\n",
       " 'beef_tartare',\n",
       " 'beet_salad',\n",
       " 'beignets',\n",
       " 'bibimbap',\n",
       " 'bread_pudding',\n",
       " 'breakfast_burrito']"
      ]
     },
     "execution_count": 19,
     "metadata": {},
     "output_type": "execute_result"
    }
   ],
   "source": [
    "from helper.data_setup import get_classnames\n",
    "\n",
    "classes = get_classnames()\n",
    "classes[:10]"
   ]
  },
  {
   "cell_type": "code",
   "execution_count": 30,
   "id": "08ecb2d0",
   "metadata": {},
   "outputs": [
    {
     "name": "stdout",
     "output_type": "stream",
     "text": [
      "train images for apple_pie: 300\n",
      "test images for apple_pie: 100\n",
      "\n"
     ]
    },
    {
     "name": "stderr",
     "output_type": "stream",
     "text": [
      "    Train [apple_pie]: 100%|██████████| 300/300 [00:04<00:00, 68.46img/s]\n"
     ]
    },
    {
     "name": "stdout",
     "output_type": "stream",
     "text": [
      "Completed creating customdata\\train\\apple_pie\n",
      "\n"
     ]
    },
    {
     "name": "stderr",
     "output_type": "stream",
     "text": [
      "    Test [apple_pie]: 100%|██████████| 100/100 [00:01<00:00, 80.17img/s]\n"
     ]
    },
    {
     "name": "stdout",
     "output_type": "stream",
     "text": [
      "Completed creating custom customdata\\test\\apple_pie\n",
      "train images for baby_back_ribs: 300\n",
      "test images for baby_back_ribs: 100\n",
      "\n"
     ]
    },
    {
     "name": "stderr",
     "output_type": "stream",
     "text": [
      "    Train [baby_back_ribs]: 100%|██████████| 300/300 [00:03<00:00, 75.48img/s]\n"
     ]
    },
    {
     "name": "stdout",
     "output_type": "stream",
     "text": [
      "Completed creating customdata\\train\\baby_back_ribs\n",
      "\n"
     ]
    },
    {
     "name": "stderr",
     "output_type": "stream",
     "text": [
      "    Test [baby_back_ribs]: 100%|██████████| 100/100 [00:01<00:00, 77.96img/s]\n"
     ]
    },
    {
     "name": "stdout",
     "output_type": "stream",
     "text": [
      "Completed creating custom customdata\\test\\baby_back_ribs\n",
      "train images for baklava: 300\n",
      "test images for baklava: 100\n",
      "\n"
     ]
    },
    {
     "name": "stderr",
     "output_type": "stream",
     "text": [
      "    Train [baklava]: 100%|██████████| 300/300 [00:03<00:00, 76.57img/s]\n"
     ]
    },
    {
     "name": "stdout",
     "output_type": "stream",
     "text": [
      "Completed creating customdata\\train\\baklava\n",
      "\n"
     ]
    },
    {
     "name": "stderr",
     "output_type": "stream",
     "text": [
      "    Test [baklava]: 100%|██████████| 100/100 [00:01<00:00, 79.20img/s]\n"
     ]
    },
    {
     "name": "stdout",
     "output_type": "stream",
     "text": [
      "Completed creating custom customdata\\test\\baklava\n",
      "train images for beef_carpaccio: 300\n",
      "test images for beef_carpaccio: 100\n",
      "\n"
     ]
    },
    {
     "name": "stderr",
     "output_type": "stream",
     "text": [
      "    Train [beef_carpaccio]: 100%|██████████| 300/300 [00:03<00:00, 79.50img/s]\n"
     ]
    },
    {
     "name": "stdout",
     "output_type": "stream",
     "text": [
      "Completed creating customdata\\train\\beef_carpaccio\n",
      "\n"
     ]
    },
    {
     "name": "stderr",
     "output_type": "stream",
     "text": [
      "    Test [beef_carpaccio]: 100%|██████████| 100/100 [00:01<00:00, 82.32img/s]\n"
     ]
    },
    {
     "name": "stdout",
     "output_type": "stream",
     "text": [
      "Completed creating custom customdata\\test\\beef_carpaccio\n",
      "train images for beef_tartare: 300\n",
      "test images for beef_tartare: 100\n",
      "\n"
     ]
    },
    {
     "name": "stderr",
     "output_type": "stream",
     "text": [
      "    Train [beef_tartare]: 100%|██████████| 300/300 [00:03<00:00, 82.07img/s]\n"
     ]
    },
    {
     "name": "stdout",
     "output_type": "stream",
     "text": [
      "Completed creating customdata\\train\\beef_tartare\n",
      "\n"
     ]
    },
    {
     "name": "stderr",
     "output_type": "stream",
     "text": [
      "    Test [beef_tartare]: 100%|██████████| 100/100 [00:01<00:00, 80.42img/s]\n"
     ]
    },
    {
     "name": "stdout",
     "output_type": "stream",
     "text": [
      "Completed creating custom customdata\\test\\beef_tartare\n",
      "train images for beet_salad: 300\n",
      "test images for beet_salad: 100\n",
      "\n"
     ]
    },
    {
     "name": "stderr",
     "output_type": "stream",
     "text": [
      "    Train [beet_salad]: 100%|██████████| 300/300 [00:03<00:00, 75.15img/s]\n"
     ]
    },
    {
     "name": "stdout",
     "output_type": "stream",
     "text": [
      "Completed creating customdata\\train\\beet_salad\n",
      "\n"
     ]
    },
    {
     "name": "stderr",
     "output_type": "stream",
     "text": [
      "    Test [beet_salad]: 100%|██████████| 100/100 [00:01<00:00, 75.55img/s]\n"
     ]
    },
    {
     "name": "stdout",
     "output_type": "stream",
     "text": [
      "Completed creating custom customdata\\test\\beet_salad\n",
      "train images for beignets: 300\n",
      "test images for beignets: 100\n",
      "\n"
     ]
    },
    {
     "name": "stderr",
     "output_type": "stream",
     "text": [
      "    Train [beignets]: 100%|██████████| 300/300 [00:04<00:00, 73.99img/s] \n"
     ]
    },
    {
     "name": "stdout",
     "output_type": "stream",
     "text": [
      "Completed creating customdata\\train\\beignets\n",
      "\n"
     ]
    },
    {
     "name": "stderr",
     "output_type": "stream",
     "text": [
      "    Test [beignets]: 100%|██████████| 100/100 [00:00<00:00, 129.51img/s]\n"
     ]
    },
    {
     "name": "stdout",
     "output_type": "stream",
     "text": [
      "Completed creating custom customdata\\test\\beignets\n",
      "train images for bibimbap: 300\n",
      "test images for bibimbap: 100\n",
      "\n"
     ]
    },
    {
     "name": "stderr",
     "output_type": "stream",
     "text": [
      "    Train [bibimbap]: 100%|██████████| 300/300 [00:02<00:00, 124.72img/s]\n"
     ]
    },
    {
     "name": "stdout",
     "output_type": "stream",
     "text": [
      "Completed creating customdata\\train\\bibimbap\n",
      "\n"
     ]
    },
    {
     "name": "stderr",
     "output_type": "stream",
     "text": [
      "    Test [bibimbap]: 100%|██████████| 100/100 [00:00<00:00, 128.41img/s]\n"
     ]
    },
    {
     "name": "stdout",
     "output_type": "stream",
     "text": [
      "Completed creating custom customdata\\test\\bibimbap\n",
      "train images for bread_pudding: 300\n",
      "test images for bread_pudding: 100\n",
      "\n"
     ]
    },
    {
     "name": "stderr",
     "output_type": "stream",
     "text": [
      "    Train [bread_pudding]: 100%|██████████| 300/300 [00:02<00:00, 124.90img/s]\n"
     ]
    },
    {
     "name": "stdout",
     "output_type": "stream",
     "text": [
      "Completed creating customdata\\train\\bread_pudding\n",
      "\n"
     ]
    },
    {
     "name": "stderr",
     "output_type": "stream",
     "text": [
      "    Test [bread_pudding]: 100%|██████████| 100/100 [00:00<00:00, 133.10img/s]\n"
     ]
    },
    {
     "name": "stdout",
     "output_type": "stream",
     "text": [
      "Completed creating custom customdata\\test\\bread_pudding\n",
      "train images for breakfast_burrito: 300\n",
      "test images for breakfast_burrito: 100\n",
      "\n"
     ]
    },
    {
     "name": "stderr",
     "output_type": "stream",
     "text": [
      "    Train [breakfast_burrito]: 100%|██████████| 300/300 [00:02<00:00, 129.53img/s]\n"
     ]
    },
    {
     "name": "stdout",
     "output_type": "stream",
     "text": [
      "Completed creating customdata\\train\\breakfast_burrito\n",
      "\n"
     ]
    },
    {
     "name": "stderr",
     "output_type": "stream",
     "text": [
      "    Test [breakfast_burrito]: 100%|██████████| 100/100 [00:00<00:00, 131.07img/s]\n"
     ]
    },
    {
     "name": "stdout",
     "output_type": "stream",
     "text": [
      "Completed creating custom customdata\\test\\breakfast_burrito\n",
      "train images for bruschetta: 300\n",
      "test images for bruschetta: 100\n",
      "\n"
     ]
    },
    {
     "name": "stderr",
     "output_type": "stream",
     "text": [
      "    Train [bruschetta]: 100%|██████████| 300/300 [00:02<00:00, 134.30img/s]\n"
     ]
    },
    {
     "name": "stdout",
     "output_type": "stream",
     "text": [
      "Completed creating customdata\\train\\bruschetta\n",
      "\n"
     ]
    },
    {
     "name": "stderr",
     "output_type": "stream",
     "text": [
      "    Test [bruschetta]: 100%|██████████| 100/100 [00:00<00:00, 136.41img/s]\n"
     ]
    },
    {
     "name": "stdout",
     "output_type": "stream",
     "text": [
      "Completed creating custom customdata\\test\\bruschetta\n",
      "train images for caesar_salad: 300\n",
      "test images for caesar_salad: 100\n",
      "\n"
     ]
    },
    {
     "name": "stderr",
     "output_type": "stream",
     "text": [
      "    Train [caesar_salad]: 100%|██████████| 300/300 [00:02<00:00, 133.64img/s]\n"
     ]
    },
    {
     "name": "stdout",
     "output_type": "stream",
     "text": [
      "Completed creating customdata\\train\\caesar_salad\n",
      "\n"
     ]
    },
    {
     "name": "stderr",
     "output_type": "stream",
     "text": [
      "    Test [caesar_salad]: 100%|██████████| 100/100 [00:00<00:00, 131.60img/s]\n"
     ]
    },
    {
     "name": "stdout",
     "output_type": "stream",
     "text": [
      "Completed creating custom customdata\\test\\caesar_salad\n",
      "train images for cannoli: 300\n",
      "test images for cannoli: 100\n",
      "\n"
     ]
    },
    {
     "name": "stderr",
     "output_type": "stream",
     "text": [
      "    Train [cannoli]: 100%|██████████| 300/300 [00:02<00:00, 135.36img/s]\n"
     ]
    },
    {
     "name": "stdout",
     "output_type": "stream",
     "text": [
      "Completed creating customdata\\train\\cannoli\n",
      "\n"
     ]
    },
    {
     "name": "stderr",
     "output_type": "stream",
     "text": [
      "    Test [cannoli]: 100%|██████████| 100/100 [00:00<00:00, 125.18img/s]\n"
     ]
    },
    {
     "name": "stdout",
     "output_type": "stream",
     "text": [
      "Completed creating custom customdata\\test\\cannoli\n",
      "train images for caprese_salad: 300\n",
      "test images for caprese_salad: 100\n",
      "\n"
     ]
    },
    {
     "name": "stderr",
     "output_type": "stream",
     "text": [
      "    Train [caprese_salad]: 100%|██████████| 300/300 [00:02<00:00, 114.18img/s]\n"
     ]
    },
    {
     "name": "stdout",
     "output_type": "stream",
     "text": [
      "Completed creating customdata\\train\\caprese_salad\n",
      "\n"
     ]
    },
    {
     "name": "stderr",
     "output_type": "stream",
     "text": [
      "    Test [caprese_salad]: 100%|██████████| 100/100 [00:00<00:00, 125.12img/s]\n"
     ]
    },
    {
     "name": "stdout",
     "output_type": "stream",
     "text": [
      "Completed creating custom customdata\\test\\caprese_salad\n",
      "train images for carrot_cake: 300\n",
      "test images for carrot_cake: 100\n",
      "\n"
     ]
    },
    {
     "name": "stderr",
     "output_type": "stream",
     "text": [
      "    Train [carrot_cake]: 100%|██████████| 300/300 [00:02<00:00, 134.26img/s]\n"
     ]
    },
    {
     "name": "stdout",
     "output_type": "stream",
     "text": [
      "Completed creating customdata\\train\\carrot_cake\n",
      "\n"
     ]
    },
    {
     "name": "stderr",
     "output_type": "stream",
     "text": [
      "    Test [carrot_cake]: 100%|██████████| 100/100 [00:00<00:00, 131.38img/s]\n"
     ]
    },
    {
     "name": "stdout",
     "output_type": "stream",
     "text": [
      "Completed creating custom customdata\\test\\carrot_cake\n",
      "train images for ceviche: 300\n",
      "test images for ceviche: 100\n",
      "\n"
     ]
    },
    {
     "name": "stderr",
     "output_type": "stream",
     "text": [
      "    Train [ceviche]: 100%|██████████| 300/300 [00:02<00:00, 132.94img/s]\n"
     ]
    },
    {
     "name": "stdout",
     "output_type": "stream",
     "text": [
      "Completed creating customdata\\train\\ceviche\n",
      "\n"
     ]
    },
    {
     "name": "stderr",
     "output_type": "stream",
     "text": [
      "    Test [ceviche]: 100%|██████████| 100/100 [00:00<00:00, 133.37img/s]\n"
     ]
    },
    {
     "name": "stdout",
     "output_type": "stream",
     "text": [
      "Completed creating custom customdata\\test\\ceviche\n",
      "train images for cheesecake: 300\n",
      "test images for cheesecake: 100\n",
      "\n"
     ]
    },
    {
     "name": "stderr",
     "output_type": "stream",
     "text": [
      "    Train [cheesecake]: 100%|██████████| 300/300 [00:02<00:00, 132.34img/s]\n"
     ]
    },
    {
     "name": "stdout",
     "output_type": "stream",
     "text": [
      "Completed creating customdata\\train\\cheesecake\n",
      "\n"
     ]
    },
    {
     "name": "stderr",
     "output_type": "stream",
     "text": [
      "    Test [cheesecake]: 100%|██████████| 100/100 [00:00<00:00, 120.24img/s]\n"
     ]
    },
    {
     "name": "stdout",
     "output_type": "stream",
     "text": [
      "Completed creating custom customdata\\test\\cheesecake\n",
      "train images for cheese_plate: 300\n",
      "test images for cheese_plate: 100\n",
      "\n"
     ]
    },
    {
     "name": "stderr",
     "output_type": "stream",
     "text": [
      "    Train [cheese_plate]: 100%|██████████| 300/300 [00:02<00:00, 135.43img/s]\n"
     ]
    },
    {
     "name": "stdout",
     "output_type": "stream",
     "text": [
      "Completed creating customdata\\train\\cheese_plate\n",
      "\n"
     ]
    },
    {
     "name": "stderr",
     "output_type": "stream",
     "text": [
      "    Test [cheese_plate]: 100%|██████████| 100/100 [00:00<00:00, 130.72img/s]\n"
     ]
    },
    {
     "name": "stdout",
     "output_type": "stream",
     "text": [
      "Completed creating custom customdata\\test\\cheese_plate\n",
      "train images for chicken_curry: 300\n",
      "test images for chicken_curry: 100\n",
      "\n"
     ]
    },
    {
     "name": "stderr",
     "output_type": "stream",
     "text": [
      "    Train [chicken_curry]: 100%|██████████| 300/300 [00:02<00:00, 133.51img/s]\n"
     ]
    },
    {
     "name": "stdout",
     "output_type": "stream",
     "text": [
      "Completed creating customdata\\train\\chicken_curry\n",
      "\n"
     ]
    },
    {
     "name": "stderr",
     "output_type": "stream",
     "text": [
      "    Test [chicken_curry]: 100%|██████████| 100/100 [00:00<00:00, 134.12img/s]\n"
     ]
    },
    {
     "name": "stdout",
     "output_type": "stream",
     "text": [
      "Completed creating custom customdata\\test\\chicken_curry\n",
      "train images for chicken_quesadilla: 300\n",
      "test images for chicken_quesadilla: 100\n",
      "\n"
     ]
    },
    {
     "name": "stderr",
     "output_type": "stream",
     "text": [
      "    Train [chicken_quesadilla]: 100%|██████████| 300/300 [00:02<00:00, 132.02img/s]\n"
     ]
    },
    {
     "name": "stdout",
     "output_type": "stream",
     "text": [
      "Completed creating customdata\\train\\chicken_quesadilla\n",
      "\n"
     ]
    },
    {
     "name": "stderr",
     "output_type": "stream",
     "text": [
      "    Test [chicken_quesadilla]: 100%|██████████| 100/100 [00:00<00:00, 133.69img/s]\n"
     ]
    },
    {
     "name": "stdout",
     "output_type": "stream",
     "text": [
      "Completed creating custom customdata\\test\\chicken_quesadilla\n",
      "train images for chicken_wings: 300\n",
      "test images for chicken_wings: 100\n",
      "\n"
     ]
    },
    {
     "name": "stderr",
     "output_type": "stream",
     "text": [
      "    Train [chicken_wings]: 100%|██████████| 300/300 [00:02<00:00, 129.94img/s]\n"
     ]
    },
    {
     "name": "stdout",
     "output_type": "stream",
     "text": [
      "Completed creating customdata\\train\\chicken_wings\n",
      "\n"
     ]
    },
    {
     "name": "stderr",
     "output_type": "stream",
     "text": [
      "    Test [chicken_wings]: 100%|██████████| 100/100 [00:00<00:00, 122.06img/s]\n"
     ]
    },
    {
     "name": "stdout",
     "output_type": "stream",
     "text": [
      "Completed creating custom customdata\\test\\chicken_wings\n",
      "train images for chocolate_cake: 300\n",
      "test images for chocolate_cake: 100\n",
      "\n"
     ]
    },
    {
     "name": "stderr",
     "output_type": "stream",
     "text": [
      "    Train [chocolate_cake]: 100%|██████████| 300/300 [00:02<00:00, 133.69img/s]\n"
     ]
    },
    {
     "name": "stdout",
     "output_type": "stream",
     "text": [
      "Completed creating customdata\\train\\chocolate_cake\n",
      "\n"
     ]
    },
    {
     "name": "stderr",
     "output_type": "stream",
     "text": [
      "    Test [chocolate_cake]: 100%|██████████| 100/100 [00:00<00:00, 131.98img/s]\n"
     ]
    },
    {
     "name": "stdout",
     "output_type": "stream",
     "text": [
      "Completed creating custom customdata\\test\\chocolate_cake\n",
      "train images for chocolate_mousse: 300\n",
      "test images for chocolate_mousse: 100\n",
      "\n"
     ]
    },
    {
     "name": "stderr",
     "output_type": "stream",
     "text": [
      "    Train [chocolate_mousse]: 100%|██████████| 300/300 [00:02<00:00, 130.14img/s]\n"
     ]
    },
    {
     "name": "stdout",
     "output_type": "stream",
     "text": [
      "Completed creating customdata\\train\\chocolate_mousse\n",
      "\n"
     ]
    },
    {
     "name": "stderr",
     "output_type": "stream",
     "text": [
      "    Test [chocolate_mousse]: 100%|██████████| 100/100 [00:01<00:00, 89.98img/s]\n"
     ]
    },
    {
     "name": "stdout",
     "output_type": "stream",
     "text": [
      "Completed creating custom customdata\\test\\chocolate_mousse\n",
      "train images for churros: 300\n",
      "test images for churros: 100\n",
      "\n"
     ]
    },
    {
     "name": "stderr",
     "output_type": "stream",
     "text": [
      "    Train [churros]: 100%|██████████| 300/300 [00:02<00:00, 110.71img/s]\n"
     ]
    },
    {
     "name": "stdout",
     "output_type": "stream",
     "text": [
      "Completed creating customdata\\train\\churros\n",
      "\n"
     ]
    },
    {
     "name": "stderr",
     "output_type": "stream",
     "text": [
      "    Test [churros]: 100%|██████████| 100/100 [00:00<00:00, 134.70img/s]\n"
     ]
    },
    {
     "name": "stdout",
     "output_type": "stream",
     "text": [
      "Completed creating custom customdata\\test\\churros\n",
      "train images for clam_chowder: 300\n",
      "test images for clam_chowder: 100\n",
      "\n"
     ]
    },
    {
     "name": "stderr",
     "output_type": "stream",
     "text": [
      "    Train [clam_chowder]: 100%|██████████| 300/300 [00:02<00:00, 131.13img/s]\n"
     ]
    },
    {
     "name": "stdout",
     "output_type": "stream",
     "text": [
      "Completed creating customdata\\train\\clam_chowder\n",
      "\n"
     ]
    },
    {
     "name": "stderr",
     "output_type": "stream",
     "text": [
      "    Test [clam_chowder]: 100%|██████████| 100/100 [00:00<00:00, 135.80img/s]\n"
     ]
    },
    {
     "name": "stdout",
     "output_type": "stream",
     "text": [
      "Completed creating custom customdata\\test\\clam_chowder\n",
      "train images for club_sandwich: 300\n",
      "test images for club_sandwich: 100\n",
      "\n"
     ]
    },
    {
     "name": "stderr",
     "output_type": "stream",
     "text": [
      "    Train [club_sandwich]: 100%|██████████| 300/300 [00:02<00:00, 129.21img/s]\n"
     ]
    },
    {
     "name": "stdout",
     "output_type": "stream",
     "text": [
      "Completed creating customdata\\train\\club_sandwich\n",
      "\n"
     ]
    },
    {
     "name": "stderr",
     "output_type": "stream",
     "text": [
      "    Test [club_sandwich]: 100%|██████████| 100/100 [00:00<00:00, 131.56img/s]\n"
     ]
    },
    {
     "name": "stdout",
     "output_type": "stream",
     "text": [
      "Completed creating custom customdata\\test\\club_sandwich\n",
      "train images for crab_cakes: 300\n",
      "test images for crab_cakes: 100\n",
      "\n"
     ]
    },
    {
     "name": "stderr",
     "output_type": "stream",
     "text": [
      "    Train [crab_cakes]: 100%|██████████| 300/300 [00:02<00:00, 133.71img/s]\n"
     ]
    },
    {
     "name": "stdout",
     "output_type": "stream",
     "text": [
      "Completed creating customdata\\train\\crab_cakes\n",
      "\n"
     ]
    },
    {
     "name": "stderr",
     "output_type": "stream",
     "text": [
      "    Test [crab_cakes]: 100%|██████████| 100/100 [00:00<00:00, 128.20img/s]\n"
     ]
    },
    {
     "name": "stdout",
     "output_type": "stream",
     "text": [
      "Completed creating custom customdata\\test\\crab_cakes\n",
      "train images for creme_brulee: 300\n",
      "test images for creme_brulee: 100\n",
      "\n"
     ]
    },
    {
     "name": "stderr",
     "output_type": "stream",
     "text": [
      "    Train [creme_brulee]: 100%|██████████| 300/300 [00:02<00:00, 129.72img/s]\n"
     ]
    },
    {
     "name": "stdout",
     "output_type": "stream",
     "text": [
      "Completed creating customdata\\train\\creme_brulee\n",
      "\n"
     ]
    },
    {
     "name": "stderr",
     "output_type": "stream",
     "text": [
      "    Test [creme_brulee]: 100%|██████████| 100/100 [00:00<00:00, 131.78img/s]\n"
     ]
    },
    {
     "name": "stdout",
     "output_type": "stream",
     "text": [
      "Completed creating custom customdata\\test\\creme_brulee\n",
      "train images for croque_madame: 300\n",
      "test images for croque_madame: 100\n",
      "\n"
     ]
    },
    {
     "name": "stderr",
     "output_type": "stream",
     "text": [
      "    Train [croque_madame]: 100%|██████████| 300/300 [00:02<00:00, 130.82img/s]\n"
     ]
    },
    {
     "name": "stdout",
     "output_type": "stream",
     "text": [
      "Completed creating customdata\\train\\croque_madame\n",
      "\n"
     ]
    },
    {
     "name": "stderr",
     "output_type": "stream",
     "text": [
      "    Test [croque_madame]: 100%|██████████| 100/100 [00:00<00:00, 135.74img/s]\n"
     ]
    },
    {
     "name": "stdout",
     "output_type": "stream",
     "text": [
      "Completed creating custom customdata\\test\\croque_madame\n",
      "train images for cup_cakes: 300\n",
      "test images for cup_cakes: 100\n",
      "\n"
     ]
    },
    {
     "name": "stderr",
     "output_type": "stream",
     "text": [
      "    Train [cup_cakes]: 100%|██████████| 300/300 [00:02<00:00, 133.19img/s]\n"
     ]
    },
    {
     "name": "stdout",
     "output_type": "stream",
     "text": [
      "Completed creating customdata\\train\\cup_cakes\n",
      "\n"
     ]
    },
    {
     "name": "stderr",
     "output_type": "stream",
     "text": [
      "    Test [cup_cakes]: 100%|██████████| 100/100 [00:00<00:00, 130.98img/s]\n"
     ]
    },
    {
     "name": "stdout",
     "output_type": "stream",
     "text": [
      "Completed creating custom customdata\\test\\cup_cakes\n",
      "train images for deviled_eggs: 300\n",
      "test images for deviled_eggs: 100\n",
      "\n"
     ]
    },
    {
     "name": "stderr",
     "output_type": "stream",
     "text": [
      "    Train [deviled_eggs]: 100%|██████████| 300/300 [00:02<00:00, 133.43img/s]\n"
     ]
    },
    {
     "name": "stdout",
     "output_type": "stream",
     "text": [
      "Completed creating customdata\\train\\deviled_eggs\n",
      "\n"
     ]
    },
    {
     "name": "stderr",
     "output_type": "stream",
     "text": [
      "    Test [deviled_eggs]: 100%|██████████| 100/100 [00:00<00:00, 135.13img/s]\n"
     ]
    },
    {
     "name": "stdout",
     "output_type": "stream",
     "text": [
      "Completed creating custom customdata\\test\\deviled_eggs\n",
      "train images for donuts: 300\n",
      "test images for donuts: 100\n",
      "\n"
     ]
    },
    {
     "name": "stderr",
     "output_type": "stream",
     "text": [
      "    Train [donuts]: 100%|██████████| 300/300 [00:02<00:00, 128.39img/s]\n"
     ]
    },
    {
     "name": "stdout",
     "output_type": "stream",
     "text": [
      "Completed creating customdata\\train\\donuts\n",
      "\n"
     ]
    },
    {
     "name": "stderr",
     "output_type": "stream",
     "text": [
      "    Test [donuts]: 100%|██████████| 100/100 [00:00<00:00, 133.02img/s]\n"
     ]
    },
    {
     "name": "stdout",
     "output_type": "stream",
     "text": [
      "Completed creating custom customdata\\test\\donuts\n",
      "train images for dumplings: 300\n",
      "test images for dumplings: 100\n",
      "\n"
     ]
    },
    {
     "name": "stderr",
     "output_type": "stream",
     "text": [
      "    Train [dumplings]: 100%|██████████| 300/300 [00:02<00:00, 131.19img/s]\n"
     ]
    },
    {
     "name": "stdout",
     "output_type": "stream",
     "text": [
      "Completed creating customdata\\train\\dumplings\n",
      "\n"
     ]
    },
    {
     "name": "stderr",
     "output_type": "stream",
     "text": [
      "    Test [dumplings]: 100%|██████████| 100/100 [00:00<00:00, 128.69img/s]\n"
     ]
    },
    {
     "name": "stdout",
     "output_type": "stream",
     "text": [
      "Completed creating custom customdata\\test\\dumplings\n",
      "train images for edamame: 300\n",
      "test images for edamame: 100\n",
      "\n"
     ]
    },
    {
     "name": "stderr",
     "output_type": "stream",
     "text": [
      "    Train [edamame]: 100%|██████████| 300/300 [00:02<00:00, 130.20img/s]\n"
     ]
    },
    {
     "name": "stdout",
     "output_type": "stream",
     "text": [
      "Completed creating customdata\\train\\edamame\n",
      "\n"
     ]
    },
    {
     "name": "stderr",
     "output_type": "stream",
     "text": [
      "    Test [edamame]: 100%|██████████| 100/100 [00:00<00:00, 125.29img/s]\n"
     ]
    },
    {
     "name": "stdout",
     "output_type": "stream",
     "text": [
      "Completed creating custom customdata\\test\\edamame\n",
      "train images for eggs_benedict: 300\n",
      "test images for eggs_benedict: 100\n",
      "\n"
     ]
    },
    {
     "name": "stderr",
     "output_type": "stream",
     "text": [
      "    Train [eggs_benedict]: 100%|██████████| 300/300 [00:02<00:00, 131.84img/s]\n"
     ]
    },
    {
     "name": "stdout",
     "output_type": "stream",
     "text": [
      "Completed creating customdata\\train\\eggs_benedict\n",
      "\n"
     ]
    },
    {
     "name": "stderr",
     "output_type": "stream",
     "text": [
      "    Test [eggs_benedict]: 100%|██████████| 100/100 [00:00<00:00, 132.77img/s]\n"
     ]
    },
    {
     "name": "stdout",
     "output_type": "stream",
     "text": [
      "Completed creating custom customdata\\test\\eggs_benedict\n",
      "train images for escargots: 300\n",
      "test images for escargots: 100\n",
      "\n"
     ]
    },
    {
     "name": "stderr",
     "output_type": "stream",
     "text": [
      "    Train [escargots]: 100%|██████████| 300/300 [00:02<00:00, 132.18img/s]\n"
     ]
    },
    {
     "name": "stdout",
     "output_type": "stream",
     "text": [
      "Completed creating customdata\\train\\escargots\n",
      "\n"
     ]
    },
    {
     "name": "stderr",
     "output_type": "stream",
     "text": [
      "    Test [escargots]: 100%|██████████| 100/100 [00:00<00:00, 119.83img/s]\n"
     ]
    },
    {
     "name": "stdout",
     "output_type": "stream",
     "text": [
      "Completed creating custom customdata\\test\\escargots\n",
      "train images for falafel: 300\n",
      "test images for falafel: 100\n",
      "\n"
     ]
    },
    {
     "name": "stderr",
     "output_type": "stream",
     "text": [
      "    Train [falafel]: 100%|██████████| 300/300 [00:02<00:00, 118.07img/s]\n"
     ]
    },
    {
     "name": "stdout",
     "output_type": "stream",
     "text": [
      "Completed creating customdata\\train\\falafel\n",
      "\n"
     ]
    },
    {
     "name": "stderr",
     "output_type": "stream",
     "text": [
      "    Test [falafel]: 100%|██████████| 100/100 [00:00<00:00, 116.82img/s]\n"
     ]
    },
    {
     "name": "stdout",
     "output_type": "stream",
     "text": [
      "Completed creating custom customdata\\test\\falafel\n",
      "train images for filet_mignon: 300\n",
      "test images for filet_mignon: 100\n",
      "\n"
     ]
    },
    {
     "name": "stderr",
     "output_type": "stream",
     "text": [
      "    Train [filet_mignon]: 100%|██████████| 300/300 [00:02<00:00, 118.13img/s]\n"
     ]
    },
    {
     "name": "stdout",
     "output_type": "stream",
     "text": [
      "Completed creating customdata\\train\\filet_mignon\n",
      "\n"
     ]
    },
    {
     "name": "stderr",
     "output_type": "stream",
     "text": [
      "    Test [filet_mignon]: 100%|██████████| 100/100 [00:00<00:00, 131.20img/s]\n"
     ]
    },
    {
     "name": "stdout",
     "output_type": "stream",
     "text": [
      "Completed creating custom customdata\\test\\filet_mignon\n",
      "train images for fish_and_chips: 300\n",
      "test images for fish_and_chips: 100\n",
      "\n"
     ]
    },
    {
     "name": "stderr",
     "output_type": "stream",
     "text": [
      "    Train [fish_and_chips]: 100%|██████████| 300/300 [00:02<00:00, 131.67img/s]\n"
     ]
    },
    {
     "name": "stdout",
     "output_type": "stream",
     "text": [
      "Completed creating customdata\\train\\fish_and_chips\n",
      "\n"
     ]
    },
    {
     "name": "stderr",
     "output_type": "stream",
     "text": [
      "    Test [fish_and_chips]: 100%|██████████| 100/100 [00:00<00:00, 133.51img/s]\n"
     ]
    },
    {
     "name": "stdout",
     "output_type": "stream",
     "text": [
      "Completed creating custom customdata\\test\\fish_and_chips\n",
      "train images for foie_gras: 300\n",
      "test images for foie_gras: 100\n",
      "\n"
     ]
    },
    {
     "name": "stderr",
     "output_type": "stream",
     "text": [
      "    Train [foie_gras]: 100%|██████████| 300/300 [00:02<00:00, 131.97img/s]\n"
     ]
    },
    {
     "name": "stdout",
     "output_type": "stream",
     "text": [
      "Completed creating customdata\\train\\foie_gras\n",
      "\n"
     ]
    },
    {
     "name": "stderr",
     "output_type": "stream",
     "text": [
      "    Test [foie_gras]: 100%|██████████| 100/100 [00:00<00:00, 129.21img/s]\n"
     ]
    },
    {
     "name": "stdout",
     "output_type": "stream",
     "text": [
      "Completed creating custom customdata\\test\\foie_gras\n",
      "train images for french_fries: 300\n",
      "test images for french_fries: 100\n",
      "\n"
     ]
    },
    {
     "name": "stderr",
     "output_type": "stream",
     "text": [
      "    Train [french_fries]: 100%|██████████| 300/300 [00:02<00:00, 127.08img/s]\n"
     ]
    },
    {
     "name": "stdout",
     "output_type": "stream",
     "text": [
      "Completed creating customdata\\train\\french_fries\n",
      "\n"
     ]
    },
    {
     "name": "stderr",
     "output_type": "stream",
     "text": [
      "    Test [french_fries]: 100%|██████████| 100/100 [00:00<00:00, 129.56img/s]\n"
     ]
    },
    {
     "name": "stdout",
     "output_type": "stream",
     "text": [
      "Completed creating custom customdata\\test\\french_fries\n",
      "train images for french_onion_soup: 300\n",
      "test images for french_onion_soup: 100\n",
      "\n"
     ]
    },
    {
     "name": "stderr",
     "output_type": "stream",
     "text": [
      "    Train [french_onion_soup]: 100%|██████████| 300/300 [00:02<00:00, 133.36img/s]\n"
     ]
    },
    {
     "name": "stdout",
     "output_type": "stream",
     "text": [
      "Completed creating customdata\\train\\french_onion_soup\n",
      "\n"
     ]
    },
    {
     "name": "stderr",
     "output_type": "stream",
     "text": [
      "    Test [french_onion_soup]: 100%|██████████| 100/100 [00:00<00:00, 130.00img/s]\n"
     ]
    },
    {
     "name": "stdout",
     "output_type": "stream",
     "text": [
      "Completed creating custom customdata\\test\\french_onion_soup\n",
      "train images for french_toast: 300\n",
      "test images for french_toast: 100\n",
      "\n"
     ]
    },
    {
     "name": "stderr",
     "output_type": "stream",
     "text": [
      "    Train [french_toast]: 100%|██████████| 300/300 [00:02<00:00, 127.16img/s]\n"
     ]
    },
    {
     "name": "stdout",
     "output_type": "stream",
     "text": [
      "Completed creating customdata\\train\\french_toast\n",
      "\n"
     ]
    },
    {
     "name": "stderr",
     "output_type": "stream",
     "text": [
      "    Test [french_toast]: 100%|██████████| 100/100 [00:00<00:00, 129.92img/s]\n"
     ]
    },
    {
     "name": "stdout",
     "output_type": "stream",
     "text": [
      "Completed creating custom customdata\\test\\french_toast\n",
      "train images for fried_calamari: 300\n",
      "test images for fried_calamari: 100\n",
      "\n"
     ]
    },
    {
     "name": "stderr",
     "output_type": "stream",
     "text": [
      "    Train [fried_calamari]: 100%|██████████| 300/300 [00:02<00:00, 130.47img/s]\n"
     ]
    },
    {
     "name": "stdout",
     "output_type": "stream",
     "text": [
      "Completed creating customdata\\train\\fried_calamari\n",
      "\n"
     ]
    },
    {
     "name": "stderr",
     "output_type": "stream",
     "text": [
      "    Test [fried_calamari]: 100%|██████████| 100/100 [00:00<00:00, 119.01img/s]\n"
     ]
    },
    {
     "name": "stdout",
     "output_type": "stream",
     "text": [
      "Completed creating custom customdata\\test\\fried_calamari\n",
      "train images for fried_rice: 300\n",
      "test images for fried_rice: 100\n",
      "\n"
     ]
    },
    {
     "name": "stderr",
     "output_type": "stream",
     "text": [
      "    Train [fried_rice]: 100%|██████████| 300/300 [00:02<00:00, 126.39img/s]\n"
     ]
    },
    {
     "name": "stdout",
     "output_type": "stream",
     "text": [
      "Completed creating customdata\\train\\fried_rice\n",
      "\n"
     ]
    },
    {
     "name": "stderr",
     "output_type": "stream",
     "text": [
      "    Test [fried_rice]: 100%|██████████| 100/100 [00:00<00:00, 131.41img/s]\n"
     ]
    },
    {
     "name": "stdout",
     "output_type": "stream",
     "text": [
      "Completed creating custom customdata\\test\\fried_rice\n",
      "train images for frozen_yogurt: 300\n",
      "test images for frozen_yogurt: 100\n",
      "\n"
     ]
    },
    {
     "name": "stderr",
     "output_type": "stream",
     "text": [
      "    Train [frozen_yogurt]: 100%|██████████| 300/300 [00:02<00:00, 130.51img/s]\n"
     ]
    },
    {
     "name": "stdout",
     "output_type": "stream",
     "text": [
      "Completed creating customdata\\train\\frozen_yogurt\n",
      "\n"
     ]
    },
    {
     "name": "stderr",
     "output_type": "stream",
     "text": [
      "    Test [frozen_yogurt]: 100%|██████████| 100/100 [00:00<00:00, 133.27img/s]\n"
     ]
    },
    {
     "name": "stdout",
     "output_type": "stream",
     "text": [
      "Completed creating custom customdata\\test\\frozen_yogurt\n",
      "train images for garlic_bread: 300\n",
      "test images for garlic_bread: 100\n",
      "\n"
     ]
    },
    {
     "name": "stderr",
     "output_type": "stream",
     "text": [
      "    Train [garlic_bread]: 100%|██████████| 300/300 [00:02<00:00, 131.99img/s]\n"
     ]
    },
    {
     "name": "stdout",
     "output_type": "stream",
     "text": [
      "Completed creating customdata\\train\\garlic_bread\n",
      "\n"
     ]
    },
    {
     "name": "stderr",
     "output_type": "stream",
     "text": [
      "    Test [garlic_bread]: 100%|██████████| 100/100 [00:00<00:00, 132.39img/s]\n"
     ]
    },
    {
     "name": "stdout",
     "output_type": "stream",
     "text": [
      "Completed creating custom customdata\\test\\garlic_bread\n",
      "train images for gnocchi: 300\n",
      "test images for gnocchi: 100\n",
      "\n"
     ]
    },
    {
     "name": "stderr",
     "output_type": "stream",
     "text": [
      "    Train [gnocchi]: 100%|██████████| 300/300 [00:02<00:00, 127.89img/s]\n"
     ]
    },
    {
     "name": "stdout",
     "output_type": "stream",
     "text": [
      "Completed creating customdata\\train\\gnocchi\n",
      "\n"
     ]
    },
    {
     "name": "stderr",
     "output_type": "stream",
     "text": [
      "    Test [gnocchi]: 100%|██████████| 100/100 [00:00<00:00, 131.08img/s]\n"
     ]
    },
    {
     "name": "stdout",
     "output_type": "stream",
     "text": [
      "Completed creating custom customdata\\test\\gnocchi\n",
      "train images for greek_salad: 300\n",
      "test images for greek_salad: 100\n",
      "\n"
     ]
    },
    {
     "name": "stderr",
     "output_type": "stream",
     "text": [
      "    Train [greek_salad]: 100%|██████████| 300/300 [00:02<00:00, 129.30img/s]\n"
     ]
    },
    {
     "name": "stdout",
     "output_type": "stream",
     "text": [
      "Completed creating customdata\\train\\greek_salad\n",
      "\n"
     ]
    },
    {
     "name": "stderr",
     "output_type": "stream",
     "text": [
      "    Test [greek_salad]: 100%|██████████| 100/100 [00:00<00:00, 128.59img/s]\n"
     ]
    },
    {
     "name": "stdout",
     "output_type": "stream",
     "text": [
      "Completed creating custom customdata\\test\\greek_salad\n",
      "train images for grilled_cheese_sandwich: 300\n",
      "test images for grilled_cheese_sandwich: 100\n",
      "\n"
     ]
    },
    {
     "name": "stderr",
     "output_type": "stream",
     "text": [
      "    Train [grilled_cheese_sandwich]: 100%|██████████| 300/300 [00:02<00:00, 130.03img/s]\n"
     ]
    },
    {
     "name": "stdout",
     "output_type": "stream",
     "text": [
      "Completed creating customdata\\train\\grilled_cheese_sandwich\n",
      "\n"
     ]
    },
    {
     "name": "stderr",
     "output_type": "stream",
     "text": [
      "    Test [grilled_cheese_sandwich]: 100%|██████████| 100/100 [00:00<00:00, 132.04img/s]\n"
     ]
    },
    {
     "name": "stdout",
     "output_type": "stream",
     "text": [
      "Completed creating custom customdata\\test\\grilled_cheese_sandwich\n",
      "train images for grilled_salmon: 300\n",
      "test images for grilled_salmon: 100\n",
      "\n"
     ]
    },
    {
     "name": "stderr",
     "output_type": "stream",
     "text": [
      "    Train [grilled_salmon]: 100%|██████████| 300/300 [00:02<00:00, 131.62img/s]\n"
     ]
    },
    {
     "name": "stdout",
     "output_type": "stream",
     "text": [
      "Completed creating customdata\\train\\grilled_salmon\n",
      "\n"
     ]
    },
    {
     "name": "stderr",
     "output_type": "stream",
     "text": [
      "    Test [grilled_salmon]: 100%|██████████| 100/100 [00:00<00:00, 132.62img/s]\n"
     ]
    },
    {
     "name": "stdout",
     "output_type": "stream",
     "text": [
      "Completed creating custom customdata\\test\\grilled_salmon\n",
      "train images for guacamole: 300\n",
      "test images for guacamole: 100\n",
      "\n"
     ]
    },
    {
     "name": "stderr",
     "output_type": "stream",
     "text": [
      "    Train [guacamole]: 100%|██████████| 300/300 [00:02<00:00, 130.48img/s]\n"
     ]
    },
    {
     "name": "stdout",
     "output_type": "stream",
     "text": [
      "Completed creating customdata\\train\\guacamole\n",
      "\n"
     ]
    },
    {
     "name": "stderr",
     "output_type": "stream",
     "text": [
      "    Test [guacamole]: 100%|██████████| 100/100 [00:00<00:00, 126.83img/s]\n"
     ]
    },
    {
     "name": "stdout",
     "output_type": "stream",
     "text": [
      "Completed creating custom customdata\\test\\guacamole\n",
      "train images for gyoza: 300\n",
      "test images for gyoza: 100\n",
      "\n"
     ]
    },
    {
     "name": "stderr",
     "output_type": "stream",
     "text": [
      "    Train [gyoza]: 100%|██████████| 300/300 [00:02<00:00, 126.64img/s]\n"
     ]
    },
    {
     "name": "stdout",
     "output_type": "stream",
     "text": [
      "Completed creating customdata\\train\\gyoza\n",
      "\n"
     ]
    },
    {
     "name": "stderr",
     "output_type": "stream",
     "text": [
      "    Test [gyoza]: 100%|██████████| 100/100 [00:00<00:00, 130.17img/s]\n"
     ]
    },
    {
     "name": "stdout",
     "output_type": "stream",
     "text": [
      "Completed creating custom customdata\\test\\gyoza\n",
      "train images for hamburger: 300\n",
      "test images for hamburger: 100\n",
      "\n"
     ]
    },
    {
     "name": "stderr",
     "output_type": "stream",
     "text": [
      "    Train [hamburger]: 100%|██████████| 300/300 [00:02<00:00, 132.73img/s]\n"
     ]
    },
    {
     "name": "stdout",
     "output_type": "stream",
     "text": [
      "Completed creating customdata\\train\\hamburger\n",
      "\n"
     ]
    },
    {
     "name": "stderr",
     "output_type": "stream",
     "text": [
      "    Test [hamburger]: 100%|██████████| 100/100 [00:00<00:00, 134.35img/s]\n"
     ]
    },
    {
     "name": "stdout",
     "output_type": "stream",
     "text": [
      "Completed creating custom customdata\\test\\hamburger\n",
      "train images for hot_and_sour_soup: 300\n",
      "test images for hot_and_sour_soup: 100\n",
      "\n"
     ]
    },
    {
     "name": "stderr",
     "output_type": "stream",
     "text": [
      "    Train [hot_and_sour_soup]: 100%|██████████| 300/300 [00:02<00:00, 132.01img/s]\n"
     ]
    },
    {
     "name": "stdout",
     "output_type": "stream",
     "text": [
      "Completed creating customdata\\train\\hot_and_sour_soup\n",
      "\n"
     ]
    },
    {
     "name": "stderr",
     "output_type": "stream",
     "text": [
      "    Test [hot_and_sour_soup]: 100%|██████████| 100/100 [00:00<00:00, 113.34img/s]\n"
     ]
    },
    {
     "name": "stdout",
     "output_type": "stream",
     "text": [
      "Completed creating custom customdata\\test\\hot_and_sour_soup\n",
      "train images for hot_dog: 300\n",
      "test images for hot_dog: 100\n",
      "\n"
     ]
    },
    {
     "name": "stderr",
     "output_type": "stream",
     "text": [
      "    Train [hot_dog]: 100%|██████████| 300/300 [00:02<00:00, 130.49img/s]\n"
     ]
    },
    {
     "name": "stdout",
     "output_type": "stream",
     "text": [
      "Completed creating customdata\\train\\hot_dog\n",
      "\n"
     ]
    },
    {
     "name": "stderr",
     "output_type": "stream",
     "text": [
      "    Test [hot_dog]: 100%|██████████| 100/100 [00:00<00:00, 121.44img/s]\n"
     ]
    },
    {
     "name": "stdout",
     "output_type": "stream",
     "text": [
      "Completed creating custom customdata\\test\\hot_dog\n",
      "train images for huevos_rancheros: 300\n",
      "test images for huevos_rancheros: 100\n",
      "\n"
     ]
    },
    {
     "name": "stderr",
     "output_type": "stream",
     "text": [
      "    Train [huevos_rancheros]: 100%|██████████| 300/300 [00:02<00:00, 132.17img/s]\n"
     ]
    },
    {
     "name": "stdout",
     "output_type": "stream",
     "text": [
      "Completed creating customdata\\train\\huevos_rancheros\n",
      "\n"
     ]
    },
    {
     "name": "stderr",
     "output_type": "stream",
     "text": [
      "    Test [huevos_rancheros]: 100%|██████████| 100/100 [00:00<00:00, 129.48img/s]\n"
     ]
    },
    {
     "name": "stdout",
     "output_type": "stream",
     "text": [
      "Completed creating custom customdata\\test\\huevos_rancheros\n",
      "train images for hummus: 300\n",
      "test images for hummus: 100\n",
      "\n"
     ]
    },
    {
     "name": "stderr",
     "output_type": "stream",
     "text": [
      "    Train [hummus]: 100%|██████████| 300/300 [00:02<00:00, 133.18img/s]\n"
     ]
    },
    {
     "name": "stdout",
     "output_type": "stream",
     "text": [
      "Completed creating customdata\\train\\hummus\n",
      "\n"
     ]
    },
    {
     "name": "stderr",
     "output_type": "stream",
     "text": [
      "    Test [hummus]: 100%|██████████| 100/100 [00:00<00:00, 133.12img/s]\n"
     ]
    },
    {
     "name": "stdout",
     "output_type": "stream",
     "text": [
      "Completed creating custom customdata\\test\\hummus\n",
      "train images for ice_cream: 300\n",
      "test images for ice_cream: 100\n",
      "\n"
     ]
    },
    {
     "name": "stderr",
     "output_type": "stream",
     "text": [
      "    Train [ice_cream]: 100%|██████████| 300/300 [00:02<00:00, 126.58img/s]\n"
     ]
    },
    {
     "name": "stdout",
     "output_type": "stream",
     "text": [
      "Completed creating customdata\\train\\ice_cream\n",
      "\n"
     ]
    },
    {
     "name": "stderr",
     "output_type": "stream",
     "text": [
      "    Test [ice_cream]: 100%|██████████| 100/100 [00:00<00:00, 120.75img/s]\n"
     ]
    },
    {
     "name": "stdout",
     "output_type": "stream",
     "text": [
      "Completed creating custom customdata\\test\\ice_cream\n",
      "train images for lasagna: 300\n",
      "test images for lasagna: 100\n",
      "\n"
     ]
    },
    {
     "name": "stderr",
     "output_type": "stream",
     "text": [
      "    Train [lasagna]: 100%|██████████| 300/300 [00:02<00:00, 124.64img/s]\n"
     ]
    },
    {
     "name": "stdout",
     "output_type": "stream",
     "text": [
      "Completed creating customdata\\train\\lasagna\n",
      "\n"
     ]
    },
    {
     "name": "stderr",
     "output_type": "stream",
     "text": [
      "    Test [lasagna]: 100%|██████████| 100/100 [00:00<00:00, 131.89img/s]\n"
     ]
    },
    {
     "name": "stdout",
     "output_type": "stream",
     "text": [
      "Completed creating custom customdata\\test\\lasagna\n",
      "train images for lobster_bisque: 300\n",
      "test images for lobster_bisque: 100\n",
      "\n"
     ]
    },
    {
     "name": "stderr",
     "output_type": "stream",
     "text": [
      "    Train [lobster_bisque]: 100%|██████████| 300/300 [00:02<00:00, 131.83img/s]\n"
     ]
    },
    {
     "name": "stdout",
     "output_type": "stream",
     "text": [
      "Completed creating customdata\\train\\lobster_bisque\n",
      "\n"
     ]
    },
    {
     "name": "stderr",
     "output_type": "stream",
     "text": [
      "    Test [lobster_bisque]: 100%|██████████| 100/100 [00:00<00:00, 130.38img/s]\n"
     ]
    },
    {
     "name": "stdout",
     "output_type": "stream",
     "text": [
      "Completed creating custom customdata\\test\\lobster_bisque\n",
      "train images for lobster_roll_sandwich: 300\n",
      "test images for lobster_roll_sandwich: 100\n",
      "\n"
     ]
    },
    {
     "name": "stderr",
     "output_type": "stream",
     "text": [
      "    Train [lobster_roll_sandwich]: 100%|██████████| 300/300 [00:02<00:00, 123.70img/s]\n"
     ]
    },
    {
     "name": "stdout",
     "output_type": "stream",
     "text": [
      "Completed creating customdata\\train\\lobster_roll_sandwich\n",
      "\n"
     ]
    },
    {
     "name": "stderr",
     "output_type": "stream",
     "text": [
      "    Test [lobster_roll_sandwich]: 100%|██████████| 100/100 [00:00<00:00, 114.40img/s]\n"
     ]
    },
    {
     "name": "stdout",
     "output_type": "stream",
     "text": [
      "Completed creating custom customdata\\test\\lobster_roll_sandwich\n",
      "train images for macaroni_and_cheese: 300\n",
      "test images for macaroni_and_cheese: 100\n",
      "\n"
     ]
    },
    {
     "name": "stderr",
     "output_type": "stream",
     "text": [
      "    Train [macaroni_and_cheese]: 100%|██████████| 300/300 [00:02<00:00, 112.48img/s]\n"
     ]
    },
    {
     "name": "stdout",
     "output_type": "stream",
     "text": [
      "Completed creating customdata\\train\\macaroni_and_cheese\n",
      "\n"
     ]
    },
    {
     "name": "stderr",
     "output_type": "stream",
     "text": [
      "    Test [macaroni_and_cheese]: 100%|██████████| 100/100 [00:00<00:00, 126.28img/s]\n"
     ]
    },
    {
     "name": "stdout",
     "output_type": "stream",
     "text": [
      "Completed creating custom customdata\\test\\macaroni_and_cheese\n",
      "train images for macarons: 300\n",
      "test images for macarons: 100\n",
      "\n"
     ]
    },
    {
     "name": "stderr",
     "output_type": "stream",
     "text": [
      "    Train [macarons]: 100%|██████████| 300/300 [00:02<00:00, 130.58img/s]\n"
     ]
    },
    {
     "name": "stdout",
     "output_type": "stream",
     "text": [
      "Completed creating customdata\\train\\macarons\n",
      "\n"
     ]
    },
    {
     "name": "stderr",
     "output_type": "stream",
     "text": [
      "    Test [macarons]: 100%|██████████| 100/100 [00:00<00:00, 132.40img/s]\n"
     ]
    },
    {
     "name": "stdout",
     "output_type": "stream",
     "text": [
      "Completed creating custom customdata\\test\\macarons\n",
      "train images for miso_soup: 300\n",
      "test images for miso_soup: 100\n",
      "\n"
     ]
    },
    {
     "name": "stderr",
     "output_type": "stream",
     "text": [
      "    Train [miso_soup]: 100%|██████████| 300/300 [00:02<00:00, 133.08img/s]\n"
     ]
    },
    {
     "name": "stdout",
     "output_type": "stream",
     "text": [
      "Completed creating customdata\\train\\miso_soup\n",
      "\n"
     ]
    },
    {
     "name": "stderr",
     "output_type": "stream",
     "text": [
      "    Test [miso_soup]: 100%|██████████| 100/100 [00:00<00:00, 131.63img/s]\n"
     ]
    },
    {
     "name": "stdout",
     "output_type": "stream",
     "text": [
      "Completed creating custom customdata\\test\\miso_soup\n",
      "train images for mussels: 300\n",
      "test images for mussels: 100\n",
      "\n"
     ]
    },
    {
     "name": "stderr",
     "output_type": "stream",
     "text": [
      "    Train [mussels]: 100%|██████████| 300/300 [00:02<00:00, 132.98img/s]\n"
     ]
    },
    {
     "name": "stdout",
     "output_type": "stream",
     "text": [
      "Completed creating customdata\\train\\mussels\n",
      "\n"
     ]
    },
    {
     "name": "stderr",
     "output_type": "stream",
     "text": [
      "    Test [mussels]: 100%|██████████| 100/100 [00:00<00:00, 131.24img/s]\n"
     ]
    },
    {
     "name": "stdout",
     "output_type": "stream",
     "text": [
      "Completed creating custom customdata\\test\\mussels\n",
      "train images for nachos: 300\n",
      "test images for nachos: 100\n",
      "\n"
     ]
    },
    {
     "name": "stderr",
     "output_type": "stream",
     "text": [
      "    Train [nachos]: 100%|██████████| 300/300 [00:02<00:00, 127.61img/s]\n"
     ]
    },
    {
     "name": "stdout",
     "output_type": "stream",
     "text": [
      "Completed creating customdata\\train\\nachos\n",
      "\n"
     ]
    },
    {
     "name": "stderr",
     "output_type": "stream",
     "text": [
      "    Test [nachos]: 100%|██████████| 100/100 [00:00<00:00, 134.19img/s]\n"
     ]
    },
    {
     "name": "stdout",
     "output_type": "stream",
     "text": [
      "Completed creating custom customdata\\test\\nachos\n",
      "train images for omelette: 300\n",
      "test images for omelette: 100\n",
      "\n"
     ]
    },
    {
     "name": "stderr",
     "output_type": "stream",
     "text": [
      "    Train [omelette]: 100%|██████████| 300/300 [00:02<00:00, 126.95img/s]\n"
     ]
    },
    {
     "name": "stdout",
     "output_type": "stream",
     "text": [
      "Completed creating customdata\\train\\omelette\n",
      "\n"
     ]
    },
    {
     "name": "stderr",
     "output_type": "stream",
     "text": [
      "    Test [omelette]: 100%|██████████| 100/100 [00:00<00:00, 133.12img/s]\n"
     ]
    },
    {
     "name": "stdout",
     "output_type": "stream",
     "text": [
      "Completed creating custom customdata\\test\\omelette\n",
      "train images for onion_rings: 300\n",
      "test images for onion_rings: 100\n",
      "\n"
     ]
    },
    {
     "name": "stderr",
     "output_type": "stream",
     "text": [
      "    Train [onion_rings]: 100%|██████████| 300/300 [00:02<00:00, 134.02img/s]\n"
     ]
    },
    {
     "name": "stdout",
     "output_type": "stream",
     "text": [
      "Completed creating customdata\\train\\onion_rings\n",
      "\n"
     ]
    },
    {
     "name": "stderr",
     "output_type": "stream",
     "text": [
      "    Test [onion_rings]: 100%|██████████| 100/100 [00:00<00:00, 130.44img/s]\n"
     ]
    },
    {
     "name": "stdout",
     "output_type": "stream",
     "text": [
      "Completed creating custom customdata\\test\\onion_rings\n",
      "train images for oysters: 300\n",
      "test images for oysters: 100\n",
      "\n"
     ]
    },
    {
     "name": "stderr",
     "output_type": "stream",
     "text": [
      "    Train [oysters]: 100%|██████████| 300/300 [00:02<00:00, 131.95img/s]\n"
     ]
    },
    {
     "name": "stdout",
     "output_type": "stream",
     "text": [
      "Completed creating customdata\\train\\oysters\n",
      "\n"
     ]
    },
    {
     "name": "stderr",
     "output_type": "stream",
     "text": [
      "    Test [oysters]: 100%|██████████| 100/100 [00:00<00:00, 131.44img/s]\n"
     ]
    },
    {
     "name": "stdout",
     "output_type": "stream",
     "text": [
      "Completed creating custom customdata\\test\\oysters\n",
      "train images for pad_thai: 300\n",
      "test images for pad_thai: 100\n",
      "\n"
     ]
    },
    {
     "name": "stderr",
     "output_type": "stream",
     "text": [
      "    Train [pad_thai]: 100%|██████████| 300/300 [00:02<00:00, 128.42img/s]\n"
     ]
    },
    {
     "name": "stdout",
     "output_type": "stream",
     "text": [
      "Completed creating customdata\\train\\pad_thai\n",
      "\n"
     ]
    },
    {
     "name": "stderr",
     "output_type": "stream",
     "text": [
      "    Test [pad_thai]: 100%|██████████| 100/100 [00:00<00:00, 128.37img/s]\n"
     ]
    },
    {
     "name": "stdout",
     "output_type": "stream",
     "text": [
      "Completed creating custom customdata\\test\\pad_thai\n",
      "train images for paella: 300\n",
      "test images for paella: 100\n",
      "\n"
     ]
    },
    {
     "name": "stderr",
     "output_type": "stream",
     "text": [
      "    Train [paella]: 100%|██████████| 300/300 [00:02<00:00, 131.96img/s]\n"
     ]
    },
    {
     "name": "stdout",
     "output_type": "stream",
     "text": [
      "Completed creating customdata\\train\\paella\n",
      "\n"
     ]
    },
    {
     "name": "stderr",
     "output_type": "stream",
     "text": [
      "    Test [paella]: 100%|██████████| 100/100 [00:00<00:00, 130.67img/s]\n"
     ]
    },
    {
     "name": "stdout",
     "output_type": "stream",
     "text": [
      "Completed creating custom customdata\\test\\paella\n",
      "train images for pancakes: 300\n",
      "test images for pancakes: 100\n",
      "\n"
     ]
    },
    {
     "name": "stderr",
     "output_type": "stream",
     "text": [
      "    Train [pancakes]: 100%|██████████| 300/300 [00:02<00:00, 133.37img/s]\n"
     ]
    },
    {
     "name": "stdout",
     "output_type": "stream",
     "text": [
      "Completed creating customdata\\train\\pancakes\n",
      "\n"
     ]
    },
    {
     "name": "stderr",
     "output_type": "stream",
     "text": [
      "    Test [pancakes]: 100%|██████████| 100/100 [00:00<00:00, 131.40img/s]\n"
     ]
    },
    {
     "name": "stdout",
     "output_type": "stream",
     "text": [
      "Completed creating custom customdata\\test\\pancakes\n",
      "train images for panna_cotta: 300\n",
      "test images for panna_cotta: 100\n",
      "\n"
     ]
    },
    {
     "name": "stderr",
     "output_type": "stream",
     "text": [
      "    Train [panna_cotta]: 100%|██████████| 300/300 [00:02<00:00, 132.54img/s]\n"
     ]
    },
    {
     "name": "stdout",
     "output_type": "stream",
     "text": [
      "Completed creating customdata\\train\\panna_cotta\n",
      "\n"
     ]
    },
    {
     "name": "stderr",
     "output_type": "stream",
     "text": [
      "    Test [panna_cotta]: 100%|██████████| 100/100 [00:00<00:00, 130.86img/s]\n"
     ]
    },
    {
     "name": "stdout",
     "output_type": "stream",
     "text": [
      "Completed creating custom customdata\\test\\panna_cotta\n",
      "train images for peking_duck: 300\n",
      "test images for peking_duck: 100\n",
      "\n"
     ]
    },
    {
     "name": "stderr",
     "output_type": "stream",
     "text": [
      "    Train [peking_duck]: 100%|██████████| 300/300 [00:02<00:00, 127.62img/s]\n"
     ]
    },
    {
     "name": "stdout",
     "output_type": "stream",
     "text": [
      "Completed creating customdata\\train\\peking_duck\n",
      "\n"
     ]
    },
    {
     "name": "stderr",
     "output_type": "stream",
     "text": [
      "    Test [peking_duck]: 100%|██████████| 100/100 [00:00<00:00, 132.37img/s]\n"
     ]
    },
    {
     "name": "stdout",
     "output_type": "stream",
     "text": [
      "Completed creating custom customdata\\test\\peking_duck\n",
      "train images for pho: 300\n",
      "test images for pho: 100\n",
      "\n"
     ]
    },
    {
     "name": "stderr",
     "output_type": "stream",
     "text": [
      "    Train [pho]: 100%|██████████| 300/300 [00:02<00:00, 128.73img/s]\n"
     ]
    },
    {
     "name": "stdout",
     "output_type": "stream",
     "text": [
      "Completed creating customdata\\train\\pho\n",
      "\n"
     ]
    },
    {
     "name": "stderr",
     "output_type": "stream",
     "text": [
      "    Test [pho]: 100%|██████████| 100/100 [00:00<00:00, 127.52img/s]\n"
     ]
    },
    {
     "name": "stdout",
     "output_type": "stream",
     "text": [
      "Completed creating custom customdata\\test\\pho\n",
      "train images for pizza: 300\n",
      "test images for pizza: 100\n",
      "\n"
     ]
    },
    {
     "name": "stderr",
     "output_type": "stream",
     "text": [
      "    Train [pizza]: 100%|██████████| 300/300 [00:02<00:00, 129.30img/s]\n"
     ]
    },
    {
     "name": "stdout",
     "output_type": "stream",
     "text": [
      "Completed creating customdata\\train\\pizza\n",
      "\n"
     ]
    },
    {
     "name": "stderr",
     "output_type": "stream",
     "text": [
      "    Test [pizza]: 100%|██████████| 100/100 [00:00<00:00, 129.94img/s]\n"
     ]
    },
    {
     "name": "stdout",
     "output_type": "stream",
     "text": [
      "Completed creating custom customdata\\test\\pizza\n",
      "train images for pork_chop: 300\n",
      "test images for pork_chop: 100\n",
      "\n"
     ]
    },
    {
     "name": "stderr",
     "output_type": "stream",
     "text": [
      "    Train [pork_chop]: 100%|██████████| 300/300 [00:02<00:00, 129.64img/s]\n"
     ]
    },
    {
     "name": "stdout",
     "output_type": "stream",
     "text": [
      "Completed creating customdata\\train\\pork_chop\n",
      "\n"
     ]
    },
    {
     "name": "stderr",
     "output_type": "stream",
     "text": [
      "    Test [pork_chop]: 100%|██████████| 100/100 [00:00<00:00, 133.51img/s]\n"
     ]
    },
    {
     "name": "stdout",
     "output_type": "stream",
     "text": [
      "Completed creating custom customdata\\test\\pork_chop\n",
      "train images for poutine: 300\n",
      "test images for poutine: 100\n",
      "\n"
     ]
    },
    {
     "name": "stderr",
     "output_type": "stream",
     "text": [
      "    Train [poutine]: 100%|██████████| 300/300 [00:02<00:00, 126.66img/s]\n"
     ]
    },
    {
     "name": "stdout",
     "output_type": "stream",
     "text": [
      "Completed creating customdata\\train\\poutine\n",
      "\n"
     ]
    },
    {
     "name": "stderr",
     "output_type": "stream",
     "text": [
      "    Test [poutine]: 100%|██████████| 100/100 [00:00<00:00, 133.06img/s]\n"
     ]
    },
    {
     "name": "stdout",
     "output_type": "stream",
     "text": [
      "Completed creating custom customdata\\test\\poutine\n",
      "train images for prime_rib: 300\n",
      "test images for prime_rib: 100\n",
      "\n"
     ]
    },
    {
     "name": "stderr",
     "output_type": "stream",
     "text": [
      "    Train [prime_rib]: 100%|██████████| 300/300 [00:02<00:00, 132.62img/s]\n"
     ]
    },
    {
     "name": "stdout",
     "output_type": "stream",
     "text": [
      "Completed creating customdata\\train\\prime_rib\n",
      "\n"
     ]
    },
    {
     "name": "stderr",
     "output_type": "stream",
     "text": [
      "    Test [prime_rib]: 100%|██████████| 100/100 [00:00<00:00, 130.03img/s]\n"
     ]
    },
    {
     "name": "stdout",
     "output_type": "stream",
     "text": [
      "Completed creating custom customdata\\test\\prime_rib\n",
      "train images for pulled_pork_sandwich: 300\n",
      "test images for pulled_pork_sandwich: 100\n",
      "\n"
     ]
    },
    {
     "name": "stderr",
     "output_type": "stream",
     "text": [
      "    Train [pulled_pork_sandwich]: 100%|██████████| 300/300 [00:02<00:00, 127.81img/s]\n"
     ]
    },
    {
     "name": "stdout",
     "output_type": "stream",
     "text": [
      "Completed creating customdata\\train\\pulled_pork_sandwich\n",
      "\n"
     ]
    },
    {
     "name": "stderr",
     "output_type": "stream",
     "text": [
      "    Test [pulled_pork_sandwich]: 100%|██████████| 100/100 [00:00<00:00, 114.40img/s]\n"
     ]
    },
    {
     "name": "stdout",
     "output_type": "stream",
     "text": [
      "Completed creating custom customdata\\test\\pulled_pork_sandwich\n",
      "train images for ramen: 300\n",
      "test images for ramen: 100\n",
      "\n"
     ]
    },
    {
     "name": "stderr",
     "output_type": "stream",
     "text": [
      "    Train [ramen]: 100%|██████████| 300/300 [00:02<00:00, 116.97img/s]\n"
     ]
    },
    {
     "name": "stdout",
     "output_type": "stream",
     "text": [
      "Completed creating customdata\\train\\ramen\n",
      "\n"
     ]
    },
    {
     "name": "stderr",
     "output_type": "stream",
     "text": [
      "    Test [ramen]: 100%|██████████| 100/100 [00:00<00:00, 121.09img/s]\n"
     ]
    },
    {
     "name": "stdout",
     "output_type": "stream",
     "text": [
      "Completed creating custom customdata\\test\\ramen\n",
      "train images for ravioli: 300\n",
      "test images for ravioli: 100\n",
      "\n"
     ]
    },
    {
     "name": "stderr",
     "output_type": "stream",
     "text": [
      "    Train [ravioli]: 100%|██████████| 300/300 [00:02<00:00, 124.65img/s]\n"
     ]
    },
    {
     "name": "stdout",
     "output_type": "stream",
     "text": [
      "Completed creating customdata\\train\\ravioli\n",
      "\n"
     ]
    },
    {
     "name": "stderr",
     "output_type": "stream",
     "text": [
      "    Test [ravioli]: 100%|██████████| 100/100 [00:00<00:00, 132.89img/s]\n"
     ]
    },
    {
     "name": "stdout",
     "output_type": "stream",
     "text": [
      "Completed creating custom customdata\\test\\ravioli\n",
      "train images for red_velvet_cake: 300\n",
      "test images for red_velvet_cake: 100\n",
      "\n"
     ]
    },
    {
     "name": "stderr",
     "output_type": "stream",
     "text": [
      "    Train [red_velvet_cake]: 100%|██████████| 300/300 [00:02<00:00, 131.80img/s]\n"
     ]
    },
    {
     "name": "stdout",
     "output_type": "stream",
     "text": [
      "Completed creating customdata\\train\\red_velvet_cake\n",
      "\n"
     ]
    },
    {
     "name": "stderr",
     "output_type": "stream",
     "text": [
      "    Test [red_velvet_cake]: 100%|██████████| 100/100 [00:00<00:00, 132.01img/s]\n"
     ]
    },
    {
     "name": "stdout",
     "output_type": "stream",
     "text": [
      "Completed creating custom customdata\\test\\red_velvet_cake\n",
      "train images for risotto: 300\n",
      "test images for risotto: 100\n",
      "\n"
     ]
    },
    {
     "name": "stderr",
     "output_type": "stream",
     "text": [
      "    Train [risotto]: 100%|██████████| 300/300 [00:02<00:00, 130.86img/s]\n"
     ]
    },
    {
     "name": "stdout",
     "output_type": "stream",
     "text": [
      "Completed creating customdata\\train\\risotto\n",
      "\n"
     ]
    },
    {
     "name": "stderr",
     "output_type": "stream",
     "text": [
      "    Test [risotto]: 100%|██████████| 100/100 [00:00<00:00, 130.21img/s]\n"
     ]
    },
    {
     "name": "stdout",
     "output_type": "stream",
     "text": [
      "Completed creating custom customdata\\test\\risotto\n",
      "train images for samosa: 300\n",
      "test images for samosa: 100\n",
      "\n"
     ]
    },
    {
     "name": "stderr",
     "output_type": "stream",
     "text": [
      "    Train [samosa]: 100%|██████████| 300/300 [00:02<00:00, 132.06img/s]\n"
     ]
    },
    {
     "name": "stdout",
     "output_type": "stream",
     "text": [
      "Completed creating customdata\\train\\samosa\n",
      "\n"
     ]
    },
    {
     "name": "stderr",
     "output_type": "stream",
     "text": [
      "    Test [samosa]: 100%|██████████| 100/100 [00:00<00:00, 120.14img/s]\n"
     ]
    },
    {
     "name": "stdout",
     "output_type": "stream",
     "text": [
      "Completed creating custom customdata\\test\\samosa\n",
      "train images for sashimi: 300\n",
      "test images for sashimi: 100\n",
      "\n"
     ]
    },
    {
     "name": "stderr",
     "output_type": "stream",
     "text": [
      "    Train [sashimi]: 100%|██████████| 300/300 [00:02<00:00, 129.61img/s]\n"
     ]
    },
    {
     "name": "stdout",
     "output_type": "stream",
     "text": [
      "Completed creating customdata\\train\\sashimi\n",
      "\n"
     ]
    },
    {
     "name": "stderr",
     "output_type": "stream",
     "text": [
      "    Test [sashimi]: 100%|██████████| 100/100 [00:00<00:00, 131.73img/s]\n"
     ]
    },
    {
     "name": "stdout",
     "output_type": "stream",
     "text": [
      "Completed creating custom customdata\\test\\sashimi\n",
      "train images for scallops: 300\n",
      "test images for scallops: 100\n",
      "\n"
     ]
    },
    {
     "name": "stderr",
     "output_type": "stream",
     "text": [
      "    Train [scallops]: 100%|██████████| 300/300 [00:02<00:00, 132.76img/s]\n"
     ]
    },
    {
     "name": "stdout",
     "output_type": "stream",
     "text": [
      "Completed creating customdata\\train\\scallops\n",
      "\n"
     ]
    },
    {
     "name": "stderr",
     "output_type": "stream",
     "text": [
      "    Test [scallops]: 100%|██████████| 100/100 [00:00<00:00, 130.31img/s]\n"
     ]
    },
    {
     "name": "stdout",
     "output_type": "stream",
     "text": [
      "Completed creating custom customdata\\test\\scallops\n",
      "train images for seaweed_salad: 300\n",
      "test images for seaweed_salad: 100\n",
      "\n"
     ]
    },
    {
     "name": "stderr",
     "output_type": "stream",
     "text": [
      "    Train [seaweed_salad]: 100%|██████████| 300/300 [00:02<00:00, 130.78img/s]\n"
     ]
    },
    {
     "name": "stdout",
     "output_type": "stream",
     "text": [
      "Completed creating customdata\\train\\seaweed_salad\n",
      "\n"
     ]
    },
    {
     "name": "stderr",
     "output_type": "stream",
     "text": [
      "    Test [seaweed_salad]: 100%|██████████| 100/100 [00:00<00:00, 130.12img/s]\n"
     ]
    },
    {
     "name": "stdout",
     "output_type": "stream",
     "text": [
      "Completed creating custom customdata\\test\\seaweed_salad\n",
      "train images for shrimp_and_grits: 300\n",
      "test images for shrimp_and_grits: 100\n",
      "\n"
     ]
    },
    {
     "name": "stderr",
     "output_type": "stream",
     "text": [
      "    Train [shrimp_and_grits]: 100%|██████████| 300/300 [00:02<00:00, 130.81img/s]\n"
     ]
    },
    {
     "name": "stdout",
     "output_type": "stream",
     "text": [
      "Completed creating customdata\\train\\shrimp_and_grits\n",
      "\n"
     ]
    },
    {
     "name": "stderr",
     "output_type": "stream",
     "text": [
      "    Test [shrimp_and_grits]: 100%|██████████| 100/100 [00:00<00:00, 117.50img/s]\n"
     ]
    },
    {
     "name": "stdout",
     "output_type": "stream",
     "text": [
      "Completed creating custom customdata\\test\\shrimp_and_grits\n",
      "train images for spaghetti_bolognese: 300\n",
      "test images for spaghetti_bolognese: 100\n",
      "\n"
     ]
    },
    {
     "name": "stderr",
     "output_type": "stream",
     "text": [
      "    Train [spaghetti_bolognese]: 100%|██████████| 300/300 [00:02<00:00, 126.59img/s]\n"
     ]
    },
    {
     "name": "stdout",
     "output_type": "stream",
     "text": [
      "Completed creating customdata\\train\\spaghetti_bolognese\n",
      "\n"
     ]
    },
    {
     "name": "stderr",
     "output_type": "stream",
     "text": [
      "    Test [spaghetti_bolognese]: 100%|██████████| 100/100 [00:00<00:00, 130.43img/s]\n"
     ]
    },
    {
     "name": "stdout",
     "output_type": "stream",
     "text": [
      "Completed creating custom customdata\\test\\spaghetti_bolognese\n",
      "train images for spaghetti_carbonara: 300\n",
      "test images for spaghetti_carbonara: 100\n",
      "\n"
     ]
    },
    {
     "name": "stderr",
     "output_type": "stream",
     "text": [
      "    Train [spaghetti_carbonara]: 100%|██████████| 300/300 [00:02<00:00, 125.48img/s]\n"
     ]
    },
    {
     "name": "stdout",
     "output_type": "stream",
     "text": [
      "Completed creating customdata\\train\\spaghetti_carbonara\n",
      "\n"
     ]
    },
    {
     "name": "stderr",
     "output_type": "stream",
     "text": [
      "    Test [spaghetti_carbonara]: 100%|██████████| 100/100 [00:00<00:00, 120.66img/s]\n"
     ]
    },
    {
     "name": "stdout",
     "output_type": "stream",
     "text": [
      "Completed creating custom customdata\\test\\spaghetti_carbonara\n",
      "train images for spring_rolls: 300\n",
      "test images for spring_rolls: 100\n",
      "\n"
     ]
    },
    {
     "name": "stderr",
     "output_type": "stream",
     "text": [
      "    Train [spring_rolls]: 100%|██████████| 300/300 [00:02<00:00, 131.94img/s]\n"
     ]
    },
    {
     "name": "stdout",
     "output_type": "stream",
     "text": [
      "Completed creating customdata\\train\\spring_rolls\n",
      "\n"
     ]
    },
    {
     "name": "stderr",
     "output_type": "stream",
     "text": [
      "    Test [spring_rolls]: 100%|██████████| 100/100 [00:00<00:00, 135.06img/s]\n"
     ]
    },
    {
     "name": "stdout",
     "output_type": "stream",
     "text": [
      "Completed creating custom customdata\\test\\spring_rolls\n",
      "train images for steak: 300\n",
      "test images for steak: 100\n",
      "\n"
     ]
    },
    {
     "name": "stderr",
     "output_type": "stream",
     "text": [
      "    Train [steak]: 100%|██████████| 300/300 [00:02<00:00, 128.84img/s]\n"
     ]
    },
    {
     "name": "stdout",
     "output_type": "stream",
     "text": [
      "Completed creating customdata\\train\\steak\n",
      "\n"
     ]
    },
    {
     "name": "stderr",
     "output_type": "stream",
     "text": [
      "    Test [steak]: 100%|██████████| 100/100 [00:01<00:00, 96.10img/s]\n"
     ]
    },
    {
     "name": "stdout",
     "output_type": "stream",
     "text": [
      "Completed creating custom customdata\\test\\steak\n",
      "train images for strawberry_shortcake: 300\n",
      "test images for strawberry_shortcake: 100\n",
      "\n"
     ]
    },
    {
     "name": "stderr",
     "output_type": "stream",
     "text": [
      "    Train [strawberry_shortcake]: 100%|██████████| 300/300 [00:03<00:00, 85.15img/s] \n"
     ]
    },
    {
     "name": "stdout",
     "output_type": "stream",
     "text": [
      "Completed creating customdata\\train\\strawberry_shortcake\n",
      "\n"
     ]
    },
    {
     "name": "stderr",
     "output_type": "stream",
     "text": [
      "    Test [strawberry_shortcake]: 100%|██████████| 100/100 [00:01<00:00, 79.26img/s]\n"
     ]
    },
    {
     "name": "stdout",
     "output_type": "stream",
     "text": [
      "Completed creating custom customdata\\test\\strawberry_shortcake\n",
      "train images for sushi: 300\n",
      "test images for sushi: 100\n",
      "\n"
     ]
    },
    {
     "name": "stderr",
     "output_type": "stream",
     "text": [
      "    Train [sushi]: 100%|██████████| 300/300 [00:02<00:00, 112.05img/s]\n"
     ]
    },
    {
     "name": "stdout",
     "output_type": "stream",
     "text": [
      "Completed creating customdata\\train\\sushi\n",
      "\n"
     ]
    },
    {
     "name": "stderr",
     "output_type": "stream",
     "text": [
      "    Test [sushi]: 100%|██████████| 100/100 [00:00<00:00, 114.33img/s]\n"
     ]
    },
    {
     "name": "stdout",
     "output_type": "stream",
     "text": [
      "Completed creating custom customdata\\test\\sushi\n",
      "train images for tacos: 300\n",
      "test images for tacos: 100\n",
      "\n"
     ]
    },
    {
     "name": "stderr",
     "output_type": "stream",
     "text": [
      "    Train [tacos]: 100%|██████████| 300/300 [00:03<00:00, 93.84img/s] \n"
     ]
    },
    {
     "name": "stdout",
     "output_type": "stream",
     "text": [
      "Completed creating customdata\\train\\tacos\n",
      "\n"
     ]
    },
    {
     "name": "stderr",
     "output_type": "stream",
     "text": [
      "    Test [tacos]: 100%|██████████| 100/100 [00:01<00:00, 96.69img/s]\n"
     ]
    },
    {
     "name": "stdout",
     "output_type": "stream",
     "text": [
      "Completed creating custom customdata\\test\\tacos\n",
      "train images for takoyaki: 300\n",
      "test images for takoyaki: 100\n",
      "\n"
     ]
    },
    {
     "name": "stderr",
     "output_type": "stream",
     "text": [
      "    Train [takoyaki]: 100%|██████████| 300/300 [00:02<00:00, 104.69img/s]\n"
     ]
    },
    {
     "name": "stdout",
     "output_type": "stream",
     "text": [
      "Completed creating customdata\\train\\takoyaki\n",
      "\n"
     ]
    },
    {
     "name": "stderr",
     "output_type": "stream",
     "text": [
      "    Test [takoyaki]: 100%|██████████| 100/100 [00:00<00:00, 106.86img/s]\n"
     ]
    },
    {
     "name": "stdout",
     "output_type": "stream",
     "text": [
      "Completed creating custom customdata\\test\\takoyaki\n",
      "train images for tiramisu: 300\n",
      "test images for tiramisu: 100\n",
      "\n"
     ]
    },
    {
     "name": "stderr",
     "output_type": "stream",
     "text": [
      "    Train [tiramisu]: 100%|██████████| 300/300 [00:02<00:00, 105.58img/s]\n"
     ]
    },
    {
     "name": "stdout",
     "output_type": "stream",
     "text": [
      "Completed creating customdata\\train\\tiramisu\n",
      "\n"
     ]
    },
    {
     "name": "stderr",
     "output_type": "stream",
     "text": [
      "    Test [tiramisu]: 100%|██████████| 100/100 [00:00<00:00, 103.96img/s]\n"
     ]
    },
    {
     "name": "stdout",
     "output_type": "stream",
     "text": [
      "Completed creating custom customdata\\test\\tiramisu\n",
      "train images for tuna_tartare: 300\n",
      "test images for tuna_tartare: 100\n",
      "\n"
     ]
    },
    {
     "name": "stderr",
     "output_type": "stream",
     "text": [
      "    Train [tuna_tartare]: 100%|██████████| 300/300 [00:02<00:00, 104.03img/s]\n"
     ]
    },
    {
     "name": "stdout",
     "output_type": "stream",
     "text": [
      "Completed creating customdata\\train\\tuna_tartare\n",
      "\n"
     ]
    },
    {
     "name": "stderr",
     "output_type": "stream",
     "text": [
      "    Test [tuna_tartare]: 100%|██████████| 100/100 [00:01<00:00, 96.68img/s]\n"
     ]
    },
    {
     "name": "stdout",
     "output_type": "stream",
     "text": [
      "Completed creating custom customdata\\test\\tuna_tartare\n",
      "train images for waffles: 300\n",
      "test images for waffles: 100\n",
      "\n"
     ]
    },
    {
     "name": "stderr",
     "output_type": "stream",
     "text": [
      "    Train [waffles]: 100%|██████████| 300/300 [00:02<00:00, 110.73img/s]\n"
     ]
    },
    {
     "name": "stdout",
     "output_type": "stream",
     "text": [
      "Completed creating customdata\\train\\waffles\n",
      "\n"
     ]
    },
    {
     "name": "stderr",
     "output_type": "stream",
     "text": [
      "    Test [waffles]: 100%|██████████| 100/100 [00:00<00:00, 110.98img/s]"
     ]
    },
    {
     "name": "stdout",
     "output_type": "stream",
     "text": [
      "Completed creating custom customdata\\test\\waffles\n"
     ]
    },
    {
     "name": "stderr",
     "output_type": "stream",
     "text": [
      "\n"
     ]
    }
   ],
   "source": [
    "import random\n",
    "from pathlib import Path\n",
    "import shutil\n",
    "from tqdm import tqdm\n",
    "\n",
    "def create_custom_data(data_loc: Path, train_loc: Path, test_loc: Path, classes: list, size: int = 40, train_test_split: int = 75) -> None:\n",
    "    \"\"\"\n",
    "    This function is used to create a custom data for using in PyTorch's ImageFolder.\n",
    "    Function will randomly select the size% of data given byt the user.\n",
    "    It will then split that data into train and test folders based on the train_test_split value given by the user\n",
    "    \"\"\"\n",
    "    for classname in classes:\n",
    "        #setup the individual class path\n",
    "        class_path = Path(data_loc/classname)\n",
    "        #get all the files from a class_path\n",
    "        files = list(class_path.rglob(\"*\"))\n",
    "        #randomly select size% of the files\n",
    "        random_files = random.sample(files, int((size/100)*len(files)))\n",
    "\n",
    "        #split the random file to train and test\n",
    "        train_images = random_files[:int(train_test_split/100 * len(random_files))]\n",
    "        print(f\"train images for {classname}: {len(train_images)}\")\n",
    "        test_images = random_files[int(train_test_split/100 * len(random_files)):]\n",
    "        print(f\"test images for {classname}: {len(test_images)}\\n\")\n",
    "\n",
    "        #copy the images to respective folders\n",
    "        for image in tqdm(train_images, desc=f\"    Train [{classname}]\", unit=\"img\"):\n",
    "            parent_folder = image.parent.name\n",
    "            \n",
    "            #copy it into train_loc/parent_folder\n",
    "            dest_path = train_loc/parent_folder\n",
    "            dest_path.mkdir(parents=True, exist_ok=True)\n",
    "        \n",
    "            shutil.copy2(image, dest_path)\n",
    "        print(f\"Completed creating {dest_path}\\n\")\n",
    "        \n",
    "        #copy the test images to respective filder\n",
    "        for image in tqdm(test_images, desc=f\"    Test [{classname}]\", unit=\"img\"):\n",
    "            parent_folder = image.parent.name\n",
    "\n",
    "            dest_path = test_loc/parent_folder\n",
    "            dest_path.mkdir(parents=True, exist_ok=True)\n",
    "            shutil.copy2(image, dest_path)\n",
    "        print(f\"Completed creating custom {dest_path}\")\n",
    "        \n",
    "\n",
    "create_custom_data(\n",
    "                data_loc=data_dir,\n",
    "                train_loc=custom_train_loc,\n",
    "                test_loc=custom_test_loc,\n",
    "                classes=classes)"
   ]
  },
  {
   "cell_type": "code",
   "execution_count": 35,
   "id": "6f2f1472",
   "metadata": {},
   "outputs": [
    {
     "name": "stdout",
     "output_type": "stream",
     "text": [
      "total no of train images:30300\n",
      "total no of test images:10100\n",
      "No of train images per class:300\n",
      "No of test images per class:100\n"
     ]
    }
   ],
   "source": [
    "files_in_custom_train = list(custom_train_loc.rglob(\"*/*\"))\n",
    "files_in_custom_test = list(custom_test_loc.rglob(\"*/*\"))\n",
    "\n",
    "print(f\"total no of train images:{len(files_in_custom_train)}\")\n",
    "print(f\"total no of test images:{len(files_in_custom_test)}\")\n",
    "print(f\"No of train images per class:{len(list((custom_train_loc / classes[0]).rglob('*')))}\")\n",
    "print(f\"No of test images per class:{len(list((custom_test_loc / classes[0]).rglob('*')))}\")"
   ]
  }
 ],
 "metadata": {
  "kernelspec": {
   "display_name": "mlvenv",
   "language": "python",
   "name": "python3"
  },
  "language_info": {
   "codemirror_mode": {
    "name": "ipython",
    "version": 3
   },
   "file_extension": ".py",
   "mimetype": "text/x-python",
   "name": "python",
   "nbconvert_exporter": "python",
   "pygments_lexer": "ipython3",
   "version": "3.11.5"
  }
 },
 "nbformat": 4,
 "nbformat_minor": 5
}
