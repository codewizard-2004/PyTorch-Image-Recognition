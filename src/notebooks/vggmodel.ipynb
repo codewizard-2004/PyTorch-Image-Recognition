{
 "cells": [
  {
   "cell_type": "markdown",
   "id": "351ab95e",
   "metadata": {},
   "source": [
    "# Running the small pizza_steak_sushi dataset on VGG16 model"
   ]
  },
  {
   "cell_type": "code",
   "execution_count": 1,
   "id": "93c1cc42",
   "metadata": {},
   "outputs": [
    {
     "data": {
      "text/plain": [
       "device(type='cuda')"
      ]
     },
     "execution_count": 1,
     "metadata": {},
     "output_type": "execute_result"
    }
   ],
   "source": [
    "import torch\n",
    "from torch import nn\n",
    "import torchvision\n",
    "import sys\n",
    "import os\n",
    "\n",
    "sys.path.append(os.path.abspath(\"..\"))\n",
    "\n",
    "device  = torch.device(\"cuda\") if torch.cuda.is_available() else torch.device(\"cpu\")\n",
    "device"
   ]
  },
  {
   "cell_type": "markdown",
   "id": "d0f078d6",
   "metadata": {},
   "source": [
    "# Importing the model"
   ]
  },
  {
   "cell_type": "code",
   "execution_count": 2,
   "id": "a89cdd20",
   "metadata": {},
   "outputs": [
    {
     "data": {
      "text/plain": [
       "VGG16Lite(\n",
       "  (conv_block_1): Sequential(\n",
       "    (0): Conv2d(3, 64, kernel_size=(3, 3), stride=(1, 1), padding=(1, 1))\n",
       "    (1): BatchNorm2d(64, eps=1e-05, momentum=0.1, affine=True, track_running_stats=True)\n",
       "    (2): ReLU()\n",
       "    (3): Conv2d(64, 64, kernel_size=(3, 3), stride=(1, 1), padding=(1, 1))\n",
       "    (4): BatchNorm2d(64, eps=1e-05, momentum=0.1, affine=True, track_running_stats=True)\n",
       "    (5): ReLU()\n",
       "    (6): MaxPool2d(kernel_size=2, stride=2, padding=0, dilation=1, ceil_mode=False)\n",
       "  )\n",
       "  (conv_block_2): Sequential(\n",
       "    (0): Conv2d(64, 128, kernel_size=(3, 3), stride=(1, 1), padding=(1, 1))\n",
       "    (1): BatchNorm2d(128, eps=1e-05, momentum=0.1, affine=True, track_running_stats=True)\n",
       "    (2): ReLU()\n",
       "    (3): Conv2d(128, 128, kernel_size=(3, 3), stride=(1, 1), padding=(1, 1))\n",
       "    (4): BatchNorm2d(128, eps=1e-05, momentum=0.1, affine=True, track_running_stats=True)\n",
       "    (5): ReLU()\n",
       "    (6): MaxPool2d(kernel_size=2, stride=2, padding=0, dilation=1, ceil_mode=False)\n",
       "  )\n",
       "  (conv_block_3): Sequential(\n",
       "    (0): Conv2d(128, 256, kernel_size=(3, 3), stride=(1, 1), padding=(1, 1))\n",
       "    (1): BatchNorm2d(256, eps=1e-05, momentum=0.1, affine=True, track_running_stats=True)\n",
       "    (2): ReLU()\n",
       "    (3): Conv2d(256, 256, kernel_size=(3, 3), stride=(1, 1), padding=(1, 1))\n",
       "    (4): BatchNorm2d(256, eps=1e-05, momentum=0.1, affine=True, track_running_stats=True)\n",
       "    (5): ReLU()\n",
       "    (6): MaxPool2d(kernel_size=2, stride=2, padding=0, dilation=1, ceil_mode=False)\n",
       "  )\n",
       "  (global_pool): AdaptiveAvgPool2d(output_size=(1, 1))\n",
       "  (classifier): Sequential(\n",
       "    (0): Flatten(start_dim=1, end_dim=-1)\n",
       "    (1): Linear(in_features=256, out_features=512, bias=True)\n",
       "    (2): ReLU()\n",
       "    (3): Dropout(p=0.5, inplace=False)\n",
       "    (4): Linear(in_features=512, out_features=3, bias=True)\n",
       "  )\n",
       ")"
      ]
     },
     "execution_count": 2,
     "metadata": {},
     "output_type": "execute_result"
    }
   ],
   "source": [
    "from models.modelclass.models import VGG16Lite\n",
    "\n",
    "model_0 = VGG16Lite(num_classes = 3)\n",
    "model_0.to(device)"
   ]
  },
  {
   "cell_type": "markdown",
   "id": "17cf9903",
   "metadata": {},
   "source": [
    "# creating the dataset"
   ]
  },
  {
   "cell_type": "code",
   "execution_count": 3,
   "id": "13d8a574",
   "metadata": {},
   "outputs": [
    {
     "name": "stdout",
     "output_type": "stream",
     "text": [
      "pizza_steak_sushi\\train\n",
      "pizza_steak_sushi\\test\n"
     ]
    }
   ],
   "source": [
    "from pathlib import Path\n",
    "\n",
    "data_dir = Path(\"./pizza_steak_sushi\")\n",
    "train_dir = data_dir / \"train\"\n",
    "test_dir = data_dir / \"test\"\n",
    "\n",
    "print(train_dir)\n",
    "print(test_dir)"
   ]
  },
  {
   "cell_type": "code",
   "execution_count": 4,
   "id": "3c9524eb",
   "metadata": {},
   "outputs": [
    {
     "name": "stdout",
     "output_type": "stream",
     "text": [
      "Train transform: Compose(\n",
      "    Resize(size=(224, 224), interpolation=bilinear, max_size=None, antialias=True)\n",
      "    RandomHorizontalFlip(p=0.5)\n",
      "    RandomRotation(degrees=[-10.0, 10.0], interpolation=nearest, expand=False, fill=0)\n",
      "    ColorJitter(brightness=(0.8, 1.2), contrast=(0.8, 1.2), saturation=None, hue=None)\n",
      "    ToTensor()\n",
      "    Normalize(mean=[0.485, 0.456, 0.406], std=[0.229, 0.224, 0.225])\n",
      ")\n",
      "Test transform: Compose(\n",
      "    Resize(size=(224, 224), interpolation=bilinear, max_size=None, antialias=True)\n",
      "    ToTensor()\n",
      "    Normalize(mean=[0.485, 0.456, 0.406], std=[0.229, 0.224, 0.225])\n",
      ")\n"
     ]
    }
   ],
   "source": [
    "from torchvision import transforms\n",
    "\n",
    "mean, std = [0.485, 0.456, 0.406], [0.229, 0.224, 0.225]\n",
    "\n",
    "train_transform = transforms.Compose([\n",
    "    transforms.Resize((224, 224)),\n",
    "    transforms.RandomHorizontalFlip(),\n",
    "    transforms.RandomRotation(10),\n",
    "    transforms.ColorJitter(brightness=0.2, contrast=0.2),\n",
    "    #transforms.TrivialAugmentWide(),  # Still lightweight\n",
    "    transforms.ToTensor(),\n",
    "    transforms.Normalize(mean, std)\n",
    "])\n",
    "\n",
    "\n",
    "test_transform = transforms.Compose([\n",
    "    transforms.Resize(size = (224 , 224)),\n",
    "    transforms.ToTensor(),\n",
    "    transforms.Normalize(                     # Normalize to ImageNet mean/std\n",
    "        mean=[0.485, 0.456, 0.406],\n",
    "        std=[0.229, 0.224, 0.225]\n",
    "    )\n",
    "])\n",
    "\n",
    "print(f\"Train transform: {train_transform}\")\n",
    "print(f\"Test transform: {test_transform}\")"
   ]
  },
  {
   "cell_type": "code",
   "execution_count": 5,
   "id": "18dd3ed7",
   "metadata": {},
   "outputs": [
    {
     "name": "stdout",
     "output_type": "stream",
     "text": [
      "Dataset ImageFolder\n",
      "    Number of datapoints: 1240\n",
      "    Root location: pizza_steak_sushi\\train\n",
      "    StandardTransform\n",
      "Transform: Compose(\n",
      "               Resize(size=(224, 224), interpolation=bilinear, max_size=None, antialias=True)\n",
      "               RandomHorizontalFlip(p=0.5)\n",
      "               RandomRotation(degrees=[-10.0, 10.0], interpolation=nearest, expand=False, fill=0)\n",
      "               ColorJitter(brightness=(0.8, 1.2), contrast=(0.8, 1.2), saturation=None, hue=None)\n",
      "               ToTensor()\n",
      "               Normalize(mean=[0.485, 0.456, 0.406], std=[0.229, 0.224, 0.225])\n",
      "           )\n",
      "Dataset ImageFolder\n",
      "    Number of datapoints: 362\n",
      "    Root location: pizza_steak_sushi\\test\n",
      "    StandardTransform\n",
      "Transform: Compose(\n",
      "               Resize(size=(224, 224), interpolation=bilinear, max_size=None, antialias=True)\n",
      "               ToTensor()\n",
      "               Normalize(mean=[0.485, 0.456, 0.406], std=[0.229, 0.224, 0.225])\n",
      "           )\n",
      "['pizza', 'steak', 'sushi']\n"
     ]
    }
   ],
   "source": [
    "from torchvision.datasets import ImageFolder\n",
    "\n",
    "train_dataset = ImageFolder(\n",
    "    root = train_dir,\n",
    "    transform = train_transform   \n",
    ")\n",
    "\n",
    "test_dataset = ImageFolder(\n",
    "    root = test_dir,\n",
    "    transform = test_transform\n",
    ")\n",
    "\n",
    "print(train_dataset)\n",
    "print(test_dataset)\n",
    "classes = train_dataset.classes\n",
    "print(classes)"
   ]
  },
  {
   "cell_type": "code",
   "execution_count": 6,
   "id": "4156ee5d",
   "metadata": {},
   "outputs": [],
   "source": [
    "from torch.utils.data import DataLoader\n",
    "\n",
    "BATCH_SIZE = 32\n",
    "\n",
    "\n",
    "train_dataloader = DataLoader(\n",
    "    dataset = train_dataset,\n",
    "    batch_size = BATCH_SIZE,\n",
    "    num_workers = 0,\n",
    "    shuffle = True,\n",
    "    pin_memory = True\n",
    ")\n",
    "\n",
    "test_dataloader = DataLoader(\n",
    "    dataset = test_dataset,\n",
    "    batch_size = BATCH_SIZE,\n",
    "    num_workers = 0,\n",
    "    shuffle = False,\n",
    "    pin_memory = True\n",
    ")"
   ]
  },
  {
   "cell_type": "code",
   "execution_count": 7,
   "id": "697a625d",
   "metadata": {},
   "outputs": [
    {
     "name": "stdout",
     "output_type": "stream",
     "text": [
      "torch.Size([32, 3, 224, 224])\n"
     ]
    }
   ],
   "source": [
    "image, label = next(iter(train_dataloader))\n",
    "print(image.shape)"
   ]
  },
  {
   "cell_type": "code",
   "execution_count": 8,
   "id": "185be9cb",
   "metadata": {},
   "outputs": [
    {
     "data": {
      "text/plain": [
       "==========================================================================================\n",
       "Layer (type:depth-idx)                   Output Shape              Param #\n",
       "==========================================================================================\n",
       "VGG16Lite                                [32, 3]                   --\n",
       "├─Sequential: 1-1                        [32, 64, 112, 112]        --\n",
       "│    └─Conv2d: 2-1                       [32, 64, 224, 224]        1,792\n",
       "│    └─BatchNorm2d: 2-2                  [32, 64, 224, 224]        128\n",
       "│    └─ReLU: 2-3                         [32, 64, 224, 224]        --\n",
       "│    └─Conv2d: 2-4                       [32, 64, 224, 224]        36,928\n",
       "│    └─BatchNorm2d: 2-5                  [32, 64, 224, 224]        128\n",
       "│    └─ReLU: 2-6                         [32, 64, 224, 224]        --\n",
       "│    └─MaxPool2d: 2-7                    [32, 64, 112, 112]        --\n",
       "├─Sequential: 1-2                        [32, 128, 56, 56]         --\n",
       "│    └─Conv2d: 2-8                       [32, 128, 112, 112]       73,856\n",
       "│    └─BatchNorm2d: 2-9                  [32, 128, 112, 112]       256\n",
       "│    └─ReLU: 2-10                        [32, 128, 112, 112]       --\n",
       "│    └─Conv2d: 2-11                      [32, 128, 112, 112]       147,584\n",
       "│    └─BatchNorm2d: 2-12                 [32, 128, 112, 112]       256\n",
       "│    └─ReLU: 2-13                        [32, 128, 112, 112]       --\n",
       "│    └─MaxPool2d: 2-14                   [32, 128, 56, 56]         --\n",
       "├─Sequential: 1-3                        [32, 256, 28, 28]         --\n",
       "│    └─Conv2d: 2-15                      [32, 256, 56, 56]         295,168\n",
       "│    └─BatchNorm2d: 2-16                 [32, 256, 56, 56]         512\n",
       "│    └─ReLU: 2-17                        [32, 256, 56, 56]         --\n",
       "│    └─Conv2d: 2-18                      [32, 256, 56, 56]         590,080\n",
       "│    └─BatchNorm2d: 2-19                 [32, 256, 56, 56]         512\n",
       "│    └─ReLU: 2-20                        [32, 256, 56, 56]         --\n",
       "│    └─MaxPool2d: 2-21                   [32, 256, 28, 28]         --\n",
       "├─AdaptiveAvgPool2d: 1-4                 [32, 256, 1, 1]           --\n",
       "├─Sequential: 1-5                        [32, 3]                   --\n",
       "│    └─Flatten: 2-22                     [32, 256]                 --\n",
       "│    └─Linear: 2-23                      [32, 512]                 131,584\n",
       "│    └─ReLU: 2-24                        [32, 512]                 --\n",
       "│    └─Dropout: 2-25                     [32, 512]                 --\n",
       "│    └─Linear: 2-26                      [32, 3]                   1,539\n",
       "==========================================================================================\n",
       "Total params: 1,280,323\n",
       "Trainable params: 1,280,323\n",
       "Non-trainable params: 0\n",
       "Total mult-adds (Units.GIGABYTES): 239.90\n",
       "==========================================================================================\n",
       "Input size (MB): 19.27\n",
       "Forward/backward pass size (MB): 5754.72\n",
       "Params size (MB): 5.12\n",
       "Estimated Total Size (MB): 5779.11\n",
       "=========================================================================================="
      ]
     },
     "execution_count": 8,
     "metadata": {},
     "output_type": "execute_result"
    }
   ],
   "source": [
    "from torchinfo import summary\n",
    "\n",
    "summary(model_0 , input_size=(32,3,224,224))"
   ]
  },
  {
   "cell_type": "code",
   "execution_count": 9,
   "id": "dbe7def0",
   "metadata": {},
   "outputs": [],
   "source": [
    "from torch.optim import Adam\n",
    "from torch import nn\n",
    "\n",
    "optimizer = Adam(model_0.parameters(), lr=0.001)\n",
    "loss_fn = nn.CrossEntropyLoss()\n",
    "scheduler = torch.optim.lr_scheduler.StepLR(optimizer, step_size=5, gamma=0.5)\n",
    "# scheduler = torch.optim.lr_scheduler.ReduceLROnPlateau(optimizer, mode='min', patience=2, factor=0.5) # type: ignore\n"
   ]
  },
  {
   "cell_type": "code",
   "execution_count": 10,
   "id": "8c5bb1be",
   "metadata": {},
   "outputs": [
    {
     "name": "stdout",
     "output_type": "stream",
     "text": [
      "starting....\n"
     ]
    },
    {
     "data": {
      "application/vnd.jupyter.widget-view+json": {
       "model_id": "0d37026ff3be45bd8a8eecbc5a6e2058",
       "version_major": 2,
       "version_minor": 0
      },
      "text/plain": [
       "  0%|          | 0/20 [00:00<?, ?it/s]"
      ]
     },
     "metadata": {},
     "output_type": "display_data"
    },
    {
     "name": "stdout",
     "output_type": "stream",
     "text": [
      "[] Allocated: 13.02 MB | Reserved: 1222.00 MB\n"
     ]
    },
    {
     "name": "stderr",
     "output_type": "stream",
     "text": [
      "d:\\FoodNet\\mlvenv\\Lib\\site-packages\\torch\\optim\\lr_scheduler.py:198: UserWarning: The epoch parameter in `scheduler.step()` was not necessary and is being deprecated where possible. Please use `scheduler.step()` to step the scheduler. During the deprecation, if epoch is different from None, the closed form is used instead of the new chainable form, where available. Please open an issue if you are unable to replicate your use case: https://github.com/pytorch/pytorch/issues/new/choose.\n",
      "  warnings.warn(EPOCH_DEPRECATION_WARNING, UserWarning)\n"
     ]
    },
    {
     "name": "stdout",
     "output_type": "stream",
     "text": [
      "Epoch:0\tTrain Loss:0.9737\tTrain Acc:0.5246\tTest Loss:0.9614\tTest Acc:0.5635\n",
      "[] Allocated: 36.18 MB | Reserved: 5260.00 MB\n",
      "Epoch:1\tTrain Loss:0.8983\tTrain Acc:0.5900\tTest Loss:0.8684\tTest Acc:0.6130\n",
      "[] Allocated: 36.18 MB | Reserved: 5260.00 MB\n",
      "Epoch:2\tTrain Loss:0.8267\tTrain Acc:0.6282\tTest Loss:1.1914\tTest Acc:0.4865\n",
      "[] Allocated: 36.18 MB | Reserved: 5260.00 MB\n",
      "Epoch:3\tTrain Loss:0.8082\tTrain Acc:0.6282\tTest Loss:0.7828\tTest Acc:0.6432\n",
      "[] Allocated: 36.18 MB | Reserved: 5260.00 MB\n",
      "Epoch:4\tTrain Loss:0.7786\tTrain Acc:0.6699\tTest Loss:0.7608\tTest Acc:0.6781\n",
      "[] Allocated: 36.18 MB | Reserved: 5260.00 MB\n",
      "Epoch:5\tTrain Loss:0.7417\tTrain Acc:0.6931\tTest Loss:0.8077\tTest Acc:0.6474\n",
      "[] Allocated: 36.18 MB | Reserved: 5260.00 MB\n",
      "Epoch:6\tTrain Loss:0.7371\tTrain Acc:0.6862\tTest Loss:0.8084\tTest Acc:0.5958\n",
      "[] Allocated: 36.18 MB | Reserved: 5260.00 MB\n",
      "Epoch:7\tTrain Loss:0.6901\tTrain Acc:0.7065\tTest Loss:0.7264\tTest Acc:0.6703\n",
      "[] Allocated: 36.18 MB | Reserved: 5260.00 MB\n",
      "Epoch:8\tTrain Loss:0.6625\tTrain Acc:0.7305\tTest Loss:0.7675\tTest Acc:0.6562\n",
      "[] Allocated: 36.18 MB | Reserved: 5260.00 MB\n",
      "Epoch:9\tTrain Loss:0.6944\tTrain Acc:0.6976\tTest Loss:0.8092\tTest Acc:0.6354\n",
      "[] Allocated: 36.18 MB | Reserved: 5260.00 MB\n",
      "Epoch:10\tTrain Loss:0.6383\tTrain Acc:0.7356\tTest Loss:0.7419\tTest Acc:0.6734\n",
      "[] Allocated: 36.18 MB | Reserved: 5260.00 MB\n",
      "Epoch:11\tTrain Loss:0.5895\tTrain Acc:0.7650\tTest Loss:0.5993\tTest Acc:0.7370\n",
      "[] Allocated: 36.18 MB | Reserved: 5260.00 MB\n",
      "Epoch:12\tTrain Loss:0.6370\tTrain Acc:0.7364\tTest Loss:0.6700\tTest Acc:0.7010\n",
      "[] Allocated: 36.18 MB | Reserved: 5260.00 MB\n",
      "Epoch:13\tTrain Loss:0.6053\tTrain Acc:0.7404\tTest Loss:0.6290\tTest Acc:0.7578\n",
      "[] Allocated: 36.18 MB | Reserved: 5260.00 MB\n",
      "Epoch:14\tTrain Loss:0.5659\tTrain Acc:0.7759\tTest Loss:0.7241\tTest Acc:0.7047\n",
      "[] Allocated: 36.18 MB | Reserved: 5260.00 MB\n",
      "Epoch:15\tTrain Loss:0.5545\tTrain Acc:0.7674\tTest Loss:0.7208\tTest Acc:0.6990\n",
      "[] Allocated: 36.18 MB | Reserved: 5260.00 MB\n",
      "Epoch:16\tTrain Loss:0.5234\tTrain Acc:0.7949\tTest Loss:0.6245\tTest Acc:0.7490\n",
      "[] Allocated: 36.18 MB | Reserved: 5260.00 MB\n",
      "Epoch:17\tTrain Loss:0.5584\tTrain Acc:0.7666\tTest Loss:0.6219\tTest Acc:0.7521\n",
      "[] Allocated: 36.18 MB | Reserved: 5260.00 MB\n",
      "Epoch:18\tTrain Loss:0.5566\tTrain Acc:0.7796\tTest Loss:0.6571\tTest Acc:0.7318\n",
      "[] Allocated: 36.18 MB | Reserved: 5260.00 MB\n",
      "Epoch:19\tTrain Loss:0.5255\tTrain Acc:0.7983\tTest Loss:0.4811\tTest Acc:0.8354\n"
     ]
    }
   ],
   "source": [
    "from helper.Process import run_train_test\n",
    "\n",
    "results = run_train_test(\n",
    "    model = model_0,\n",
    "    train_dataloader=train_dataloader,\n",
    "    test_dataloader=test_dataloader,\n",
    "    optimizer=optimizer,\n",
    "    loss_fn=loss_fn,\n",
    "    scheduler=scheduler,\n",
    "    device= device,\n",
    "    epochs=20\n",
    ")"
   ]
  },
  {
   "cell_type": "code",
   "execution_count": 12,
   "id": "1dadb04c",
   "metadata": {},
   "outputs": [
    {
     "data": {
      "text/plain": [
       "{'train_loss': 0.5255445922032381,\n",
       " 'train_acc': 0.7983440170940171,\n",
       " 'test_loss': 0.48111294706662494,\n",
       " 'test_acc': 0.8354166666666667,\n",
       " 'time': 2094.438308238983}"
      ]
     },
     "execution_count": 12,
     "metadata": {},
     "output_type": "execute_result"
    }
   ],
   "source": [
    "def get_model_final_result(result: dict[str ,float])->dict[str, float]:\n",
    "    model_result = {}\n",
    "    \n",
    "    for i in result:\n",
    "        if i == \"time\":\n",
    "            model_result[i] = result[i]\n",
    "        else:\n",
    "            model_result[i] = result[i][-1]\n",
    "\n",
    "    return model_result\n",
    "\n",
    "model_0_final_results =  get_model_final_result(results)\n",
    "model_0_final_results"
   ]
  },
  {
   "cell_type": "code",
   "execution_count": 13,
   "id": "e98ab6ec",
   "metadata": {},
   "outputs": [
    {
     "data": {
      "image/png": "[encoded data removed]",
      "text/plain": [
       "<Figure size 800x500 with 1 Axes>"
      ]
     },
     "metadata": {},
     "output_type": "display_data"
    }
   ],
   "source": [
    "from helper.Visualize import plot_train_vs_test_loss\n",
    "\n",
    "plot_train_vs_test_loss(results)"
   ]
  },
  {
   "cell_type": "markdown",
   "id": "7efdb83b",
   "metadata": {},
   "source": [
    "## Make some predictions"
   ]
  },
  {
   "cell_type": "code",
   "execution_count": 18,
   "id": "277c39ab",
   "metadata": {},
   "outputs": [
    {
     "name": "stdout",
     "output_type": "stream",
     "text": [
      "total: 1240\n",
      "correct: 1014\n",
      "Incorrect: 226\n",
      "average inference time: 2.5755637096774167\n"
     ]
    }
   ],
   "source": [
    "from helper.model_utils import make_prediction, save_model\n",
    "\n",
    "correct = 0\n",
    "wrong = 0\n",
    "inf_time = 0\n",
    "for data in train_dataset:\n",
    "    prediction, conf, inf = make_prediction(model_0, data, classes, torch.device(device))\n",
    "\n",
    "    if prediction == classes[data[1]]:\n",
    "        correct += 1\n",
    "    else:\n",
    "        wrong += 1\n",
    "    \n",
    "    inf_time +=inf\n",
    "\n",
    "print(f\"total: {correct+wrong}\")\n",
    "print(f\"correct: {correct}\")\n",
    "print(f\"Incorrect: {wrong}\")\n",
    "print(f\"average inference time: {inf_time/(correct+wrong)}\")"
   ]
  },
  {
   "cell_type": "code",
   "execution_count": 21,
   "id": "f10a9883",
   "metadata": {},
   "outputs": [
    {
     "name": "stdout",
     "output_type": "stream",
     "text": [
      "model saved at ..\\models\\vgg16_lite_pizza_steak_sushi.pt\n"
     ]
    }
   ],
   "source": [
    "data = {\n",
    "    \"title\": \"VGG16 Lite\",\n",
    "    \"arch\": \"A lightweight, custom VGG16-inspired CNN with three convolutional blocks, batch normalization, and dropout, designed for efficient small-scale image classification.\",\n",
    "    \"desc\": \"This compact model is tailored for classifying pizza, steak, and sushi images. It uses fewer layers and parameters than standard VGG16, making it suitable for fast training and inference on limited datasets.\",\n",
    "    \"train accuracy\": round(results[\"train_acc\"][-1]*100, 2),\n",
    "    \"training images\": len(train_dataset),\n",
    "    \"parameters\": sum(p.numel() for p in model_0.parameters())\n",
    "}\n",
    "loc = Path(\"../models\")\n",
    "\n",
    "save_model(model=model_0 , metadata=data, name=\"vgg16_lite_pizza_steak_sushi\", loc=loc, device=torch.device(device))"
   ]
  }
 ],
 "metadata": {
  "kernelspec": {
   "display_name": "mlvenv",
   "language": "python",
   "name": "python3"
  },
  "language_info": {
   "codemirror_mode": {
    "name": "ipython",
    "version": 3
   },
   "file_extension": ".py",
   "mimetype": "text/x-python",
   "name": "python",
   "nbconvert_exporter": "python",
   "pygments_lexer": "ipython3",
   "version": "3.11.5"
  }
 },
 "nbformat": 4,
 "nbformat_minor": 5
}
